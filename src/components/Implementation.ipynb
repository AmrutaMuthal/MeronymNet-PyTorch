{
 "cells": [
  {
   "cell_type": "code",
   "execution_count": 1,
   "id": "7cfd1439",
   "metadata": {},
   "outputs": [],
   "source": [
    "%load_ext autoreload\n",
    "%autoreload 2"
   ]
  },
  {
   "cell_type": "code",
   "execution_count": 2,
   "id": "21434d68",
   "metadata": {},
   "outputs": [],
   "source": [
    "import numpy as np\n",
    "import torch\n",
    "import torch.nn as nn\n",
    "import torch.nn.functional as F\n",
    "import torch.optim as optim\n",
    "from torch_geometric.data import Data\n",
    "from torch_geometric.utils import dense_to_sparse, to_dense_adj\n",
    "import copy"
   ]
  },
  {
   "cell_type": "code",
   "execution_count": 3,
   "id": "e88c7fb7",
   "metadata": {},
   "outputs": [],
   "source": [
    "import torch_geometric.nn as gnn"
   ]
  },
  {
   "cell_type": "code",
   "execution_count": 4,
   "id": "2f44e8cd",
   "metadata": {},
   "outputs": [],
   "source": [
    "from torch_geometric.data import DataLoader"
   ]
  },
  {
   "cell_type": "code",
   "execution_count": 5,
   "id": "45dc85fb",
   "metadata": {},
   "outputs": [],
   "source": [
    "import torchvision\n",
    "import torch.utils.data as data_utils\n",
    "from torch.utils.tensorboard import SummaryWriter"
   ]
  },
  {
   "cell_type": "code",
   "execution_count": 6,
   "id": "4e46b5d8",
   "metadata": {},
   "outputs": [],
   "source": [
    "import losses\n",
    "from AutoEncoder import AutoEncoder"
   ]
  },
  {
   "cell_type": "code",
   "execution_count": 7,
   "id": "60044c70",
   "metadata": {},
   "outputs": [],
   "source": [
    "import sys\n",
    "import cv2\n",
    "import os\n",
    "import math\n",
    "import pickle"
   ]
  },
  {
   "cell_type": "code",
   "execution_count": 8,
   "id": "d19349cb",
   "metadata": {},
   "outputs": [],
   "source": [
    "import matplotlib.pyplot as plt"
   ]
  },
  {
   "cell_type": "code",
   "execution_count": 9,
   "id": "4e512f48",
   "metadata": {},
   "outputs": [],
   "source": [
    "colors = [(1, 0, 0),\n",
    "          (0.737, 0.561, 0.561),\n",
    "          (0.255, 0.412, 0.882),\n",
    "          (0.545, 0.271, 0.0745),\n",
    "          (0.98, 0.502, 0.447),\n",
    "          (0.98, 0.643, 0.376),\n",
    "          (0.18, 0.545, 0.341),\n",
    "          (0.502, 0, 0.502),\n",
    "          (0.627, 0.322, 0.176),\n",
    "          (0.753, 0.753, 0.753),\n",
    "          (0.529, 0.808, 0.922),\n",
    "          (0.416, 0.353, 0.804),\n",
    "          (0.439, 0.502, 0.565),\n",
    "          (0.784, 0.302, 0.565),\n",
    "          (0.867, 0.627, 0.867),\n",
    "          (0, 1, 0.498),\n",
    "          (0.275, 0.51, 0.706),\n",
    "          (0.824, 0.706, 0.549),\n",
    "          (0, 0.502, 0.502),\n",
    "          (0.847, 0.749, 0.847),\n",
    "          (1, 0.388, 0.278),\n",
    "          (0.251, 0.878, 0.816),\n",
    "          (0.933, 0.51, 0.933),\n",
    "          (0.961, 0.871, 0.702)]\n",
    "colors = (np.asarray(colors)*255)\n",
    "canvas_size = 550\n",
    "def plot_bbx(bbx):\n",
    "    bbx = bbx*canvas_size\n",
    "    canvas = np.ones((canvas_size,canvas_size,3), np.uint8) * 255\n",
    "    for i, coord in enumerate(bbx):\n",
    "        x_minp, y_minp,x_maxp , y_maxp= coord\n",
    "        if [x_minp, y_minp,x_maxp , y_maxp]!=[0,0,0,0]:\n",
    "            cv2.rectangle(canvas, (int(x_minp), int(y_minp)), (int(x_maxp) , int(y_maxp) ), colors[i], 6)\n",
    "    return canvas\n"
   ]
  },
  {
   "cell_type": "code",
   "execution_count": 10,
   "id": "3855bd88",
   "metadata": {},
   "outputs": [],
   "source": [
    "outfile = 'D:/meronym_data/X_train.np'\n",
    "with open(outfile, 'rb') as pickle_file:\n",
    "    X_train = pickle.load(pickle_file)\n",
    "\n",
    "outfile = 'D:/meronym_data/X_train_val.np'\n",
    "with open(outfile, 'rb') as pickle_file:\n",
    "    X_train_val = pickle.load(pickle_file)\n",
    "\n",
    "outfile = 'D:/meronym_data/class_v.np'\n",
    "with open(outfile, 'rb') as pickle_file:\n",
    "    class_v = pickle.load(pickle_file)\n",
    "\n",
    "outfile = 'D:/meronym_data/class_v_val.np'\n",
    "with open(outfile, 'rb') as pickle_file:\n",
    "    class_v_val = pickle.load(pickle_file)\n",
    "\n",
    "outfile = 'D:/meronym_data/adj_train.np'\n",
    "with open(outfile, 'rb') as pickle_file:\n",
    "    adj_train = pickle.load(pickle_file)\n",
    "\n",
    "outfile = 'D:/meronym_data/adj_train_val.np'\n",
    "with open(outfile, 'rb') as pickle_file:\n",
    "    adj_train_val = pickle.load(pickle_file)"
   ]
  },
  {
   "cell_type": "code",
   "execution_count": 11,
   "id": "7911b483",
   "metadata": {},
   "outputs": [],
   "source": [
    "train_idx = np.random.randint(1,len(X_train),80000)\n",
    "val_idx = np.random.randint(1,len(X_train_val),256)"
   ]
  },
  {
   "cell_type": "code",
   "execution_count": 12,
   "id": "107b2126",
   "metadata": {},
   "outputs": [
    {
     "name": "stderr",
     "output_type": "stream",
     "text": [
      "C:\\Users\\user\\miniconda3\\lib\\site-packages\\torch_geometric\\deprecation.py:13: UserWarning: 'data.DataLoader' is deprecated, use 'loader.DataLoader' instead\n",
      "  warnings.warn(out)\n"
     ]
    }
   ],
   "source": [
    "batch_size = 64\n",
    "train_list =[]\n",
    "for idx, batch in enumerate(zip(copy.deepcopy(X_train[train_idx]),\n",
    "                                copy.deepcopy(class_v[train_idx]),\n",
    "                                copy.deepcopy(adj_train[train_idx]))):\n",
    "    edge_index, _ = dense_to_sparse(torch.from_numpy(batch[2]).float())\n",
    "    train_list.append(Data(x = torch.from_numpy(batch[0]).float(),\n",
    "                           y = torch.from_numpy(batch[1]).float(),\n",
    "                           edge_index = edge_index\n",
    "                                )\n",
    "                     )\n",
    "\n",
    "batch_train_loader = DataLoader(train_list, batch_size=batch_size, pin_memory=True)\n",
    "\n",
    "val_list = []\n",
    "for idx, batch in enumerate(zip(copy.deepcopy(X_train_val[val_idx]),\n",
    "                                copy.deepcopy(class_v_val[val_idx]), \n",
    "                                copy.deepcopy(adj_train_val[val_idx]))):\n",
    "    edge_index, _ = dense_to_sparse(torch.from_numpy(batch[2]).float())\n",
    "    val_list.append(Data(x = torch.from_numpy(batch[0]).float(),\n",
    "                         y = torch.from_numpy(batch[1]).float(),\n",
    "                         edge_index = edge_index\n",
    "                                )\n",
    "                     )\n",
    "batch_val_loader = DataLoader(val_list, batch_size=batch_size, pin_memory=True)"
   ]
  },
  {
   "cell_type": "code",
   "execution_count": 13,
   "id": "ce7be1a5",
   "metadata": {
    "scrolled": true
   },
   "outputs": [
    {
     "name": "stdout",
     "output_type": "stream",
     "text": [
      "torch.Size([1536, 5]) torch.Size([640]) torch.Size([2, 2820])\n",
      "torch.Size([1536, 5]) torch.Size([640]) torch.Size([2, 2770])\n",
      "torch.Size([1536, 5]) torch.Size([640]) torch.Size([2, 2982])\n"
     ]
    }
   ],
   "source": [
    "idx = 0\n",
    "for data in batch_train_loader:\n",
    "    idx+=1\n",
    "    print(data.x.shape,data.y.shape,data.edge_index.shape)\n",
    "    if idx==3:\n",
    "        break"
   ]
  },
  {
   "cell_type": "code",
   "execution_count": 14,
   "id": "9cd8d4a6",
   "metadata": {
    "scrolled": false
   },
   "outputs": [],
   "source": [
    "latent_dims = 64\n",
    "batch_size = 64\n",
    "num_nodes = 24\n",
    "bbx_size = 4\n",
    "num_classes = 10\n",
    "label_shape = 1\n",
    "nb_epochs = 50\n",
    "klw = losses.frange_cycle_linear(nb_epochs*4)\n",
    "learning_rate = 0.00005\n",
    "hidden1 = 32\n",
    "hidden2 = 16\n",
    "hidden3 = 128\n"
   ]
  },
  {
   "cell_type": "code",
   "execution_count": null,
   "id": "5d41ca05",
   "metadata": {
    "scrolled": true
   },
   "outputs": [
    {
     "name": "stderr",
     "output_type": "stream",
     "text": [
      "C:\\Users\\user\\Documents\\Workspace\\MeronymNet-PyTorch\\src\\components\\Decoder.py:45: UserWarning: Implicit dimension choice for softmax has been deprecated. Change the call to include dim=X as an argument.\n",
      "  class_pred = self.act2(self.dense_cls(x))\n"
     ]
    },
    {
     "name": "stdout",
     "output_type": "stream",
     "text": [
      "100\n",
      "200\n",
      "300\n",
      "400\n",
      "500\n",
      "600\n",
      "700\n",
      "800\n",
      "900\n",
      "1000\n",
      "1100\n",
      "1200\n",
      "[1,  1251] loss: 407.462\n",
      "100\n",
      "200\n",
      "300\n",
      "400\n",
      "500\n",
      "600\n",
      "700\n",
      "800\n",
      "900\n",
      "1000\n",
      "1100\n",
      "1200\n",
      "[2,  1251] loss: 385.482\n",
      "100\n",
      "200\n",
      "300\n",
      "400\n",
      "500\n",
      "600\n",
      "700\n",
      "800\n",
      "900\n",
      "1000\n",
      "1100\n",
      "1200\n",
      "[3,  1251] loss: 383.816\n"
     ]
    }
   ],
   "source": [
    "reconstruction_loss_arr = []\n",
    "kl_loss_arr = []\n",
    "bbox_loss_arr = []\n",
    "adj_loss_arr = []\n",
    "node_loss_arr = []\n",
    "\n",
    "reconstruction_loss_val_arr = []\n",
    "kl_loss_val_arr = []\n",
    "bbox_loss_val_arr = []\n",
    "adj_loss_val_arr = []\n",
    "node_loss_val_arr = []\n",
    "\n",
    "vae = AutoEncoder(latent_dims,num_nodes,bbx_size,num_classes,label_shape,hidden1, hidden2, hidden3)\n",
    "vae.cuda()\n",
    "optimizer = optim.Adam(vae.parameters(), lr=learning_rate)\n",
    "writer = SummaryWriter(('D:/meronym_data/runs/80k-ld64-lr-'\n",
    "                        +str(learning_rate)\n",
    "                        +'-batch-'+str(batch_size)\n",
    "                        +'-h1-'+str(hidden1)\n",
    "                        +'-h2-'+str(hidden2)\n",
    "                        +'-h3-'+str(hidden3))\n",
    "                      )\n",
    "icoef = 0\n",
    "\n",
    "for epoch in range(nb_epochs):\n",
    "\n",
    "    batch_loss = torch.tensor([0.0]).cuda()\n",
    "    batch_kl_loss = torch.tensor([0.0]).cuda()\n",
    "    batch_bbox_loss = torch.tensor([0.0]).cuda()\n",
    "    batch_adj_loss = torch.tensor([0.0]).cuda()\n",
    "    batch_node_loss = torch.tensor([0.0]).cuda()\n",
    "    images = []\n",
    "    \n",
    "    vae.train()\n",
    "    i=0\n",
    "    for train_data in batch_train_loader:\n",
    "        \n",
    "        if torch.cuda.is_available():\n",
    "            train_data = train_data.cuda()\n",
    "        \n",
    "        node_data_true = train_data.x\n",
    "        label_true = node_data_true[:,:1]\n",
    "        class_true = train_data.y\n",
    "        adj_true = train_data.edge_index\n",
    "        batch = train_data.batch\n",
    "        \n",
    "        optimizer.zero_grad()\n",
    "        \n",
    "        output = vae(adj_true, node_data_true, label_true , class_true)\n",
    "        node_data_pred, label_pred, adj_pred, class_pred, z_mean, z_logvar = output\n",
    "        \n",
    "        kl_loss = losses.kl_loss(z_mean, z_logvar)\n",
    "        adj_loss = losses.adj_loss(adj_pred, adj_true, batch, num_nodes)\n",
    "        bbox_loss = losses.bbox_loss(node_data_pred, node_data_true[:,1:])\n",
    "        node_loss = losses.node_loss(label_pred,label_true)\n",
    "        class_loss = losses.class_loss(class_pred, class_true)\n",
    "        \n",
    "        kl_weight = klw[icoef]\n",
    "        \n",
    "        reconstruction_loss = kl_loss*kl_weight + (bbox_loss + node_loss + adj_loss + class_loss)*24*5\n",
    "        reconstruction_loss.backward()\n",
    "        optimizer.step()\n",
    "        i+=1\n",
    "      \n",
    "        batch_loss += reconstruction_loss\n",
    "        batch_kl_loss += kl_loss\n",
    "        batch_bbox_loss += bbox_loss\n",
    "        batch_adj_loss += adj_loss\n",
    "        batch_node_loss += node_loss\n",
    "    \n",
    "        if i%100==0:\n",
    "            print(i)\n",
    "            global_step = epoch*len(batch_train_loader)+i\n",
    "            \n",
    "            writer.add_scalar(\"Loss/train/reconstruction_loss\", batch_loss.detach()/(i+1), global_step)\n",
    "            writer.add_scalar(\"Loss/train/kl_loss\", batch_kl_loss.detach()/(i+1), global_step)\n",
    "            writer.add_scalar(\"Loss/train/bbox_loss\", batch_bbox_loss.detach()/(i+1), global_step)\n",
    "            writer.add_scalar(\"Loss/train/adjacency_loss\", batch_adj_loss.detach()/(i+1), global_step)\n",
    "            writer.add_scalar(\"Loss/train/node_loss\", batch_node_loss.detach()/(i+1), global_step)\n",
    "       \n",
    "    global_step = epoch*len(batch_train_loader)+i\n",
    "    image_shape = [num_nodes, bbx_size]\n",
    "\n",
    "    image = plot_bbx(np.reshape((node_data_true[:24,1:]*label_true[:24]).detach().to(\"cpu\").numpy(),\n",
    "                                image_shape)).astype(float)/255\n",
    "    writer.add_image('train/images/input', image, global_step, dataformats='HWC')\n",
    "    image = plot_bbx((node_data_pred[0]*label_true[:24]).detach().to(\"cpu\").numpy()).astype(float)/255\n",
    "    writer.add_image('train/images/generated', image, global_step, dataformats='HWC')\n",
    "    \n",
    "    reconstruction_loss_arr.append(batch_loss.detach()/(i+1))\n",
    "    kl_loss_arr.append(batch_kl_loss.detach()/(i+1))\n",
    "    bbox_loss_arr.append(batch_bbox_loss.detach()/(i+1))\n",
    "    adj_loss_arr.append(batch_adj_loss.detach()/(i+1))\n",
    "    node_loss_arr.append(batch_node_loss.detach()/(i+1))\n",
    "    \n",
    "    \n",
    "    print('[%d, %5d] loss: %.3f' %\n",
    "              (epoch + 1, i + 1, batch_loss/(i+1) ))\n",
    "    \n",
    "    batch_loss = torch.tensor([0.0]).cuda()\n",
    "    batch_kl_loss = torch.tensor([0.0]).cuda()\n",
    "    batch_bbox_loss = torch.tensor([0.0]).cuda()\n",
    "    batch_adj_loss = torch.tensor([0.0]).cuda()\n",
    "    batch_node_loss = torch.tensor([0.0]).cuda()\n",
    "    images = []\n",
    "    vae.eval()\n",
    "    for i, val_data in enumerate(batch_val_loader, 0):\n",
    "        val_data.cuda()\n",
    "        node_data_true = val_data.x\n",
    "        label_true = node_data_true[:,:1]\n",
    "        class_true = val_data.y\n",
    "        adj_true = val_data.edge_index\n",
    "        batch = val_data.batch\n",
    "        \n",
    "        kl_weight = klw[icoef]\n",
    "        \n",
    "        output = vae(adj_true, node_data_true, label_true , class_true)\n",
    "        node_data_pred, label_pred, adj_pred, class_pred, z_mean, z_logvar = output\n",
    "        \n",
    "        kl_loss = losses.kl_loss(z_mean, z_logvar)\n",
    "        adj_loss = losses.adj_loss(adj_pred, adj_true, batch, num_nodes)\n",
    "        bbox_loss = losses.bbox_loss(node_data_pred, node_data_true[:,1:])\n",
    "        node_loss = losses.node_loss(label_pred,label_true)\n",
    "        class_loss = losses.class_loss(class_pred, class_true)\n",
    "        \n",
    "        reconstruction_loss = kl_loss*kl_weight + (bbox_loss + node_loss + adj_loss + class_loss)*24*5\n",
    "        \n",
    "        batch_loss += reconstruction_loss\n",
    "        batch_kl_loss += kl_loss\n",
    "        batch_bbox_loss += bbox_loss\n",
    "        batch_adj_loss += adj_loss\n",
    "        batch_node_loss += node_loss\n",
    "    \n",
    "    image = plot_bbx(np.reshape((node_data_true[:24,1:]*label_true[:24]).detach().to(\"cpu\").numpy(),\n",
    "                                image_shape)).astype(float)/255\n",
    "    writer.add_image('val/images/input', image, global_step, dataformats='HWC')\n",
    "    image = plot_bbx((node_data_pred[0]*label_true[:24]).detach().to(\"cpu\").numpy()).astype(float)/255\n",
    "    writer.add_image('val/images/generated', image, global_step, dataformats='HWC')\n",
    "\n",
    "    reconstruction_loss_val_arr.append(batch_loss/(i+1))\n",
    "    kl_loss_val_arr.append(batch_kl_loss/(i+1))\n",
    "    bbox_loss_val_arr.append(batch_bbox_loss/(i+1))\n",
    "    adj_loss_val_arr.append(batch_adj_loss/(i+1))\n",
    "    node_loss_val_arr.append(batch_node_loss/(i+1))\n",
    "    \n",
    "    writer.add_scalar(\"Loss/val/reconstruction_loss\", batch_loss.detach()/(i+1), global_step)\n",
    "    writer.add_scalar(\"Loss/val/kl_loss\", batch_kl_loss.detach()/(i+1), global_step)\n",
    "    writer.add_scalar(\"Loss/val/kl_loss\", batch_kl_loss.detach()/(i+1), global_step)\n",
    "    writer.add_scalar(\"Loss/val/bbox_loss\", batch_bbox_loss.detach()/(i+1), global_step)\n",
    "    writer.add_scalar(\"Loss/val/adjacency_loss\", batch_adj_loss.detach()/(i+1), global_step)\n",
    "    writer.add_scalar(\"Loss/val/node_loss\", batch_node_loss.detach()/(i+1), global_step)\n",
    "   \n",
    "    if kl_loss_arr[-1]>0.5 and abs(bbox_loss_arr[-1] - bbox_loss_val_arr[-1]) < 0.02:\n",
    "        icoef = icoef + 1  \n",
    "\n",
    "writer.flush()\n",
    "writer.close()\n",
    "print('Finished Training')"
   ]
  },
  {
   "cell_type": "code",
   "execution_count": null,
   "id": "a5946bec",
   "metadata": {},
   "outputs": [],
   "source": [
    "writer.flush()\n",
    "writer.close()"
   ]
  },
  {
   "cell_type": "code",
   "execution_count": null,
   "id": "9c74550b",
   "metadata": {},
   "outputs": [],
   "source": [
    "output"
   ]
  }
 ],
 "metadata": {
  "kernelspec": {
   "display_name": "Python 3 (ipykernel)",
   "language": "python",
   "name": "python3"
  },
  "language_info": {
   "codemirror_mode": {
    "name": "ipython",
    "version": 3
   },
   "file_extension": ".py",
   "mimetype": "text/x-python",
   "name": "python",
   "nbconvert_exporter": "python",
   "pygments_lexer": "ipython3",
   "version": "3.8.5"
  }
 },
 "nbformat": 4,
 "nbformat_minor": 5
}
