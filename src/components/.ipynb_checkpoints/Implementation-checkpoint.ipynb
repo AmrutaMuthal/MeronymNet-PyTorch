{
 "cells": [
  {
   "cell_type": "code",
   "execution_count": 4,
   "id": "21434d68",
   "metadata": {},
   "outputs": [],
   "source": [
    "import numpy as np\n",
    "import torch\n",
    "import torch.nn as nn\n",
    "import torch.nn.functional as F\n",
    "import torch.optim as optim\n"
   ]
  },
  {
   "cell_type": "code",
   "execution_count": 23,
   "id": "04848158",
   "metadata": {},
   "outputs": [],
   "source": [
    "from torch_geometric.nn import MessagePassing\n",
    "from torch_geometric.utils import remove_self_loops, add_self_loops, dense_to_sparse\n",
    "from torch_geometric.data import Data"
   ]
  },
  {
   "cell_type": "code",
   "execution_count": 46,
   "id": "bed22a83",
   "metadata": {},
   "outputs": [],
   "source": [
    "class Encoder(nn.Module):\n",
    "    \"\"\" Encoder module for AutoEncoder in BoxGCN-VAE. \n",
    "    Args:\n",
    "        num_nodes: number of nodes in the encoder.\n",
    "    \"\"\"\n",
    "    def __init__(self,\n",
    "                 latent_dims,\n",
    "                 num_nodes,\n",
    "                 data_size,\n",
    "                 ):\n",
    "        super(Encoder, self).__init__()\n",
    "       \n",
    "        # Encoder. Add GC layer\n",
    "        self.gconv1 = GCLayer(data_size,32)\n",
    "        self.gconv2 = GCLayer(32,16)\n",
    "        self.dense_boxes = nn.Linear(5, 16)\n",
    "        self.dense_labels = nn.linear(1,16)\n",
    "        self.act = nn.ReLU()\n",
    "        self.add = torch.add()\n",
    "        self.flatten = torch.flatten()\n",
    "        self.dense1 = nn.Linear(16*num_nodes,128)\n",
    "        self.dense2 = nn.Linear(17*num_nodes,128)\n",
    "        self.dense3 = nn.Linear(128,128)\n",
    "        self.concat = torch.cat()\n",
    "        \n",
    "        self.latent = nn.Linear(123,latent_dims)\n",
    "\n",
    "    def forward(self, E, X_data,class_labels):\n",
    "        \n",
    "        x = self.gconv1(X_data,E)\n",
    "        x = self.gconv2(X,E)\n",
    "        x = self.flatten(x)\n",
    "        \n",
    "        boxes = X_data[:,1:]\n",
    "        boxes = self.act(self.dense_boxes(boxes))\n",
    "        \n",
    "        labels = X_data[:,:1]\n",
    "        labels = self.act(self.dense_labels(labels))\n",
    "        \n",
    "        mix = self.add(boxes,labels)\n",
    "        mix = self.flatten(mix)\n",
    "        mix = self.act(self.dense1(mix))\n",
    "        \n",
    "        x = self.concat([class_labels,x])\n",
    "        x = self.act(self.dense2(x))\n",
    "        x = self.add(x,mix)\n",
    "        x = self.act(self.dense3(x))\n",
    "        x = self.act(self.dense3(x))\n",
    "        \n",
    "        z_mean = self.act(self.latent(x))\n",
    "        z_logvar = self.act(self.latent(x))\n",
    "        \n",
    "        return z_mean,z_logvar"
   ]
  },
  {
   "cell_type": "code",
   "execution_count": 47,
   "id": "b828f179",
   "metadata": {},
   "outputs": [
    {
     "data": {
      "text/plain": [
       "tensor([[[[ 6.4714,  0.2287,  0.2034,  ...,  2.4665,  0.0511,  5.1229],\n",
       "          [ 8.0046,  1.1054,  4.2178,  ...,  6.7391,  8.2853,  3.5584],\n",
       "          [ 2.8333,  3.4874,  0.0000,  ...,  2.3832,  2.7975,  3.1580],\n",
       "          ...,\n",
       "          [ 6.4242,  6.2622,  4.8089,  ...,  0.8557,  0.7687,  2.6595],\n",
       "          [ 4.8272,  4.9356,  7.2358,  ...,  1.5183,  6.3316,  4.1390],\n",
       "          [ 8.5096,  7.7990,  3.6040,  ...,  8.2278,  9.6779,  4.2201]],\n",
       "\n",
       "         [[ 7.4707,  6.9643,  2.0873,  ...,  3.9388,  2.6321, 11.8568],\n",
       "          [ 6.1515,  9.8629,  7.2426,  ...,  7.8532,  6.4814,  9.5496],\n",
       "          [ 6.9265, 11.6347,  8.1229,  ...,  7.8073,  7.2392, 10.6673],\n",
       "          ...,\n",
       "          [ 6.8904, 14.7627, 10.5863,  ..., 12.7848,  7.6887, 10.4430],\n",
       "          [ 3.3812, 12.0242,  8.6113,  ...,  9.0487, 13.6381, 12.1212],\n",
       "          [ 1.0070,  8.8674,  9.1750,  ...,  5.6600,  4.8935, 12.9907]],\n",
       "\n",
       "         [[12.2181, 11.5195, 11.5484,  ..., 12.9926, 12.8156,  7.2554],\n",
       "          [ 5.7650,  3.8132,  2.6142,  ...,  3.1110,  0.9108,  0.0000],\n",
       "          [ 1.6122,  4.3086,  3.0258,  ...,  4.4851,  4.0717,  0.5624],\n",
       "          ...,\n",
       "          [ 3.3967,  7.7662,  0.0000,  ...,  6.2269,  2.9907,  0.4655],\n",
       "          [ 1.6964,  8.3546,  2.8137,  ...,  8.9178,  7.1076,  3.3367],\n",
       "          [ 0.0000,  2.4037,  3.8421,  ...,  6.5014,  4.3093,  6.9798]]],\n",
       "\n",
       "\n",
       "        [[[ 0.6579,  6.1602,  6.2870,  ...,  0.7396,  1.8980,  1.6888],\n",
       "          [ 7.0611,  3.9446,  3.1324,  ...,  8.1766,  2.7030,  5.6172],\n",
       "          [ 7.4022,  3.6490, 10.9255,  ...,  5.9876,  3.0140,  3.8823],\n",
       "          ...,\n",
       "          [ 6.0352,  2.1101,  3.4123,  ...,  2.4556,  2.3451,  4.1596],\n",
       "          [ 9.0299,  6.4734,  0.0000,  ...,  5.2313,  1.2715,  0.7893],\n",
       "          [10.2093,  3.8852,  7.2373,  ...,  2.8923,  7.5279,  8.0896]],\n",
       "\n",
       "         [[ 0.6945,  6.4828,  8.1717,  ...,  3.2373,  7.3408,  4.7659],\n",
       "          [ 4.1547,  8.4860,  9.8239,  ...,  9.3267,  8.6745,  9.5231],\n",
       "          [13.3056, 11.1760,  8.2562,  ...,  7.3402, 16.2969,  7.1422],\n",
       "          ...,\n",
       "          [ 9.2729,  9.9382,  7.5084,  ...,  8.2072,  8.6692,  9.3998],\n",
       "          [ 3.5917,  6.9196, 12.0808,  ...,  9.0843,  6.1321, 10.6945],\n",
       "          [ 6.2146,  5.8085,  2.4884,  ...,  4.7021,  3.5112,  9.5299]],\n",
       "\n",
       "         [[13.2344,  9.7978, 11.4796,  ..., 12.8612, 16.3075,  7.4320],\n",
       "          [ 7.5332,  2.1986,  4.0804,  ...,  5.1539,  5.8186,  0.2806],\n",
       "          [ 0.0000,  4.3225,  0.0000,  ...,  1.0143,  4.6279,  2.6879],\n",
       "          ...,\n",
       "          [ 4.8725,  3.3860,  2.4020,  ...,  1.4437,  5.1049,  2.8537],\n",
       "          [ 3.2314,  0.8168,  4.6771,  ...,  0.9460,  0.0000,  3.5358],\n",
       "          [ 7.5429,  0.0000,  3.0939,  ...,  2.9444,  2.0555,  0.0000]]],\n",
       "\n",
       "\n",
       "        [[[ 1.3620,  0.0000,  0.0000,  ...,  0.0000,  7.6385,  2.2993],\n",
       "          [ 5.8302,  0.0000,  8.0048,  ...,  4.5434,  2.9348,  1.2415],\n",
       "          [ 3.8548,  9.7999,  2.1366,  ...,  3.7072,  8.6374,  3.9986],\n",
       "          ...,\n",
       "          [ 4.6131,  0.1656,  2.9068,  ...,  8.0403,  4.2396,  2.5750],\n",
       "          [ 6.0474,  2.4593,  4.5805,  ...,  1.5852,  1.6890,  2.4104],\n",
       "          [ 9.1577,  8.6857,  7.5226,  ...,  7.9294,  5.2997,  3.2199]],\n",
       "\n",
       "         [[ 2.5646,  6.0100,  7.8260,  ...,  9.0899,  5.4971, 10.3508],\n",
       "          [ 4.5667,  8.0911,  4.9000,  ...,  5.2426, 13.5887,  9.9682],\n",
       "          [ 4.7319,  9.0422, 10.3441,  ...,  7.3054, 10.4132,  9.6955],\n",
       "          ...,\n",
       "          [ 6.4701,  9.1130,  6.6205,  ...,  8.1936,  8.0872,  9.3023],\n",
       "          [ 4.0941,  8.3837,  6.9660,  ...,  8.0538, 12.5851,  9.3689],\n",
       "          [ 3.4367,  5.8219,  7.4123,  ...,  6.6551, 10.5510,  8.0338]],\n",
       "\n",
       "         [[13.6785, 12.4582, 12.3798,  ..., 11.6843,  9.7102,  7.6443],\n",
       "          [ 8.4812,  1.6840,  8.0222,  ...,  4.9646,  3.4909,  1.5958],\n",
       "          [ 2.2301,  0.1800,  0.0000,  ...,  1.4381,  1.0902,  0.0000],\n",
       "          ...,\n",
       "          [ 4.2266,  6.1332,  4.5134,  ...,  3.2601,  6.4081,  0.0000],\n",
       "          [ 7.8324,  3.9117,  3.0948,  ..., 12.1999,  4.1622,  2.3113],\n",
       "          [11.4784,  9.2748,  1.3504,  ..., 15.4738,  6.7801,  5.9728]]]],\n",
       "       grad_fn=<MaxPool2DWithIndicesBackward>)"
      ]
     },
     "execution_count": 47,
     "metadata": {},
     "output_type": "execute_result"
    }
   ],
   "source": [
    "enc = Encoder(32)\n",
    "data = torch.FloatTensor(np.random.randint(1,100,(3,3,128,128)))\n",
    "#data = data.long() #torch.LongTensor)\n",
    "enc(data)"
   ]
  },
  {
   "cell_type": "code",
   "execution_count": 20,
   "id": "012d571e",
   "metadata": {},
   "outputs": [
    {
     "data": {
      "text/plain": [
       "Data(edge_index=[2, 4], x=[4, 2], y=[4])"
      ]
     },
     "execution_count": 20,
     "metadata": {},
     "output_type": "execute_result"
    }
   ],
   "source": [
    "x = torch.tensor([[2,1], [5,6], [3,7], [12,0]], dtype=torch.float)\n",
    "y = torch.tensor([0, 1, 0, 1], dtype=torch.float)\n",
    "edge_index = torch.tensor([[0,1,2,3],\n",
    "                           [1,2,3,0]], \n",
    "                          dtype=torch.long)\n",
    "data = Data(x=x, y=y, edge_index=edge_index)\n",
    "data"
   ]
  },
  {
   "cell_type": "code",
   "execution_count": 37,
   "id": "36602374",
   "metadata": {},
   "outputs": [
    {
     "data": {
      "text/plain": [
       "tensor([[0.6600, 0.0100, 0.0900, 0.2400, 0.8900],\n",
       "        [0.6600, 0.0100, 0.3900, 0.2100, 0.8700],\n",
       "        [0.4000, 0.5400, 0.2100, 0.6400, 0.3600],\n",
       "        [0.8900, 0.3900, 0.7400, 0.7500, 0.2900],\n",
       "        [0.5400, 0.6400, 0.4700, 0.8900, 0.5100]])"
      ]
     },
     "execution_count": 37,
     "metadata": {},
     "output_type": "execute_result"
    }
   ],
   "source": [
    "adj = torch.tensor([[1,0,0,0,1],\n",
    "                 [0,1,1,0,0],\n",
    "                 [0,1,1,1,0],\n",
    "                 [0,0,1,1,0],\n",
    "                 [1,0,1,0,1]])\n",
    "edge_index,_ = dense_to_sparse(adj)\n",
    "data = torch.FloatTensor(np.random.randint(0,100,(5,5))/100)\n",
    "data"
   ]
  },
  {
   "cell_type": "code",
   "execution_count": 26,
   "id": "54f4d17f",
   "metadata": {},
   "outputs": [
    {
     "data": {
      "text/plain": [
       "(tensor([[0, 0, 1, 1, 2, 2, 2, 3, 3, 4, 4, 4],\n",
       "         [0, 4, 1, 2, 1, 2, 3, 2, 3, 0, 2, 4]]),\n",
       " tensor([1, 1, 1, 1, 1, 1, 1, 1, 1, 1, 1, 1]))"
      ]
     },
     "execution_count": 26,
     "metadata": {},
     "output_type": "execute_result"
    }
   ],
   "source": []
  },
  {
   "cell_type": "code",
   "execution_count": 39,
   "id": "a675ca3b",
   "metadata": {},
   "outputs": [],
   "source": [
    "class GCLayer(MessagePassing):\n",
    "    def __init__(self, in_channels, out_channels):\n",
    "        super(GCLayer, self).__init__(aggr='max') #  \"Max\" aggregation.\n",
    "        self.lin = torch.nn.Linear(in_channels, out_channels)\n",
    "        self.act = torch.nn.ReLU()\n",
    "        self.update_lin = torch.nn.Linear(in_channels + out_channels, in_channels, bias=False)\n",
    "        self.update_act = torch.nn.ReLU()\n",
    "        \n",
    "    def forward(self, x, adj):\n",
    "        # x has shape [N, in_channels]\n",
    "        # adj has shape [E, E]\n",
    "        edge_index, _ = dense_to_sparse(adj)\n",
    "        edge_index, _ = remove_self_loops(edge_index)\n",
    "        edge_index, _ = add_self_loops(edge_index, num_nodes=x.size(0))\n",
    "        \n",
    "        \n",
    "        return self.propagate(edge_index, size=(x.size(0), x.size(0)), x=x)\n",
    "\n",
    "    def message(self, x_j):\n",
    "        # x_j has shape [E, in_channels]\n",
    "\n",
    "        x_j = self.lin(x_j)\n",
    "        x_j = self.act(x_j)\n",
    "        \n",
    "        return x_j\n",
    "\n",
    "    def update(self, aggr_out, x):\n",
    "        # aggr_out has shape [N, out_channels]\n",
    "\n",
    "\n",
    "        new_embedding = torch.cat([aggr_out, x], dim=1)\n",
    "        \n",
    "        new_embedding = self.update_lin(new_embedding)\n",
    "        new_embedding = self.update_act(new_embedding)\n",
    "        \n",
    "        return new_embedding"
   ]
  },
  {
   "cell_type": "code",
   "execution_count": 40,
   "id": "15d3e89d",
   "metadata": {},
   "outputs": [
    {
     "data": {
      "text/plain": [
       "tensor([[0.0831, 0.0000, 0.0000, 0.0538, 0.0000],\n",
       "        [0.1434, 0.0000, 0.0000, 0.0530, 0.0000],\n",
       "        [0.1565, 0.0000, 0.0000, 0.1168, 0.0000],\n",
       "        [0.1176, 0.0003, 0.0000, 0.0318, 0.0000],\n",
       "        [0.1699, 0.0000, 0.0000, 0.0572, 0.0000]], grad_fn=<ReluBackward0>)"
      ]
     },
     "execution_count": 40,
     "metadata": {},
     "output_type": "execute_result"
    }
   ],
   "source": [
    "gcl1 = GCLayer(5,32)\n",
    "gcl1#(data,adj)"
   ]
  }
 ],
 "metadata": {
  "kernelspec": {
   "display_name": "Python 3",
   "language": "python",
   "name": "python3"
  },
  "language_info": {
   "codemirror_mode": {
    "name": "ipython",
    "version": 3
   },
   "file_extension": ".py",
   "mimetype": "text/x-python",
   "name": "python",
   "nbconvert_exporter": "python",
   "pygments_lexer": "ipython3",
   "version": "3.8.0"
  }
 },
 "nbformat": 4,
 "nbformat_minor": 5
}
