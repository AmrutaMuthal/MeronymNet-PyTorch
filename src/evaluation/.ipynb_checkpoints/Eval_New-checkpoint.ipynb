{
 "cells": [
  {
   "cell_type": "code",
   "execution_count": 1,
   "id": "7cfd1439",
   "metadata": {},
   "outputs": [],
   "source": [
    "%load_ext autoreload\n",
    "%autoreload 2"
   ]
  },
  {
   "cell_type": "code",
   "execution_count": 2,
   "id": "5671166e",
   "metadata": {},
   "outputs": [
    {
     "name": "stdout",
     "output_type": "stream",
     "text": [
      "env: CUDA_LAUNCH_BLOCKING=1\n"
     ]
    }
   ],
   "source": [
    "%set_env CUDA_LAUNCH_BLOCKING=1"
   ]
  },
  {
   "cell_type": "code",
   "execution_count": 3,
   "id": "21434d68",
   "metadata": {},
   "outputs": [],
   "source": [
    "import sys\n",
    "import collections\n",
    "import cv2\n",
    "import os\n",
    "import math\n",
    "import random\n",
    "import pickle\n",
    "import copy\n",
    "import numpy as np\n",
    "sys.path.append(\"/home/tanvikamble/MeronymNet-PyTorch/src/\")"
   ]
  },
  {
   "cell_type": "code",
   "execution_count": 4,
   "id": "e88c7fb7",
   "metadata": {},
   "outputs": [],
   "source": [
    "import torch\n",
    "import torch.optim as optim\n",
    "from torch_geometric.data import Data\n",
    "from torch_geometric.utils import dense_to_sparse\n",
    "from torch_geometric.data import DataLoader\n",
    "import torch.utils.data as data_utils\n",
    "from torch.utils.tensorboard import SummaryWriter"
   ]
  },
  {
   "cell_type": "code",
   "execution_count": 5,
   "id": "4e46b5d8",
   "metadata": {},
   "outputs": [],
   "source": [
    "from losses import BoxVAE_losses as loss\n",
    "from components.DenseAutoencoder import DenseAutoencoder\n",
    "from components.DenseAutoencoder import Decoder\n",
    "from components.TwoStageAutoEncoder import TwoStageAutoEncoder\n",
    "from components.TwoStageAutoEncoder_base import TwoStageAutoEncoder_base"
   ]
  },
  {
   "cell_type": "code",
   "execution_count": 6,
   "id": "d19349cb",
   "metadata": {},
   "outputs": [],
   "source": [
    "import matplotlib.pyplot as plt"
   ]
  },
  {
   "cell_type": "code",
   "execution_count": 7,
   "id": "4e512f48",
   "metadata": {},
   "outputs": [],
   "source": [
    "colors = [(1, 0, 0),\n",
    "          (0.737, 0.561, 0.561),\n",
    "          (0.255, 0.412, 0.882),\n",
    "          (0.545, 0.271, 0.0745),\n",
    "          (0.98, 0.502, 0.447),\n",
    "          (0.98, 0.643, 0.376),\n",
    "          (0.18, 0.545, 0.341),\n",
    "          (0.502, 0, 0.502),\n",
    "          (0.627, 0.322, 0.176),\n",
    "          (0.753, 0.753, 0.753),\n",
    "          (0.529, 0.808, 0.922),\n",
    "          (0.416, 0.353, 0.804),\n",
    "          (0.439, 0.502, 0.565),\n",
    "          (0.784, 0.302, 0.565),\n",
    "          (0.867, 0.627, 0.867),\n",
    "          (0, 1, 0.498),\n",
    "          (0.275, 0.51, 0.706),\n",
    "          (0.824, 0.706, 0.549),\n",
    "          (0, 0.502, 0.502),\n",
    "          (0.847, 0.749, 0.847),\n",
    "          (1, 0.388, 0.278),\n",
    "          (0.251, 0.878, 0.816),\n",
    "          (0.933, 0.51, 0.933),\n",
    "          (0.961, 0.871, 0.702)]\n",
    "colors = (np.asarray(colors)*255)\n",
    "canvas_size = 660\n",
    "\n",
    "def plot_bbx(bbx):\n",
    "    bbx = bbx*canvas_size\n",
    "    canvas = np.ones((canvas_size,canvas_size,3), np.uint8) * 255\n",
    "    for i, coord in enumerate(bbx):\n",
    "        x_minp, y_minp,x_maxp , y_maxp = coord[:4]\n",
    "        if [x_minp, y_minp, x_maxp, y_maxp]!=[0,0,0,0]:\n",
    "            cv2.rectangle(canvas, (int(x_minp), int(y_minp)), (int(x_maxp) , int(y_maxp) ), colors[i], 6)\n",
    "    return canvas\n",
    "\n",
    "def plot_obj_bbx(bbx):\n",
    "    bbx = bbx*canvas_size\n",
    "    canvas = np.ones((canvas_size,canvas_size,3), np.uint8) * 255\n",
    "    x_minp, y_minp,x_maxp , y_maxp = bbx\n",
    "    cv2.rectangle(canvas, (int(x_minp), int(y_minp)), (int(x_maxp) , int(y_maxp) ), colors[0], 6)\n",
    "    return canvas\n",
    "\n",
    "# def plot_bbx(bbx):\n",
    "#     bbx = bbx*canvas_size\n",
    "#     canvas = np.ones((canvas_size,canvas_size,3), np.uint8) * 255\n",
    "#     for i, coord in enumerate(bbx):\n",
    "#         x, y, w ,h = coord\n",
    "#         if [x, y, w ,h]!=[0,0,0,0]:\n",
    "#             cv2.rectangle(canvas, (int(x), int(y)), (int(x + w) , int(y + h) ), colors[i], 6)\n",
    "#     return canvas\n"
   ]
  },
  {
   "cell_type": "code",
   "execution_count": 8,
   "id": "0381e098",
   "metadata": {},
   "outputs": [],
   "source": [
    "def inference_obj(decoder, node_data):\n",
    "\n",
    "    decoder.cuda()\n",
    "    z_latent = torch.normal(torch.zeros([batch_size,latent_dims])).cuda()\n",
    "    nodes = torch.reshape(nodes,(batch_size,decoder.num_nodes))\n",
    "    obj_class = torch.reshape(obj_class,(batch_size, decoder.class_size))\n",
    "    conditioned_z = torch.cat([nodes, z_latent],dim=-1)\n",
    "    conditioned_z = torch.cat([obj_class, conditioned_z],dim=-1)\n",
    "    \n",
    "    op = decoder(conditioned_z)\n",
    "        \n",
    "    return op[0], op[1], z_latent\n",
    "\n",
    "\n",
    "def inference(decoder, nodes, obj_class, latent_dims, batch_size):\n",
    "\n",
    "    decoder.cuda()\n",
    "    z_latent = torch.normal(torch.zeros([batch_size,latent_dims])).cuda()\n",
    "    nodes = torch.reshape(nodes,(batch_size,decoder.num_nodes))\n",
    "    obj_class = torch.reshape(obj_class,(batch_size, decoder.class_size))\n",
    "    conditioned_z = torch.cat([nodes, z_latent],dim=-1)\n",
    "    conditioned_z = torch.cat([obj_class, conditioned_z],dim=-1)\n",
    "    \n",
    "    op = decoder(conditioned_z)\n",
    "        \n",
    "    return op[0], op[1], z_latent"
   ]
  },
  {
   "cell_type": "code",
   "execution_count": 9,
   "id": "3855bd88",
   "metadata": {},
   "outputs": [],
   "source": [
    "obj_data_postfix = '_obj_boundary'\n",
    "part_data_post_fix = '_scaled'\n",
    "file_postfix = '_combined'\n",
    "outfile = '/home/tanvikamble/Meronym_Data/processed_data/combined_parts/X_train'+part_data_post_fix+'.np'\n",
    "with open(outfile, 'rb') as pickle_file:\n",
    "    X_train = pickle.load(pickle_file)\n",
    "\n",
    "outfile = '/home/tanvikamble/Meronym_Data/processed_data/combined_parts/X_train'+obj_data_postfix+'.np'\n",
    "with open(outfile, 'rb') as pickle_file:\n",
    "    X_obj_train = pickle.load(pickle_file)\n",
    "\n",
    "outfile = '/home/tanvikamble/Meronym_Data/processed_data/combined_parts/class_v'+file_postfix+'.np'\n",
    "with open(outfile, 'rb') as pickle_file:\n",
    "    class_v = pickle.load(pickle_file)\n",
    "\n",
    "outfile = '/home/tanvikamble/Meronym_Data/processed_data/combined_parts/adj_train'+file_postfix+'.np'\n",
    "with open(outfile, 'rb') as pickle_file:\n",
    "    adj_train = pickle.load(pickle_file)\n",
    "\n",
    "outfile = '/home/tanvikamble/Meronym_Data/processed_data/combined_parts/X_train_val'+part_data_post_fix+'.np'\n",
    "with open(outfile, 'rb') as pickle_file:\n",
    "    X_train_val = pickle.load(pickle_file)\n",
    "\n",
    "outfile = '/home/tanvikamble/Meronym_Data/processed_data/combined_parts/X_train_val'+obj_data_postfix+'.np'\n",
    "with open(outfile, 'rb') as pickle_file:\n",
    "    X_obj_train_val = pickle.load(pickle_file)\n",
    "\n",
    "outfile = '/home/tanvikamble/Meronym_Data/processed_data/combined_parts/class_v_val'+file_postfix+'.np'\n",
    "with open(outfile, 'rb') as pickle_file:\n",
    "    class_v_val = pickle.load(pickle_file)\n",
    "    \n",
    "outfile = '/home/tanvikamble/Meronym_Data/processed_data/combined_parts/adj_train_val'+file_postfix+'.np'\n",
    "with open(outfile, 'rb') as pickle_file:\n",
    "    adj_train_val = pickle.load(pickle_file)\n",
    "    \n",
    "outfile = '/home/tanvikamble/Meronym_Data/processed_data/combined_parts/X_test'+part_data_post_fix+'.np'\n",
    "with open(outfile, 'rb') as pickle_file:\n",
    "    X_test = pickle.load(pickle_file)\n",
    "\n",
    "outfile = '/home/tanvikamble/Meronym_Data/processed_data/combined_parts/X_test'+obj_data_postfix+'.np'\n",
    "with open(outfile, 'rb') as pickle_file:\n",
    "    X_obj_test = pickle.load(pickle_file)\n",
    "\n",
    "outfile = '/home/tanvikamble/Meronym_Data/processed_data/combined_parts/adj_test'+file_postfix+'.np'\n",
    "with open(outfile, 'rb') as pickle_file:\n",
    "    adj_test = pickle.load(pickle_file)\n",
    "    \n",
    "outfile = '/home/tanvikamble/Meronym_Data/processed_data/combined_parts/class_v'+file_postfix+'.np'\n",
    "with open(outfile, 'rb') as pickle_file:\n",
    "    class_v_test = pickle.load(pickle_file)"
   ]
  },
  {
   "cell_type": "code",
   "execution_count": null,
   "id": "fb041275",
   "metadata": {},
   "outputs": [],
   "source": []
  },
  {
   "cell_type": "raw",
   "id": "9e55bfed",
   "metadata": {},
   "source": [
    "X_train[:, :, 4] = X_train[:, :, 4] - X_train[:, :, 2]\n",
    "X_train[:, :, 3] = X_train[:, :, 3] - X_train[:, :, 1]\n",
    "\n",
    "X_train_val[:, :, 4] = X_train_val[:, :, 4] - X_train_val[:, :, 2]\n",
    "X_train_val[:, :, 3] = X_train_val[:, :, 3] - X_train_val[:, :, 1]\n",
    "\n",
    "X_test[:, :, 4] = X_test[:, :, 4] - X_test[:, :, 2]\n",
    "X_test[:, :, 3] = X_test[:, :, 3] - X_test[:, :, 1]"
   ]
  },
  {
   "cell_type": "code",
   "execution_count": 10,
   "id": "97e68df5",
   "metadata": {},
   "outputs": [],
   "source": [
    "X_train[X_train<=0] = 0\n",
    "X_train_val[X_train_val<=0] = 0\n",
    "X_test[X_test<=0] = 0\n",
    "\n",
    "X_train[X_train>=1] = 1\n",
    "X_train_val[X_train_val>=1] = 1\n",
    "X_test[X_test>=1] = 1\n",
    "\n",
    "X_obj_train[X_obj_train<=0] = 0\n",
    "X_obj_train_val[X_obj_train_val<=0] = 0\n",
    "X_obj_test[X_obj_test<=0] = 0\n",
    "\n",
    "X_obj_train[X_obj_train>=1] = 1\n",
    "X_obj_train_val[X_obj_train_val>=1] = 1\n",
    "X_obj_test[X_obj_test>=1] = 1"
   ]
  },
  {
   "cell_type": "code",
   "execution_count": 11,
   "id": "b9bc6392",
   "metadata": {
    "scrolled": true
   },
   "outputs": [
    {
     "name": "stdout",
     "output_type": "stream",
     "text": [
      "(50910, 16, 5)\n",
      "(6720, 16, 5)\n",
      "(10380, 16, 5)\n"
     ]
    }
   ],
   "source": [
    "print(X_train.shape)\n",
    "print(X_train_val.shape)\n",
    "print(X_test.shape)"
   ]
  },
  {
   "cell_type": "code",
   "execution_count": 12,
   "id": "57f8d018",
   "metadata": {},
   "outputs": [
    {
     "name": "stdout",
     "output_type": "stream",
     "text": [
      "(50910, 16, 16)\n",
      "(6720, 16, 16)\n",
      "(354435, 16, 16)\n"
     ]
    }
   ],
   "source": [
    "print(adj_train.shape)\n",
    "print(adj_train_val.shape)\n",
    "print(adj_test.shape)"
   ]
  },
  {
   "cell_type": "code",
   "execution_count": 13,
   "id": "7911b483",
   "metadata": {},
   "outputs": [],
   "source": [
    "random.seed(100)\n",
    "train_idx = np.random.randint(1,len(X_train),len(X_train))\n",
    "val_idx = np.random.randint(1,len(X_train_val),len(X_train_val))\n",
    "test_idx = np.random.randint(1,len(X_test),len(X_test))"
   ]
  },
  {
   "cell_type": "code",
   "execution_count": 14,
   "id": "107b2126",
   "metadata": {},
   "outputs": [
    {
     "name": "stderr",
     "output_type": "stream",
     "text": [
      "/home/tanvikamble/miniconda3/lib/python3.9/site-packages/torch_geometric/deprecation.py:13: UserWarning: 'data.DataLoader' is deprecated, use 'loader.DataLoader' instead\n",
      "  warnings.warn(out)\n"
     ]
    }
   ],
   "source": [
    "batch_size = 128\n",
    "seed = 345\n",
    "\n",
    "torch.manual_seed(seed)\n",
    "\n",
    "validation = True\n",
    "if validation:\n",
    "    train_list =[]\n",
    "    for idx, batch in enumerate(zip(copy.deepcopy(X_train[train_idx]),\n",
    "                                    copy.deepcopy(np.concatenate([class_v[train_idx], X_obj_train[train_idx]], axis=-1)),\n",
    "                                    copy.deepcopy(adj_train[train_idx]))):\n",
    "        edge_index, _ = dense_to_sparse(torch.from_numpy(batch[2]).cuda().float())\n",
    "        train_list.append(Data(x = torch.from_numpy(batch[0]).cuda().float(),\n",
    "                               y = torch.from_numpy(batch[1]).cuda().float(),\n",
    "                               edge_index = edge_index\n",
    "                                    )\n",
    "                         )\n",
    "\n",
    "    batch_train_loader = DataLoader(train_list, batch_size=batch_size)\n",
    "\n",
    "    val_list = []\n",
    "    for idx, batch in enumerate(zip(copy.deepcopy(X_train_val[val_idx]),\n",
    "                                    copy.deepcopy(np.concatenate([class_v_val[val_idx], X_obj_train_val[val_idx]], axis=-1)),\n",
    "                                    copy.deepcopy(adj_train_val[val_idx]))):\n",
    "        edge_index, _ = dense_to_sparse(torch.from_numpy(batch[2]).cuda().float())\n",
    "        val_list.append(Data(x = torch.from_numpy(batch[0]).cuda().float(),\n",
    "                             y = torch.from_numpy(batch[1]).cuda().float(),\n",
    "                             edge_index = edge_index\n",
    "                                    )\n",
    "                         )\n",
    "    batch_val_loader = DataLoader(val_list, batch_size=batch_size)\n",
    "else:\n",
    "    train_list =[]\n",
    "    for idx, batch in enumerate(zip(copy.deepcopy(X_train[train_idx]),\n",
    "                                    copy.deepcopy(np.concatenate([class_v[train_idx], X_obj_train[train_idx]], axis=-1)),\n",
    "                                    copy.deepcopy(adj_train[train_idx]))):\n",
    "        edge_index, _ = dense_to_sparse(torch.from_numpy(batch[2]).cuda())\n",
    "        train_list.append(Data(x = torch.from_numpy(batch[0]).cuda(),\n",
    "                               y = torch.from_numpy(batch[1]).cuda(),\n",
    "                               edge_index = edge_index\n",
    "                                    )\n",
    "                         )\n",
    "    \n",
    "    for idx, batch in enumerate(zip(copy.deepcopy(X_train_val[val_idx]),\n",
    "                                    copy.deepcopy(np.concatenate([class_v_val[val_idx], X_obj_train_val[val_idx]], axis=-1)),\n",
    "                                    copy.deepcopy(adj_train_val[val_idx]))):\n",
    "        edge_index, _ = dense_to_sparse(torch.from_numpy(batch[2]).cuda())\n",
    "        train_list.append(Data(x = torch.from_numpy(batch[0]).cuda(),\n",
    "                             y = torch.from_numpy(batch[1]).cuda(),\n",
    "                             edge_index = edge_index\n",
    "                                    )\n",
    "                         )\n",
    "    batch_train_loader = DataLoader(train_list, batch_size=batch_size)\n",
    "    \n",
    "    val_list = []\n",
    "    for idx, batch in enumerate(zip(copy.deepcopy(X_test[test_idx]),\n",
    "                                    copy.deepcopy(np.concatenate([class_v_test[test_idx], X_obj_test[test_idx]], axis=-1)), \n",
    "                                    copy.deepcopy(adj_test[test_idx]))):\n",
    "        edge_index, _ = dense_to_sparse(torch.from_numpy(batch[2]).cuda())\n",
    "        val_list.append(Data(x = torch.from_numpy(batch[0]).cuda(),\n",
    "                             y = torch.from_numpy(batch[1]).cuda(),\n",
    "                             edge_index = edge_index\n",
    "                                    )\n",
    "                         )\n",
    "    batch_val_loader = DataLoader(val_list, batch_size=batch_size)\n",
    "    "
   ]
  },
  {
   "cell_type": "code",
   "execution_count": 15,
   "id": "e49e0379",
   "metadata": {},
   "outputs": [],
   "source": [
    "del train_list\n",
    "del val_list\n",
    "del X_train\n",
    "del X_obj_train\n",
    "del class_v\n",
    "del adj_train\n",
    "del X_train_val\n",
    "del X_obj_train_val\n",
    "del class_v_val\n",
    "del adj_train_val"
   ]
  },
  {
   "cell_type": "code",
   "execution_count": 16,
   "id": "ce7be1a5",
   "metadata": {
    "scrolled": true
   },
   "outputs": [
    {
     "name": "stdout",
     "output_type": "stream",
     "text": [
      "torch.Size([2048, 5]) torch.Size([128, 11])\n",
      "torch.Size([2048, 5]) torch.Size([128, 11])\n",
      "torch.Size([2048, 5]) torch.Size([128, 11])\n"
     ]
    }
   ],
   "source": [
    "idx = 0\n",
    "for data in batch_train_loader:\n",
    "    idx+=1\n",
    "    print(data.x.shape, data.y.shape)\n",
    "    if idx==3:\n",
    "        break"
   ]
  },
  {
   "cell_type": "code",
   "execution_count": 17,
   "id": "9cd8d4a6",
   "metadata": {
    "scrolled": false
   },
   "outputs": [],
   "source": [
    "latent_dims = 64\n",
    "num_nodes = 16\n",
    "bbx_size = 4\n",
    "num_classes = 7\n",
    "label_shape = 1\n",
    "nb_epochs = 1\n",
    "klw = loss.frange_cycle_linear(nb_epochs)\n",
    "learning_rate = 0.00005\n",
    "hidden1 = 32\n",
    "hidden2 = 16\n",
    "hidden3 = 128\n",
    "dense_hidden1=16\n",
    "dense_hidden2=32\n",
    "adaptive_margin = True\n",
    "fine_tune_box = False\n",
    "output_log = False\n",
    "area_encoding = False\n",
    "run_prefix = \"two_stage_pair_wise_iou\"\n",
    "\n",
    "variational=False"
   ]
  },
  {
   "cell_type": "code",
   "execution_count": 18,
   "id": "361b90d9",
   "metadata": {},
   "outputs": [
    {
     "data": {
      "text/plain": [
       "0"
      ]
     },
     "execution_count": 18,
     "metadata": {},
     "output_type": "execute_result"
    }
   ],
   "source": [
    "import gc\n",
    "gc.collect()"
   ]
  },
  {
   "cell_type": "code",
   "execution_count": 19,
   "id": "73f4529b",
   "metadata": {},
   "outputs": [
    {
     "data": {
      "text/plain": [
       "device(type='cuda')"
      ]
     },
     "execution_count": 19,
     "metadata": {},
     "output_type": "execute_result"
    }
   ],
   "source": [
    "device = torch.device('cuda' if torch.cuda.is_available() else 'cpu')\n",
    "device"
   ]
  },
  {
   "cell_type": "code",
   "execution_count": 20,
   "id": "bb57ab2a",
   "metadata": {},
   "outputs": [],
   "source": [
    "def canvas_scaled_coodrinates(true,pred,true_box,pred_box, label_true):\n",
    "    \n",
    "    label_true = label_true.reshape([true.shape[0], true.shape[1], 1])\n",
    "    \n",
    "    batch_len  = true.shape[0]\n",
    "    for i in range(batch_len):\n",
    "        \n",
    "        min_x, min_y, max_x, max_y = true_box[i][0],true_box[i][1], true_box[i][2],true_box[i][3] \n",
    "        \n",
    "        labels = torch.where(label_true[i, :, 0]==1)[0]\n",
    "        \n",
    "        true_scaled_canvas = torch.tensor(true)\n",
    "        \n",
    "        true_scaled_canvas[i][labels,0] = min_x + (max_x - min_x) * true_scaled_canvas[i][labels,0]\n",
    "        true_scaled_canvas[i][labels,2] = min_x + (max_x - min_x) * true_scaled_canvas[i][labels,2]\n",
    "        \n",
    "        true_scaled_canvas[i][labels,1] = min_y + (max_y - min_y) * true_scaled_canvas[i][labels,1]\n",
    "        true_scaled_canvas[i][labels,3] = min_y + (max_y - min_y) * true_scaled_canvas[i][labels,3]\n",
    "        \n",
    "        min_x, min_y, max_x, max_y = pred_box[i][0],pred_box[i][1], pred_box[i][2],pred_box[i][3] \n",
    "        pred_scaled_canvas = torch.tensor(pred)\n",
    "       \n",
    "        pred_scaled_canvas[i][labels,0] = min_x + (max_x - min_x) * pred_scaled_canvas[i][labels,0]\n",
    "        pred_scaled_canvas[i][labels,2] = min_x + (max_x - min_x) * pred_scaled_canvas[i][labels,2]\n",
    "        \n",
    "        pred_scaled_canvas[i][labels,1] = min_y + (max_y - min_y) * pred_scaled_canvas[i][labels,1]\n",
    "        pred_scaled_canvas[i][labels,3] = min_y + (max_y - min_y) * pred_scaled_canvas[i][labels,3]\n",
    "\n",
    "\n",
    "\n",
    "    return true_scaled_canvas,pred_scaled_canvas"
   ]
  },
  {
   "cell_type": "code",
   "execution_count": 21,
   "id": "20599e2e",
   "metadata": {},
   "outputs": [],
   "source": [
    "def iou(true, pred, true_box , pred_box, label_true, flag_scale = False , flag_train = False):\n",
    "    zero = torch.tensor([0.0]).cuda()\n",
    "    true = torch.reshape(true, pred.shape)\n",
    "    if flag_scale ==  True:\n",
    "        true,pred = canvas_scaled_coodrinates(true,pred,true_box,pred_box, label_true)\n",
    "    else:\n",
    "        pass\n",
    "    x1g, y1g, x2g, y2g = torch.tensor_split(true, 4, dim=-1)\n",
    "    x1, y1, x2, y2 = torch.tensor_split(torch.squeeze(pred), 4, dim=-1)\n",
    "    \n",
    "    xA = torch.maximum(x1g, x1)\n",
    "    yA = torch.maximum(y1g, y1)\n",
    "    xB = torch.minimum(x2g, x2)\n",
    "    yB = torch.minimum(y2g, y2)\n",
    "\n",
    "    w, h = x2g-x1g, y2g-y1g\n",
    "    \n",
    "    \n",
    "    interArea = torch.multiply(torch.maximum(zero,(xB - xA)), \n",
    "                                   torch.maximum(zero, (yB - yA)))\n",
    "    boxAArea = torch.multiply(torch.maximum(zero, (x2g - x1g)),\n",
    "                              torch.maximum(zero, (y2g - y1g)))\n",
    "    boxBArea = torch.multiply(torch.maximum(zero, (x2 - x1)),\n",
    "                                  torch.maximum(zero,(y2 - y1)))\n",
    "    unionArea = boxAArea + boxBArea - interArea\n",
    "    \n",
    "    iouk = interArea / unionArea\n",
    "    iouk = torch.nan_to_num(iouk)\n",
    "    if flag_train == True:\n",
    "        label_true = label_true.reshape([iouk.shape[0], iouk.shape[1], 1])\n",
    "        idxs  = torch.nonzero(label_true)\n",
    "        num = idxs.shape[0]\n",
    "        idxs = idxs.split(1, dim=1)\n",
    "        temp2 = torch.sum(iouk[idxs])/num\n",
    "        return temp2\n",
    "    else:\n",
    "        return iouk"
   ]
  },
  {
   "cell_type": "code",
   "execution_count": 22,
   "id": "ca88de63",
   "metadata": {},
   "outputs": [
    {
     "data": {
      "text/plain": [
       "<All keys matched successfully>"
      ]
     },
     "execution_count": 22,
     "metadata": {},
     "output_type": "execute_result"
    }
   ],
   "source": [
    "# Computes the IOU and MSE values for each of the models. \n",
    "\n",
    "# For each model, evaluates the IOU and MSE values for all the batches and stores them in the iou_loss and the mse_loss dictionary\n",
    "\n",
    "# Defining all the variables. \n",
    "# Number of Dictionaries defined = Number of Models running\n",
    "model_path = '/home/tanvikamble/Meronym_Data/model/two_stage_pair_wise_iou/Obj-Box-5e-05-batch-64-h1-32-h2-16-h3-128-test'\n",
    "vae = TwoStageAutoEncoder_base(latent_dims,\n",
    "                          num_nodes,\n",
    "                          bbx_size,\n",
    "                          num_classes,\n",
    "                          label_shape,\n",
    "                          hidden1,\n",
    "                          hidden2,\n",
    "                          hidden3,\n",
    "                          dense_hidden1,\n",
    "                          dense_hidden2,\n",
    "                          adaptive_margin,\n",
    "                          output_log,\n",
    "                          area_encoding\n",
    "                        )\n",
    "vae.load_state_dict(torch.load(model_path+ '/model_weights.pth'))"
   ]
  },
  {
   "cell_type": "code",
   "execution_count": 23,
   "id": "3f133bd0",
   "metadata": {
    "scrolled": true
   },
   "outputs": [
    {
     "name": "stderr",
     "output_type": "stream",
     "text": [
      "/tmp/ipykernel_30427/1811904885.py:12: UserWarning: To copy construct from a tensor, it is recommended to use sourceTensor.clone().detach() or sourceTensor.clone().detach().requires_grad_(True), rather than torch.tensor(sourceTensor).\n",
      "  true_scaled_canvas = torch.tensor(true)\n",
      "/tmp/ipykernel_30427/1811904885.py:21: UserWarning: To copy construct from a tensor, it is recommended to use sourceTensor.clone().detach() or sourceTensor.clone().detach().requires_grad_(True), rather than torch.tensor(sourceTensor).\n",
      "  pred_scaled_canvas = torch.tensor(pred)\n"
     ]
    },
    {
     "name": "stdout",
     "output_type": "stream",
     "text": [
      "dog\n",
      "dog done in Dict-1\n",
      "xxxxxxxxxxxxxxxxxxxxxxxxxxxxxxxxxxxxxxx\n",
      "person\n",
      "person done in Dict-1\n",
      "xxxxxxxxxxxxxxxxxxxxxxxxxxxxxxxxxxxxxxx\n",
      "horse\n",
      "horse done in Dict-1\n",
      "xxxxxxxxxxxxxxxxxxxxxxxxxxxxxxxxxxxxxxx\n",
      "cow\n",
      "cow done in Dict-1\n",
      "xxxxxxxxxxxxxxxxxxxxxxxxxxxxxxxxxxxxxxx\n",
      "bird\n",
      "bird done in Dict-1\n",
      "xxxxxxxxxxxxxxxxxxxxxxxxxxxxxxxxxxxxxxx\n",
      "cat\n",
      "cat done in Dict-1\n",
      "xxxxxxxxxxxxxxxxxxxxxxxxxxxxxxxxxxxxxxx\n",
      "sheep\n",
      "sheep done in Dict-1\n",
      "xxxxxxxxxxxxxxxxxxxxxxxxxxxxxxxxxxxxxxx\n"
     ]
    }
   ],
   "source": [
    "class_dict = ['cow', 'sheep', 'bird', 'person', 'cat', 'dog', 'horse', 'aeroplane',\n",
    "              'motorbike', 'bicycle', 'car']\n",
    "\n",
    "from collections import defaultdict\n",
    "iou_loss_dict_1=defaultdict(str)\n",
    "mse_loss_dict_1=defaultdict(str)\n",
    "labels_dict=defaultdict(str)\n",
    "coords_dict=defaultdict(str)\n",
    "\n",
    "for i, val_data in enumerate(batch_train_loader, 0):\n",
    "    \n",
    "    val_data.cuda()\n",
    "    node_data_true = val_data.x\n",
    "    label_true = node_data_true[:,:1]\n",
    "    y_true = val_data.y\n",
    "    class_true = y_true[:, :num_classes]\n",
    "    X_obj_true = y_true[:, num_classes:]\n",
    "    adj_true = val_data.edge_index\n",
    "    class_true  = torch.flatten(class_true)\n",
    "\n",
    "    #First Model\n",
    "\n",
    "    output_1 = vae(adj_true, node_data_true, X_obj_true, label_true , class_true)\n",
    "    node_data_pred_test_1 = output_1[0]\n",
    "    X_obj_pred_test_1 = output_1[1]\n",
    "\n",
    "    # node_data_pred, X_obj_pred, label_pred, z_mean, z_logvar, margin = output\n",
    "    iou_loss_1 = iou(node_data_true[:, 1:], node_data_pred_test_1,X_obj_true, X_obj_pred_test_1, label_true, flag_scale = True , flag_train = False).detach().to(\"cpu\").numpy()\n",
    "    # iou_loss_1 = iou(node_data_true[:,1:], node_data_pred_test_1 , X_obj_true, X_obj_pred_test_1, label_true)\n",
    "\n",
    "    mse_loss_1=loss.mse_loss(node_data_pred_test_1, node_data_true[:,1:])\n",
    "#     iou_loss_1 = iou_loss_1.to('cpu')\n",
    "#     iou_loss_1 = iou_loss_1.detach().numpy() \n",
    "#     mse_loss_1 = mse_loss_1.to('cpu')\n",
    "#     mse_loss_1 = mse_loss_1.detach().numpy()\n",
    "\n",
    "   \n",
    "    \n",
    "    label_true_reshaped = label_true.reshape((iou_loss_1.shape[0],iou_loss_1.shape[1]))\n",
    "    label_true_reshaped = label_true_reshaped.to('cpu')\n",
    "    label_true_reshaped = label_true_reshaped.detach().numpy()\n",
    "    \n",
    "    \n",
    "    \n",
    "    node_data_true_reshaped = node_data_true.reshape((iou_loss_1.shape[0],iou_loss_1.shape[1] , node_data_true.shape[1]))\n",
    "    node_data_true_reshaped = node_data_true_reshaped.to('cpu')\n",
    "    node_data_true_reshaped = node_data_true_reshaped.detach().numpy()\n",
    "\n",
    "    \n",
    "    for j in range(iou_loss_1.shape[0]):\n",
    "        class_i = class_dict[int(np.argmax(class_true[num_classes*j:num_classes*(j+1)].detach().to('cpu').numpy()).tolist())]\n",
    "        if class_i in iou_loss_dict_1:\n",
    "            labels_dict[class_i].append(label_true_reshaped[j])\n",
    "            coords_dict[class_i].append(node_data_true_reshaped[j])\n",
    "            iou_loss_dict_1[class_i].append(iou_loss_1[j])\n",
    "            mse_loss_dict_1[class_i].append(mse_loss_1[j].detach().to(\"cpu\").numpy())\n",
    "        else:\n",
    "            print(class_i)\n",
    "            labels_dict[class_i]=  [label_true_reshaped[j]]\n",
    "            coords_dict[class_i] = [node_data_true_reshaped[j]]\n",
    "            iou_loss_dict_1[class_i]=[iou_loss_1[j]]\n",
    "            mse_loss_dict_1[class_i]=[mse_loss_1[j].detach().to(\"cpu\").numpy()]\n",
    "            print(class_i + \" done in Dict-1\" )\n",
    "           \n",
    "            print(\"xxxxxxxxxxxxxxxxxxxxxxxxxxxxxxxxxxxxxxx\")\n",
    "\n",
    "    \n"
   ]
  },
  {
   "cell_type": "code",
   "execution_count": 24,
   "id": "687b1a1a",
   "metadata": {},
   "outputs": [],
   "source": [
    "selected_class = ['cow', 'sheep', 'bird', 'person', 'cat', 'dog', 'horse']"
   ]
  },
  {
   "cell_type": "code",
   "execution_count": 25,
   "id": "31fa0b69",
   "metadata": {},
   "outputs": [],
   "source": [
    "# The IOU_LOSS dictionary has the values for all the parts. This function computes the average IOU and MSE Value per part for each class.\n",
    "\n",
    "def dict_summation(loss_dict,counts_dict_final):\n",
    "    loss_dict_final={}\n",
    "    parts=[i for i in range(num_nodes)]\n",
    "    for class_i in loss_dict:\n",
    "        temp_list=np.squeeze(np.nan_to_num(np.array(loss_dict[class_i])).sum(axis=0))/np.squeeze(counts_dict_final[class_i])\n",
    "        loss_dict_final[class_i]=temp_list\n",
    "    return loss_dict_final\n",
    "\n",
    "\n",
    "    "
   ]
  },
  {
   "cell_type": "code",
   "execution_count": 26,
   "id": "1387a139",
   "metadata": {},
   "outputs": [
    {
     "name": "stderr",
     "output_type": "stream",
     "text": [
      "/tmp/ipykernel_30427/840667198.py:7: RuntimeWarning: invalid value encountered in true_divide\n",
      "  temp_list=np.squeeze(np.nan_to_num(np.array(loss_dict[class_i])).sum(axis=0))/np.squeeze(counts_dict_final[class_i])\n",
      "/tmp/ipykernel_30427/840667198.py:7: RuntimeWarning: divide by zero encountered in true_divide\n",
      "  temp_list=np.squeeze(np.nan_to_num(np.array(loss_dict[class_i])).sum(axis=0))/np.squeeze(counts_dict_final[class_i])\n"
     ]
    }
   ],
   "source": [
    "parts=[i for i in range(num_nodes)]\n",
    "\n",
    "# counts_dict_final is the number of each part for each class in the entire dataset\n",
    "counts_dict_final={}\n",
    "for class_i in labels_dict:\n",
    "    temp_list=np.array(labels_dict[class_i]).sum(axis=0)\n",
    "    counts_dict_final[class_i]=temp_list\n",
    "    \n",
    "# Computing the final dictionaries used for displaying results\n",
    "iou_loss_dict_final_1=dict_summation(iou_loss_dict_1,counts_dict_final)\n",
    "\n",
    "# Computing the final dictionaries used for displaying results\n",
    "mse_loss_dict_final_1=dict_summation(mse_loss_dict_1,counts_dict_final)\n",
    "\n",
    "# Rounding off the IOU values and scaling the MSE values approprately\n",
    "for class_i in iou_loss_dict_final_1:\n",
    "    iou_loss_dict_final_1[class_i] = np.round(iou_loss_dict_final_1[class_i],3)\n",
    "        \n",
    "    mse_loss_dict_final_1[class_i] = mse_loss_dict_final_1[class_i]*(660*660)\n",
    "    mse_loss_dict_final_1[class_i] = np.round(mse_loss_dict_final_1[class_i],1)\n",
    "\n",
    "        "
   ]
  },
  {
   "cell_type": "code",
   "execution_count": 27,
   "id": "63f27e41",
   "metadata": {
    "scrolled": false
   },
   "outputs": [
    {
     "name": "stderr",
     "output_type": "stream",
     "text": [
      "/tmp/ipykernel_30427/1194310171.py:30: RuntimeWarning: divide by zero encountered in double_scalars\n",
      "  temp_ratio = 1/temp_ratio\n",
      "/tmp/ipykernel_30427/1194310171.py:28: RuntimeWarning: divide by zero encountered in double_scalars\n",
      "  temp_ratio=(abs(temp_tuple[3]-temp_tuple[1])*10000)/(abs(temp_tuple[4]-temp_tuple[2])*10000)\n",
      "/tmp/ipykernel_30427/1194310171.py:28: RuntimeWarning: invalid value encountered in double_scalars\n",
      "  temp_ratio=(abs(temp_tuple[3]-temp_tuple[1])*10000)/(abs(temp_tuple[4]-temp_tuple[2])*10000)\n"
     ]
    }
   ],
   "source": [
    "# This function computes the statistics for all the parts for each object. For eg, mean area, median area etc.\n",
    "import pandas as pd\n",
    "stats_dict_final={}\n",
    "for class_i in coords_dict:\n",
    "    final_list=[[] for i in range(num_nodes)]\n",
    "    for part_num in parts:\n",
    "        temp_list=[[] for i in range(num_nodes)]\n",
    "        for ele in coords_dict[class_i]:\n",
    "            temp_tuple=ele[part_num]\n",
    "            if int(temp_tuple[0]) != 0:\n",
    "                temp_list[part_num].append(abs(temp_tuple[3]-temp_tuple[1]) * abs(temp_tuple[4]-temp_tuple[2]))\n",
    "        s=pd.Series(temp_list[part_num], dtype='float64')\n",
    "        final_list[part_num].append(s.mean())\n",
    "        final_list[part_num].append(s.quantile(q=0.25))\n",
    "        final_list[part_num].append(s.quantile(q=0.50))\n",
    "        final_list[part_num].append(s.quantile(q=0.75))\n",
    "    stats_dict_final[class_i] = final_list\n",
    "    \n",
    "# Computes the average ratio of the sides for each part\n",
    "side_ratios_dict_final={}\n",
    "for class_i in coords_dict:\n",
    "    final_list=[0 for i in range(num_nodes)]\n",
    "    for part_num in parts:\n",
    "        temp_list=[[] for i in range(num_nodes)]\n",
    "        for ele in coords_dict[class_i]:\n",
    "            temp_tuple=ele[part_num]\n",
    "            if int(temp_tuple[0]) != 0:\n",
    "                temp_ratio=(abs(temp_tuple[3]-temp_tuple[1])*10000)/(abs(temp_tuple[4]-temp_tuple[2])*10000)\n",
    "                if temp_ratio < 1:\n",
    "                    temp_ratio = 1/temp_ratio \n",
    "                temp_list[part_num].append(temp_ratio)\n",
    "        s=pd.Series(temp_list[part_num], dtype='float64')\n",
    "        final_list[part_num]=s.mean()\n",
    "    side_ratios_dict_final[class_i] = final_list\n",
    "    \n",
    "\n",
    "\n",
    "for class_i in side_ratios_dict_final:\n",
    "    for part in range(num_nodes):\n",
    "        side_ratios_dict_final[class_i][part] = round(side_ratios_dict_final[class_i][part],3)\n",
    "        for i in range(4):\n",
    "            stats_dict_final[class_i][part][i] = round(stats_dict_final[class_i][part][i],3)\n",
    "        \n",
    "# This function can be used to print the IOU / MSE values for all the classes for each model.\n",
    "# Can change the model by changing the dictionary used as a parameter in the class_iou function.\n",
    "# I am simply printing the values in this fashion and copying them into the excel sheet since could not find function to create tables like Excel tables\n",
    "# for current_class in selected_class:\n",
    "#     print(round(class_iou(mse_loss_dict_final_1,counts_dict_final,current_class),3))"
   ]
  },
  {
   "cell_type": "code",
   "execution_count": 28,
   "id": "a743407d",
   "metadata": {},
   "outputs": [],
   "source": [
    "def class_iou(loss_dict_final,counts_dict_final,current_class):\n",
    "    total_count=0\n",
    "    total_val=0\n",
    "    for part in range(num_nodes):\n",
    "        loss_dict_final[current_class] = np.nan_to_num(loss_dict_final[current_class])\n",
    "        total_val+=loss_dict_final[current_class][part] * counts_dict_final[current_class][part]\n",
    "        total_count+=counts_dict_final[current_class][part]\n",
    "    total_val=total_val/total_count\n",
    "    return total_val"
   ]
  },
  {
   "cell_type": "code",
   "execution_count": 29,
   "id": "f47bbd54",
   "metadata": {},
   "outputs": [
    {
     "name": "stdout",
     "output_type": "stream",
     "text": [
      "cow\n",
      "sheep\n",
      "bird\n",
      "person\n",
      "cat\n",
      "dog\n",
      "horse\n"
     ]
    }
   ],
   "source": [
    "for current_class in selected_class:\n",
    "    print(current_class)"
   ]
  },
  {
   "cell_type": "code",
   "execution_count": 30,
   "id": "ae719112",
   "metadata": {},
   "outputs": [
    {
     "name": "stdout",
     "output_type": "stream",
     "text": [
      "0.603\n",
      "0.685\n",
      "0.657\n",
      "0.638\n",
      "0.66\n",
      "0.64\n",
      "0.563\n"
     ]
    }
   ],
   "source": [
    "for current_class in selected_class:\n",
    "    print(round(class_iou(iou_loss_dict_final_1,counts_dict_final,current_class),3))"
   ]
  },
  {
   "cell_type": "code",
   "execution_count": 31,
   "id": "1ea6e77d",
   "metadata": {},
   "outputs": [],
   "source": [
    "# cat_labels = {'head':1, 'leye':2, 'reye':3, 'lear':4, 'rear':5, 'nose':6, 'torso':7, 'neck':8, 'lfleg':9, 'lfpa':10, 'rfleg':11, 'rfpa':12, 'lbleg':13, 'lbpa':14, 'rbleg':15, 'rbpa':16, 'tail':17}\n",
    "\n",
    "\n",
    "# cow_labels = {'head':1, 'leye':2, 'reye':3, 'lear':4, 'rear':5, 'muzzle':6, 'lhorn':7, 'rhorn':8, 'torso':9, 'neck':10, 'lfuleg':11, 'lflleg':12, 'rfuleg':13, 'rflleg':14, 'lbuleg':15, 'lblleg':16, 'rbuleg':17, 'rblleg':18, 'tail':19}\n",
    "\n",
    "\n",
    "\n",
    "# dog_labels = {'head':1, 'leye':2, 'reye':3, 'lear':4, 'rear':5, 'nose':6, 'torso':7, 'neck':8, 'lfleg':9, 'lfpa':10, 'rfleg':11, 'rfpa':12, 'lbleg':13, 'lbpa':14, 'rbleg':15, 'rbpa':16, 'tail':17, 'muzzle':18}\n",
    "\n",
    "\n",
    "# horse_labels = {'head':1, 'leye':2, 'reye':3, 'lear':4, 'rear':5, 'muzzle':6, 'lfho':7, 'rfho':8, 'torso':9, 'neck':10, 'lfuleg':11, 'lflleg':12, 'rfuleg':13, 'rflleg':14, 'lbuleg':15, 'lblleg':16, 'rbuleg':17, 'rblleg':18, 'tail':19, 'lbho':20, 'rbho':21}\n",
    "\n",
    "\n",
    "# person_labels = {'head':1, 'leye':2, 'reye':3, 'lear':4, 'rear':5, 'lebrow':6, 'rebrow':7, 'nose':8, 'mouth':9, 'hair':10, 'torso':11, 'neck': 12, 'llarm': 13, 'luarm': 14, 'lhand': 15, 'rlarm':16, 'ruarm':17, 'rhand': 18, 'llleg': 19, 'luleg':20, 'lfoot':21, 'rlleg':22, 'ruleg':23, 'rfoot':24}\n",
    "\n",
    "# sheep_labels = cow_labels\n",
    "\n",
    "\n",
    "\n",
    "# part_labels = {'bird': bird_labels, 'cat': cat_labels, 'cow': cow_labels, 'dog': dog_labels, 'sheep': sheep_labels, 'horse':horse_labels, 'bicycle':bicycle_labels, 'motorbike':motorbike_labels, 'person':person_labels,'aeroplane':aeroplane_labels}\n",
    "\n",
    "bird_labels = {'head':1 , 'torso':2, 'neck':3, 'lwing':4, 'rwing':5, 'lleg':6, 'lfoot':7, 'rleg':8, 'rfoot':9, 'tail':10}\n",
    "cat_labels = {'head':1, 'torso':2, 'neck':3, 'lfleg':4, 'lfpa':5, 'rfleg':6, 'rfpa':7, 'lbleg':8, 'lbpa':9, 'rbleg':10, 'rbpa':11, 'tail':12}\n",
    "cow_labels = {'head':1,'lhorn':2, 'rhorn':3, 'torso':4, 'neck':5, 'lfuleg':6, 'lflleg':7, 'rfuleg':8, 'rflleg':9, 'lbuleg':10, 'lblleg':11, 'rbuleg':12, 'rblleg':13, 'tail':14}\n",
    "dog_labels = {'head':1,'torso':2, 'neck':3, 'lfleg':4, 'lfpa':5, 'rfleg':6, 'rfpa':7, 'lbleg':8, 'lbpa':9, 'rbleg':10, 'rbpa':11, 'tail':12, 'muzzle':13}\n",
    "horse_labels = {'head':1,'lfho':2, 'rfho':3, 'torso':4, 'neck':5, 'lfuleg':6, 'lflleg':7, 'rfuleg':8, 'rflleg':9, 'lbuleg':10, 'lblleg':11, 'rbuleg':12, 'rblleg':13, 'tail':14, 'lbho':15, 'rbho':16}\n",
    "person_labels = {'head':1, 'torso':2, 'neck': 3, 'llarm': 4, 'luarm': 5, 'lhand': 6, 'rlarm':7, 'ruarm':8, 'rhand': 9, 'llleg': 10, 'luleg':11, 'lfoot':12, 'rlleg':13, 'ruleg':14, 'rfoot':15}\n",
    "sheep_labels = cow_labels\n",
    "part_labels_combined_parts = {'bird': bird_labels, 'cat': cat_labels, 'cow': cow_labels, 'dog': dog_labels, 'sheep': sheep_labels, 'horse':horse_labels,'person':person_labels}\n"
   ]
  },
  {
   "cell_type": "code",
   "execution_count": 32,
   "id": "d95db2ab",
   "metadata": {
    "scrolled": true
   },
   "outputs": [],
   "source": [
    "\n",
    "# Select the current_class\n",
    "res_list = []\n",
    "for current_class in selected_class:\n",
    "\n",
    "    mean_list_final = []\n",
    "    median_list_final = []\n",
    "    for i in stats_dict_final[current_class]:\n",
    "        mean_list_final.append(i[0])\n",
    "        median_list_final.append(i[2])\n",
    "\n",
    "    part_list=list(part_labels_combined_parts[current_class].keys())\n",
    "\n",
    "    while len(part_list) != num_nodes:\n",
    "        part_list.append(\"NA\")\n",
    "\n",
    "    counts_list=list(counts_dict_final[current_class])\n",
    "    ratios_list=list(side_ratios_dict_final[current_class])\n",
    "    mse_list_1=list(mse_loss_dict_final_1[current_class])\n",
    "    iou_list_1=list(iou_loss_dict_final_1[current_class])\n",
    "\n",
    "    data={\n",
    "        \"Class\": [current_class]*len(part_list),\n",
    "        \"Part\": part_list,\n",
    "        \"Count\" : list(counts_list),\n",
    "        \"Mean_Area\": mean_list_final,\n",
    "        \"Median_Area\": median_list_final,\n",
    "        \"Avg_side_ratio\": ratios_list,\n",
    "        \"mse\": list(mse_list_1),\n",
    "        \"IOU\": list(iou_list_1)\n",
    "    }\n",
    "\n",
    "    res_list.append(pd.DataFrame(data))\n"
   ]
  },
  {
   "cell_type": "code",
   "execution_count": 33,
   "id": "d5b7f7ec",
   "metadata": {
    "scrolled": true
   },
   "outputs": [],
   "source": [
    "pd.concat(res_list).to_csv('../part_wise_results_two_stage_pair_wise_iou_train.csv')"
   ]
  }
 ],
 "metadata": {
  "kernelspec": {
   "display_name": "Python 3 (ipykernel)",
   "language": "python",
   "name": "python3"
  },
  "language_info": {
   "codemirror_mode": {
    "name": "ipython",
    "version": 3
   },
   "file_extension": ".py",
   "mimetype": "text/x-python",
   "name": "python",
   "nbconvert_exporter": "python",
   "pygments_lexer": "ipython3",
   "version": "3.8.5"
  }
 },
 "nbformat": 4,
 "nbformat_minor": 5
}
