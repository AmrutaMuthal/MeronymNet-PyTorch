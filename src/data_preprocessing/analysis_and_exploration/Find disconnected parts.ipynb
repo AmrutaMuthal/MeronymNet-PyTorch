{
 "cells": [
  {
   "cell_type": "code",
   "execution_count": 1,
   "id": "00f210f6",
   "metadata": {},
   "outputs": [],
   "source": [
    "import sys\n",
    "import cv2\n",
    "import os\n",
    "import math\n",
    "import random\n",
    "import pickle\n",
    "import copy\n",
    "import numpy as np\n",
    "import matplotlib.pyplot as plt\n",
    "sys.path.append(\"C:\\\\Users\\\\user\\\\Documents\\\\Workspace\\\\MeronymNet-PyTorch\\\\src\")"
   ]
  },
  {
   "cell_type": "code",
   "execution_count": 2,
   "id": "852cbf07",
   "metadata": {},
   "outputs": [],
   "source": [
    "outfile = 'D:/meronym_data/X_train_raw.np'\n",
    "with open(outfile, 'rb') as pickle_file:\n",
    "    X_train = pickle.load(pickle_file)\n",
    "\n",
    "outfile = 'D:/meronym_data/class_v_train_raw.np'\n",
    "with open(outfile, 'rb') as pickle_file:\n",
    "    class_v = pickle.load(pickle_file)\n",
    "\n",
    "outfile = 'D:/meronym_data/adj_train_raw.np'\n",
    "with open(outfile, 'rb') as pickle_file:\n",
    "    adj_train = pickle.load(pickle_file)\n",
    "\n",
    "outfile = 'D:/meronym_data/X_test.np'\n",
    "with open(outfile, 'rb') as pickle_file:\n",
    "    X_test = pickle.load(pickle_file)\n",
    "\n",
    "outfile = 'D:/meronym_data/adj_test.np'\n",
    "with open(outfile, 'rb') as pickle_file:\n",
    "    adj_test = pickle.load(pickle_file)\n",
    "    \n",
    "outfile = 'D:/meronym_data/class_v_test.np'\n",
    "with open(outfile, 'rb') as pickle_file:\n",
    "    class_v_test = pickle.load(pickle_file)"
   ]
  },
  {
   "cell_type": "code",
   "execution_count": 33,
   "id": "a9338e73",
   "metadata": {},
   "outputs": [],
   "source": [
    "colors = [(1, 0, 0),\n",
    "          (0.737, 0.561, 0.561),\n",
    "          (0.255, 0.412, 0.882),\n",
    "          (0.545, 0.271, 0.0745),\n",
    "          (0.98, 0.502, 0.447),\n",
    "          (0.98, 0.643, 0.376),\n",
    "          (0.18, 0.545, 0.341),\n",
    "          (0.502, 0, 0.502),\n",
    "          (0.627, 0.322, 0.176),\n",
    "          (0.753, 0.753, 0.753),\n",
    "          (0.529, 0.808, 0.922),\n",
    "          (0.416, 0.353, 0.804),\n",
    "          (0.439, 0.502, 0.565),\n",
    "          (0.784, 0.302, 0.565),\n",
    "          (0.867, 0.627, 0.867),\n",
    "          (0, 1, 0.498),\n",
    "          (0.275, 0.51, 0.706),\n",
    "          (0.824, 0.706, 0.549),\n",
    "          (0, 0.502, 0.502),\n",
    "          (0.847, 0.749, 0.847),\n",
    "          (1, 0.388, 0.278),\n",
    "          (0.251, 0.878, 0.816),\n",
    "          (0.933, 0.51, 0.933),\n",
    "          (0.961, 0.871, 0.702)]\n",
    "colors = (np.asarray(colors)*255)\n",
    "canvas_size = 550\n",
    "def plot_bbx(bbx):\n",
    "    bbx = bbx*canvas_size\n",
    "    canvas = np.ones((canvas_size,canvas_size,3), np.uint8) * 255\n",
    "    for i, coord in enumerate(bbx):\n",
    "        x_minp, y_minp,x_maxp , y_maxp= coord\n",
    "        if [x_minp, y_minp,x_maxp , y_maxp]!=[0,0,0,0]:\n",
    "            cv2.rectangle(canvas, (int(x_minp), int(y_minp)), (int(x_maxp) , int(y_maxp) ), colors[i], 6)\n",
    "    return canvas\n"
   ]
  },
  {
   "cell_type": "code",
   "execution_count": 119,
   "id": "1138a2d2",
   "metadata": {},
   "outputs": [],
   "source": [
    "def intersection(box1, box2):\n",
    "    \n",
    "    _, x1g, y1g, x2g, y2g = box1\n",
    "    _, x1, y1, x2, y2 = box2\n",
    "    \n",
    "    xA = np.minimum(x1g, x1)\n",
    "    yA = np.maximum(y1g, y1)\n",
    "    xB = np.minimum(x2g, x2)\n",
    "    yB = np.minimum(y2g, y2)\n",
    "    \n",
    "    if x1==x1 or y1==y2 or x1g==xg2 or yg1==yg2:\n",
    "        return 0.1\n",
    "    return np.maximum(0, (xB - xA)) * np.maximum(0, yB - yA)\n",
    "    \n",
    "    "
   ]
  },
  {
   "cell_type": "code",
   "execution_count": 124,
   "id": "a3ff3382",
   "metadata": {},
   "outputs": [],
   "source": [
    "def is_disconnected(image):\n",
    "    parts = np.where(image[:,0]==1)\n",
    "    for part_idx_i in parts[0]:\n",
    "        intersection_found = False\n",
    "        for part_idx_j in parts[0]:\n",
    "            if part_idx_i!=part_idx_j:\n",
    "                intersect_area = intersection(image[part_idx_i],image[part_idx_j])\n",
    "                if intersect_area>0:\n",
    "                    intersection_found = True\n",
    "                    break\n",
    "        if not intersection_found:\n",
    "            return 1\n",
    "    return 0\n",
    "            \n",
    "            "
   ]
  },
  {
   "cell_type": "code",
   "execution_count": 125,
   "id": "3046b859",
   "metadata": {},
   "outputs": [],
   "source": [
    "def plot_all_boxes(images):\n",
    "    plots = len(images)\n",
    "    figure = plt.figure(figsize=(20, 10))\n",
    "    for i, img in enumerate(images):\n",
    "        plt.subplot(int(np.ceil(plots/5)), 5, i+1)\n",
    "        plt.xlim(0, 1)\n",
    "        plt.ylim(0, 1)\n",
    "        for box in img:\n",
    "            x_min, y_min, x_max, y_max = box\n",
    "            plt.plot([x_min, x_max, x_max, x_min, x_min],\n",
    "                     [y_min, y_min, y_max, y_max, y_min]\n",
    "                    )\n",
    "    plt.show()\n",
    "            "
   ]
  },
  {
   "cell_type": "code",
   "execution_count": 126,
   "id": "ccc00775",
   "metadata": {},
   "outputs": [
    {
     "data": {
      "text/plain": [
       "(array([12430, 12485, 12499, 12554, 12578, 12579, 12688, 12689, 12716,\n",
       "        12717, 12826, 12827, 12874, 12875, 12876, 12877, 13094, 13095,\n",
       "        13096, 13097, 13150, 13151, 13152, 13153, 13370, 13371, 13372,\n",
       "        13373, 13466, 13467, 13468, 13469, 13470, 13471, 13472, 13473,\n",
       "        13906, 13907, 13908, 13909, 13910, 13911, 13912, 13913, 14018,\n",
       "        14019, 14020, 14021, 14022, 14023, 14024, 14025, 14458, 14459,\n",
       "        14460, 14461, 14462, 14463, 14464, 14465], dtype=int64),)"
      ]
     },
     "execution_count": 126,
     "metadata": {},
     "output_type": "execute_result"
    }
   ],
   "source": [
    "disconnected_label = []\n",
    "for image in X_test:\n",
    "    disconnected_label.append(is_disconnected(image))\n",
    "disconnected_idx = np.where(np.array(disconnected_label)==1)\n",
    "disconnected_idx"
   ]
  },
  {
   "cell_type": "code",
   "execution_count": 127,
   "id": "b022cbc3",
   "metadata": {},
   "outputs": [
    {
     "data": {
      "image/png": "[encoded data removed]",
      "text/plain": [
       "<Figure size 1440x720 with 10 Axes>"
      ]
     },
     "metadata": {
      "needs_background": "light"
     },
     "output_type": "display_data"
    }
   ],
   "source": [
    "plot_all_boxes(X_test[disconnected_idx[0][:10],:,1:])"
   ]
  },
  {
   "cell_type": "code",
   "execution_count": 95,
   "id": "59a6ad1d",
   "metadata": {},
   "outputs": [
    {
     "data": {
      "text/plain": [
       "<matplotlib.image.AxesImage at 0x213ff552d60>"
      ]
     },
     "execution_count": 95,
     "metadata": {},
     "output_type": "execute_result"
    },
    {
     "data": {
      "image/png": "[encoded data removed]",
      "text/plain": [
       "<Figure size 432x288 with 1 Axes>"
      ]
     },
     "metadata": {
      "needs_background": "light"
     },
     "output_type": "display_data"
    }
   ],
   "source": [
    "canvas_size=550\n",
    "plt.imshow(plot_bbx(X_test[13,:,1:]*1.4))"
   ]
  },
  {
   "cell_type": "code",
   "execution_count": 96,
   "id": "430a91c7",
   "metadata": {},
   "outputs": [
    {
     "data": {
      "text/plain": [
       "660.0"
      ]
     },
     "execution_count": 96,
     "metadata": {},
     "output_type": "execute_result"
    }
   ],
   "source": [
    "1.2*550"
   ]
  }
 ],
 "metadata": {
  "kernelspec": {
   "display_name": "Python 3 (ipykernel)",
   "language": "python",
   "name": "python3"
  },
  "language_info": {
   "codemirror_mode": {
    "name": "ipython",
    "version": 3
   },
   "file_extension": ".py",
   "mimetype": "text/x-python",
   "name": "python",
   "nbconvert_exporter": "python",
   "pygments_lexer": "ipython3",
   "version": "3.8.16"
  }
 },
 "nbformat": 4,
 "nbformat_minor": 5
}
