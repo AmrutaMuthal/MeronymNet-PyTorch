{
 "cells": [
  {
   "cell_type": "code",
   "execution_count": 1,
   "id": "d72c6b7b",
   "metadata": {},
   "outputs": [],
   "source": [
    "import sys\n",
    "import cv2\n",
    "import os\n",
    "import math\n",
    "import random\n",
    "import pickle\n",
    "import copy\n",
    "import numpy as np\n",
    "import matplotlib.pyplot as plt\n",
    "sys.path.append(\"C:\\\\Users\\\\user\\\\Documents\\\\Workspace\\\\MeronymNet-PyTorch\\\\src\")"
   ]
  },
  {
   "cell_type": "code",
   "execution_count": 2,
   "id": "5130f323",
   "metadata": {},
   "outputs": [],
   "source": [
    "outfile = 'D:/meronym_data/X_train_raw.np'\n",
    "with open(outfile, 'rb') as pickle_file:\n",
    "    X_train = pickle.load(pickle_file)\n",
    "\n",
    "outfile = 'D:/meronym_data/class_v_train_raw.np'\n",
    "with open(outfile, 'rb') as pickle_file:\n",
    "    class_v = pickle.load(pickle_file)\n",
    "\n",
    "outfile = 'D:/meronym_data/adj_train_raw.np'\n",
    "with open(outfile, 'rb') as pickle_file:\n",
    "    adj_train = pickle.load(pickle_file)\n",
    "\n",
    "outfile = 'D:/meronym_data/X_test.np'\n",
    "with open(outfile, 'rb') as pickle_file:\n",
    "    X_test = pickle.load(pickle_file)\n",
    "\n",
    "outfile = 'D:/meronym_data/adj_test.np'\n",
    "with open(outfile, 'rb') as pickle_file:\n",
    "    adj_test = pickle.load(pickle_file)\n",
    "    \n",
    "outfile = 'D:/meronym_data/class_v_test.np'\n",
    "with open(outfile, 'rb') as pickle_file:\n",
    "    class_v_test = pickle.load(pickle_file)"
   ]
  },
  {
   "cell_type": "code",
   "execution_count": null,
   "id": "04a84c84",
   "metadata": {},
   "outputs": [],
   "source": [
    "def intersection(box1, box2):\n",
    "    \n",
    "    x1g, y1g, x2g, y2g = box1\n",
    "    x1, y1, x2, y2 = box2\n",
    "    \n",
    "    xA = np.minimum(x1g, x1)\n",
    "    yA = np.maximum(y1g, y1)\n",
    "    xB = np.minimum(x2g, x2)\n",
    "    yB = np.minimum(y2g, y2)\n",
    "    \n",
    "    return np.maximum(0, (xB - xA + 1)) * torch.maximum(0, yB - yA + 1)\n",
    "    \n",
    "    "
   ]
  }
 ],
 "metadata": {
  "kernelspec": {
   "display_name": "Python 3 (ipykernel)",
   "language": "python",
   "name": "python3"
  },
  "language_info": {
   "codemirror_mode": {
    "name": "ipython",
    "version": 3
   },
   "file_extension": ".py",
   "mimetype": "text/x-python",
   "name": "python",
   "nbconvert_exporter": "python",
   "pygments_lexer": "ipython3",
   "version": "3.8.5"
  }
 },
 "nbformat": 4,
 "nbformat_minor": 5
}
