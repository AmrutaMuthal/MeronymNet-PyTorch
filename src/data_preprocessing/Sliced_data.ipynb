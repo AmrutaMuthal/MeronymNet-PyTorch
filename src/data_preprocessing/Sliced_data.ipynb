{
 "cells": [
  {
   "cell_type": "code",
   "execution_count": 1,
   "id": "30d17e4e",
   "metadata": {},
   "outputs": [],
   "source": [
    "import numpy as np\n",
    "import sys\n",
    "import collections\n",
    "import cv2\n",
    "import os\n",
    "import math\n",
    "import random\n",
    "import pickle\n",
    "import copy\n",
    "import matplotlib.pyplot as plt\n",
    "sys.path.append(\"C:\\\\Users\\\\user\\\\Documents\\\\Workspace\\\\MeronymNet-PyTorch\\\\src\")"
   ]
  },
  {
   "cell_type": "code",
   "execution_count": 2,
   "id": "73b73dc0",
   "metadata": {},
   "outputs": [],
   "source": [
    "def get_slices(bbox, canvas_size = 50):\n",
    "    \"\"\"\n",
    "    Convert bbox coordinates to a channel slice.\n",
    "    \"\"\"\n",
    "    label, x_min, y_min, x_max, y_max = bbox\n",
    "    channel_slice = np.zeros([canvas_size, canvas_size])\n",
    "    if label!=0:\n",
    "        channel_slice[x_min:x_max+1][:, y_min:y_max+1]=1\n",
    "    \n",
    "    return channel_slice\n",
    "    "
   ]
  },
  {
   "cell_type": "code",
   "execution_count": 3,
   "id": "227b3576",
   "metadata": {},
   "outputs": [
    {
     "name": "stdout",
     "output_type": "stream",
     "text": [
      "(5130, 16, 50, 50)\n",
      "(660, 16, 50, 50)\n",
      "(1050, 16, 50, 50)\n"
     ]
    }
   ],
   "source": [
    "file_suffix = ['X_train', 'X_train_val', 'X_test']\n",
    "for file in file_suffix:\n",
    "    \n",
    "    outfile = 'D:/meronym_data/'+file+'_combined.np'\n",
    "    with open(outfile, 'rb') as pickle_file:\n",
    "        temp = pickle.load(pickle_file)\n",
    "    temp = np.round(temp*50)\n",
    "    temp = temp.astype(int)\n",
    "    temp_sliced = np.apply_along_axis(get_slices, -1, temp)\n",
    "    print(temp_sliced.shape)\n",
    "    \n",
    "    outfile = 'D:/meronym_data/'+file+'_sliced.np'\n",
    "    with open(outfile, 'wb') as pickle_file:\n",
    "        pickle.dump(temp_sliced,pickle_file)"
   ]
  },
  {
   "cell_type": "code",
   "execution_count": null,
   "id": "fd93aa2f",
   "metadata": {},
   "outputs": [],
   "source": []
  }
 ],
 "metadata": {
  "kernelspec": {
   "display_name": "Python [conda env:root] *",
   "language": "python",
   "name": "conda-root-py"
  },
  "language_info": {
   "codemirror_mode": {
    "name": "ipython",
    "version": 3
   },
   "file_extension": ".py",
   "mimetype": "text/x-python",
   "name": "python",
   "nbconvert_exporter": "python",
   "pygments_lexer": "ipython3",
   "version": "3.8.5"
  }
 },
 "nbformat": 4,
 "nbformat_minor": 5
}
