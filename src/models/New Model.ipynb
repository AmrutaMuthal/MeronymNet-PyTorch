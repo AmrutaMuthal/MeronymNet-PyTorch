{
 "cells": [
  {
   "cell_type": "code",
   "execution_count": 10,
   "id": "7cfd1439",
   "metadata": {},
   "outputs": [
    {
     "name": "stdout",
     "output_type": "stream",
     "text": [
      "The autoreload extension is already loaded. To reload it, use:\n",
      "  %reload_ext autoreload\n"
     ]
    }
   ],
   "source": [
    "%load_ext autoreload\n",
    "%autoreload 2"
   ]
  },
  {
   "cell_type": "code",
   "execution_count": 11,
   "id": "5671166e",
   "metadata": {},
   "outputs": [
    {
     "name": "stdout",
     "output_type": "stream",
     "text": [
      "env: CUDA_LAUNCH_BLOCKING=1\n"
     ]
    }
   ],
   "source": [
    "%set_env CUDA_LAUNCH_BLOCKING=1"
   ]
  },
  {
   "cell_type": "code",
   "execution_count": 12,
   "id": "21434d68",
   "metadata": {},
   "outputs": [],
   "source": [
    "import sys\n",
    "import collections\n",
    "import cv2\n",
    "import os\n",
    "import math\n",
    "import random\n",
    "import pickle\n",
    "import copy\n",
    "import numpy as np\n",
    "import pickle\n",
    "sys.path.append(\"/home/tanvikamble/MeronymNet-PyTorch/src\")"
   ]
  },
  {
   "cell_type": "code",
   "execution_count": 13,
   "id": "e88c7fb7",
   "metadata": {},
   "outputs": [],
   "source": [
    "import torch\n",
    "import torch.optim as optim\n",
    "from torch_geometric.data import Data\n",
    "from torch_geometric.utils import dense_to_sparse\n",
    "from torch_geometric.data import DataLoader\n",
    "import torch.utils.data as data_utils\n",
    "from torch.utils.tensorboard import SummaryWriter"
   ]
  },
  {
   "cell_type": "code",
   "execution_count": 14,
   "id": "4e46b5d8",
   "metadata": {},
   "outputs": [],
   "source": [
    "from losses import BoxVAE_losses as loss\n",
    "from components.AutoEncoder import GCNAutoEncoder_Combined_Parts\n",
    "from components.Decoder import Decoder"
   ]
  },
  {
   "cell_type": "code",
   "execution_count": 15,
   "id": "d19349cb",
   "metadata": {},
   "outputs": [],
   "source": [
    "import matplotlib.pyplot as plt"
   ]
  },
  {
   "cell_type": "code",
   "execution_count": 16,
   "id": "0b59f5f7",
   "metadata": {},
   "outputs": [],
   "source": [
    "# from mask_generation import masked_sketch"
   ]
  },
  {
   "cell_type": "code",
   "execution_count": 17,
   "id": "4e512f48",
   "metadata": {},
   "outputs": [],
   "source": [
    "colors = [(1, 0, 0),\n",
    "          (0.737, 0.561, 0.561),\n",
    "          (0.255, 0.412, 0.882),\n",
    "          (0.545, 0.271, 0.0745),\n",
    "          (0.98, 0.502, 0.447),\n",
    "          (0.98, 0.643, 0.376),\n",
    "          (0.18, 0.545, 0.341),\n",
    "          (0.502, 0, 0.502),\n",
    "          (0.627, 0.322, 0.176),\n",
    "          (0.753, 0.753, 0.753),\n",
    "          (0.529, 0.808, 0.922),\n",
    "          (0.416, 0.353, 0.804),\n",
    "          (0.439, 0.502, 0.565),\n",
    "          (0.784, 0.302, 0.565),\n",
    "          (0.867, 0.627, 0.867),\n",
    "          (0, 1, 0.498),\n",
    "          (0.275, 0.51, 0.706),\n",
    "          (0.824, 0.706, 0.549),\n",
    "          (0, 0.502, 0.502),\n",
    "          (0.847, 0.749, 0.847),\n",
    "          (1, 0.388, 0.278),\n",
    "          (0.251, 0.878, 0.816),\n",
    "          (0.933, 0.51, 0.933),\n",
    "          (0.961, 0.871, 0.702)]\n",
    "colors = (np.asarray(colors)*255)\n",
    "canvas_size = 660\n",
    "\n",
    "def plot_bbx(bbx):\n",
    "    bbx = bbx*canvas_size\n",
    "    canvas = np.ones((canvas_size,canvas_size,3), np.uint8) * 255\n",
    "    for i, coord in enumerate(bbx):\n",
    "        x_minp, y_minp,x_maxp , y_maxp= coord\n",
    "        if [x_minp, y_minp,x_maxp , y_maxp]!=[0,0,0,0]:\n",
    "            cv2.rectangle(canvas, (int(x_minp), int(y_minp)), (int(x_maxp) , int(y_maxp) ), colors[i], 6)\n",
    "    return canvas\n",
    "\n",
    "# def plot_bbx(bbx):\n",
    "#     bbx = bbx*canvas_size\n",
    "#     canvas = np.ones((canvas_size,canvas_size,3), np.uint8) * 255\n",
    "#     for i, coord in enumerate(bbx):\n",
    "#         x, y, w ,h = coord\n",
    "#         if [x, y, w ,h]!=[0,0,0,0]:\n",
    "#             cv2.rectangle(canvas, (int(x), int(y)), (int(x + w) , int(y + h) ), colors[i], 6)\n",
    "#     return canvas\n"
   ]
  },
  {
   "cell_type": "code",
   "execution_count": 18,
   "id": "0381e098",
   "metadata": {},
   "outputs": [],
   "source": [
    "def inference(decoder, nodes, obj_class, latent_dims, batch_size):\n",
    "\n",
    "    decoder.cuda()\n",
    "    z_latent = torch.normal(torch.zeros([batch_size,latent_dims])).cuda()\n",
    "    nodes = torch.reshape(nodes,(batch_size,decoder.num_nodes))\n",
    "    obj_class = torch.reshape(obj_class,(batch_size, decoder.class_size))\n",
    "    conditioned_z = torch.cat([nodes, z_latent],dim=-1)\n",
    "    conditioned_z = torch.cat([obj_class, conditioned_z],dim=-1)\n",
    "    \n",
    "    x_bbx, x_lbl = decoder(conditioned_z)\n",
    "    if x_lbl == None:\n",
    "        return x_bbx,z_latent\n",
    "    else:\n",
    "        return x_bbx, x_lbl, z_latent"
   ]
  },
  {
   "cell_type": "code",
   "execution_count": 19,
   "id": "3855bd88",
   "metadata": {},
   "outputs": [],
   "source": [
    "outfile = '/home/tanvikamble/MeronymNet-PyTorch/src/processed_data/combined_parts/X_train.np'\n",
    "with open(outfile, 'rb') as pickle_file:\n",
    "    X_train = pickle.load(pickle_file)\n",
    "\n",
    "outfile = '/home/tanvikamble/MeronymNet-PyTorch/src/processed_data/combined_parts/class_v.np'\n",
    "with open(outfile, 'rb') as pickle_file:\n",
    "    class_v = pickle.load(pickle_file)\n",
    "\n",
    "outfile = '/home/tanvikamble/MeronymNet-PyTorch/src/processed_data/combined_parts/adj_train.np'\n",
    "with open(outfile, 'rb') as pickle_file:\n",
    "    adj_train = pickle.load(pickle_file)\n",
    "\n",
    "outfile = '/home/tanvikamble/MeronymNet-PyTorch/src/processed_data/combined_parts/X_train_val.np'\n",
    "with open(outfile, 'rb') as pickle_file:\n",
    "    X_train_val = pickle.load(pickle_file)\n",
    "\n",
    "outfile = '/home/tanvikamble/MeronymNet-PyTorch/src/processed_data/combined_parts/class_v_val.np'\n",
    "with open(outfile, 'rb') as pickle_file:\n",
    "    class_v_val = pickle.load(pickle_file)\n",
    "    \n",
    "outfile = '/home/tanvikamble/MeronymNet-PyTorch/src/processed_data/combined_parts/adj_train_val.np'\n",
    "with open(outfile, 'rb') as pickle_file:\n",
    "    adj_train_val = pickle.load(pickle_file)\n",
    "    \n",
    "# outfile = '/home/tanvikamble/MeronymNet-PyTorch/src/processed_data/only_torso_experiment_2/X_test.np'\n",
    "# with open(outfile, 'rb') as pickle_file:\n",
    "#     X_test = pickle.load(pickle_file)\n",
    "\n",
    "# outfile = '/home/tanvikamble/MeronymNet-PyTorch/src/processed_data/only_torso_experiment/adj_test.np'\n",
    "# with open(outfile, 'rb') as pickle_file:\n",
    "#     adj_test = pickle.load(pickle_file)\n",
    "    \n",
    "# outfile = '/home/tanvikamble/MeronymNet-PyTorch/src/processed_data/only_torso_experiment/class_v_test.np'\n",
    "# with open(outfile, 'rb') as pickle_file:\n",
    "#     class_v_test = pickle.load(pickle_file)"
   ]
  },
  {
   "cell_type": "code",
   "execution_count": 20,
   "id": "a26ed95d",
   "metadata": {},
   "outputs": [
    {
     "name": "stdout",
     "output_type": "stream",
     "text": [
      "(50910, 16, 5)\n",
      "(50910, 7)\n",
      "(50910, 16, 16)\n"
     ]
    }
   ],
   "source": [
    "print(X_train.shape)\n",
    "print(class_v.shape)\n",
    "print(adj_train.shape)\n",
    "# print(X_test.shape)"
   ]
  },
  {
   "cell_type": "raw",
   "id": "9e55bfed",
   "metadata": {},
   "source": [
    "X_train[:, :, 4] = X_train[:, :, 4] - X_train[:, :, 2]\n",
    "X_train[:, :, 3] = X_train[:, :, 3] - X_train[:, :, 1]\n",
    "\n",
    "X_train_val[:, :, 4] = X_train_val[:, :, 4] - X_train_val[:, :, 2]\n",
    "X_train_val[:, :, 3] = X_train_val[:, :, 3] - X_train_val[:, :, 1]\n",
    "\n",
    "X_test[:, :, 4] = X_test[:, :, 4] - X_test[:, :, 2]\n",
    "X_test[:, :, 3] = X_test[:, :, 3] - X_test[:, :, 1]"
   ]
  },
  {
   "cell_type": "code",
   "execution_count": 26,
   "id": "97e68df5",
   "metadata": {},
   "outputs": [],
   "source": [
    "X_train[X_train<=0] = 0\n",
    "X_train_val[X_train_val<=0] = 0\n",
    "# X_test[X_test<=0] = 0\n",
    "\n",
    "X_train[X_train>=1] = 1\n",
    "X_train_val[X_train_val>=1] = 1\n",
    "# X_test[X_test>=1] = 1"
   ]
  },
  {
   "cell_type": "markdown",
   "id": "ddfcc203",
   "metadata": {},
   "source": [
    "# For scaling data to small canvases"
   ]
  },
  {
   "cell_type": "code",
   "execution_count": 56,
   "id": "a8a9e2a6",
   "metadata": {},
   "outputs": [],
   "source": [
    "def get_limits(X_train):\n",
    "    X_train_new_limits = np.zeros((X_train.shape[0],4))\n",
    "    for i in range(X_train.shape[0]):\n",
    "        min_x=660\n",
    "        max_x=0\n",
    "        min_y=660\n",
    "        max_y=0\n",
    "        for j in range(16):\n",
    "            if X_train[i][j][0] == 1:\n",
    "                min_x = min(min_x,min(X_train[i][j][1]*660,X_train[i][j][3]*660))\n",
    "                min_y = min(min_y,min(X_train[i][j][2]*660,X_train[i][j][4]*660))\n",
    "\n",
    "                max_x = max(max_x,max(X_train[i][j][1]*660,X_train[i][j][3]*660))\n",
    "                max_y = max(max_y,max(X_train[i][j][2]*660,X_train[i][j][4]*660))\n",
    "        X_train_new_limits[i][0] = min_x\n",
    "        X_train_new_limits[i][1] = min_y\n",
    "        X_train_new_limits[i][2] = max_x\n",
    "        X_train_new_limits[i][3] = max_y\n",
    "    return X_train_new_limits"
   ]
  },
  {
   "cell_type": "code",
   "execution_count": 57,
   "id": "153778a2",
   "metadata": {},
   "outputs": [],
   "source": [
    "def get_new_coordinates(X_train,X_train_new_limits,final_canvas_size_x,final_canvas_size_y):\n",
    "    X_train_new_coordinates = np.zeros((X_train.shape[0],16,5))\n",
    "    for i in range(X_train.shape[0]):\n",
    "        min_x=X_train_new_limits[i][0]\n",
    "        min_y=X_train_new_limits[i][1]\n",
    "        max_x=X_train_new_limits[i][2]\n",
    "        max_y=X_train_new_limits[i][3]\n",
    "\n",
    "    #     print(max_x - min_x , max_y - min_y)\n",
    "        for j in range(16):\n",
    "            if X_train[i][j][0] == 1:\n",
    "                X_train_new_coordinates[i][j][0] = X_train[i][j][0]\n",
    "                # Scaling X\n",
    "                X_train_new_coordinates[i][j][1] = int(final_canvas_size_x * float(((X_train[i][j][1]*660) - min_x) / (max_x - min_x)))\n",
    "                X_train_new_coordinates[i][j][3] = int(final_canvas_size_x * float(((X_train[i][j][3]*660) - min_x) / (max_x - min_x)))\n",
    "                #Scaling Y\n",
    "                X_train_new_coordinates[i][j][2] = int(final_canvas_size_y * float(((X_train[i][j][2]*660) - min_y) / (max_y - min_y)))\n",
    "                X_train_new_coordinates[i][j][4] = int(final_canvas_size_y * float(((X_train[i][j][4]*660) - min_y) / (max_y - min_y)))\n",
    "    return X_train_new_coordinates"
   ]
  },
  {
   "cell_type": "code",
   "execution_count": 58,
   "id": "bf3cd33f",
   "metadata": {},
   "outputs": [],
   "source": [
    "final_canvas_size_x = 100\n",
    "final_canvas_size_y = 100"
   ]
  },
  {
   "cell_type": "code",
   "execution_count": 59,
   "id": "15d26d1d",
   "metadata": {},
   "outputs": [
    {
     "name": "stdout",
     "output_type": "stream",
     "text": [
      "[[312.    305.    347.    354.   ]\n",
      " [224.    283.    436.    377.   ]\n",
      " [185.    222.    474.    438.   ]\n",
      " ...\n",
      " [184.55  158.3   475.4   501.65 ]\n",
      " [195.725 171.35  465.8   490.175]\n",
      " [187.275 161.65  471.2   496.825]]\n"
     ]
    }
   ],
   "source": [
    "X_train_new_limits = get_limits(X_train)\n",
    "print(X_train_new_limits)\n",
    "X_train_new_coordinates = get_new_coordinates(X_train,X_train_new_limits,final_canvas_size_x,final_canvas_size_y)\n",
    "\n",
    "\n",
    "\n",
    "X_train_val_new_limits = get_limits(X_train_val)\n",
    "X_train_val_new_coordinates = get_new_coordinates(X_train_val,X_train_val_new_limits,final_canvas_size_x,final_canvas_size_y)"
   ]
  },
  {
   "cell_type": "code",
   "execution_count": 39,
   "id": "268104ee",
   "metadata": {},
   "outputs": [],
   "source": [
    "# for i in range(5):\n",
    "#     for j in range(16):\n",
    "#         if X_train[i][j][0] == 1:\n",
    "#             print(X_train[i][j]*660)\n",
    "#             print(\"xxxxxxxxxxxxxxxxxxxx\")\n",
    "#     print(X_train_new_limits[i])\n",
    "#     print(\"xxxxxxxxxxxxxxxxxxxx\")\n",
    "#     print(\"End of This Object\")"
   ]
  },
  {
   "cell_type": "code",
   "execution_count": 41,
   "id": "d61f4a13",
   "metadata": {},
   "outputs": [],
   "source": []
  },
  {
   "cell_type": "code",
   "execution_count": 60,
   "id": "f2aab396",
   "metadata": {},
   "outputs": [],
   "source": [
    "X_train_new_limits = X_train_new_limits/660\n",
    "for i in range(X_train_new_coordinates.shape[0]):\n",
    "    for j in range(16):\n",
    "        for k in range(1,4):\n",
    "            X_train_new_coordinates[i][j][k] = X_train_new_coordinates[i][j][k]/100 "
   ]
  },
  {
   "cell_type": "code",
   "execution_count": 67,
   "id": "de420333",
   "metadata": {},
   "outputs": [],
   "source": [
    "X_train_val_new_limits = X_train_val_new_limits/660\n",
    "for i in range(X_train_val_new_coordinates.shape[0]):\n",
    "    for j in range(16):\n",
    "        for k in range(1,4):\n",
    "            X_train_val_new_coordinates[i][j][k] = X_train_val_new_coordinates[i][j][k]/100 "
   ]
  },
  {
   "cell_type": "code",
   "execution_count": 68,
   "id": "673bec64",
   "metadata": {},
   "outputs": [
    {
     "name": "stdout",
     "output_type": "stream",
     "text": [
      "[0.39090909 0.42575758 0.60909091 0.57272727]\n",
      "[[1.0e+00 0.0e+00 3.1e-01 3.2e-01 9.7e+01]\n",
      " [0.0e+00 0.0e+00 0.0e+00 0.0e+00 0.0e+00]\n",
      " [0.0e+00 0.0e+00 0.0e+00 0.0e+00 0.0e+00]\n",
      " [1.0e+00 8.0e-02 0.0e+00 9.7e-01 8.1e+01]\n",
      " [1.0e+00 1.0e-01 3.1e-01 2.3e-01 4.8e+01]\n",
      " [1.0e+00 2.0e-01 7.2e-01 4.4e-01 9.1e+01]\n",
      " [1.0e+00 2.1e-01 8.0e-01 4.6e-01 9.4e+01]\n",
      " [0.0e+00 0.0e+00 0.0e+00 0.0e+00 0.0e+00]\n",
      " [0.0e+00 0.0e+00 0.0e+00 0.0e+00 0.0e+00]\n",
      " [1.0e+00 7.4e-01 4.3e-01 9.0e-01 7.6e+01]\n",
      " [1.0e+00 6.3e-01 6.9e-01 8.5e-01 1.0e+02]\n",
      " [0.0e+00 0.0e+00 0.0e+00 0.0e+00 0.0e+00]\n",
      " [1.0e+00 6.0e-01 5.6e-01 7.9e-01 8.9e+01]\n",
      " [1.0e+00 8.9e-01 7.0e-02 1.0e+00 6.9e+01]\n",
      " [0.0e+00 0.0e+00 0.0e+00 0.0e+00 0.0e+00]\n",
      " [0.0e+00 0.0e+00 0.0e+00 0.0e+00 0.0e+00]]\n",
      "float64\n"
     ]
    }
   ],
   "source": [
    "print(X_train_val_new_limits[100])\n",
    "print(X_train_val_new_coordinates[10])\n",
    "print(X_train_val_new_coordinates.dtype)"
   ]
  },
  {
   "cell_type": "code",
   "execution_count": 34,
   "id": "f4faa809",
   "metadata": {},
   "outputs": [],
   "source": [
    "# for i in range(0,X_train.shape[0],100):\n",
    "#     print(\"Start\")\n",
    "#     print(\"Min and Max Coordinates\")\n",
    "#     print(X_train_new_limits[i][0],X_train_new_limits[i][1],X_train_new_limits[i][2],X_train_new_limits[i][3])\n",
    "#     for j in range(16):\n",
    "#         if X_train[i][j][0] == 1:\n",
    "#             print(\"Before Scaling Coordinates: \")\n",
    "#             print(X_train[i][j][1]*660,X_train[i][j][2]*660,X_train[i][j][3]*660,X_train[i][j][4]*660)\n",
    "#         if X_train_new_coordinates[i][j][0] == 1:\n",
    "#             print(\"After Scaling coordinates: \")\n",
    "#             print(X_train_new_coordinates[i][j][1], X_train_new_coordinates[i][j][2] , X_train_new_coordinates[i][j][3], X_train_new_coordinates[i][j][4])\n",
    "#     print(\"xxxxxxxxxxxxxxxxxxxxxxxxxxxxxxxxxxxxxxxxxxxxxxxxxxxx\")\n",
    "#     break\n",
    "            "
   ]
  },
  {
   "cell_type": "markdown",
   "id": "d5aaf59a",
   "metadata": {},
   "source": [
    "# End of scaling to small canvas experiment\n",
    "- X_train_new_limits are the new limits we need\n",
    "- X_train_new_coordintates are the new coordinates"
   ]
  },
  {
   "cell_type": "code",
   "execution_count": null,
   "id": "fda09edd",
   "metadata": {},
   "outputs": [],
   "source": []
  }
 ],
 "metadata": {
  "kernelspec": {
   "display_name": "Python 3 (ipykernel)",
   "language": "python",
   "name": "python3"
  },
  "language_info": {
   "codemirror_mode": {
    "name": "ipython",
    "version": 3
   },
   "file_extension": ".py",
   "mimetype": "text/x-python",
   "name": "python",
   "nbconvert_exporter": "python",
   "pygments_lexer": "ipython3",
   "version": "3.9.5"
  }
 },
 "nbformat": 4,
 "nbformat_minor": 5
}
