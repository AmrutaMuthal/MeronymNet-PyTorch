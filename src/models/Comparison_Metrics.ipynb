{
 "cells": [
  {
   "cell_type": "code",
   "execution_count": 1,
   "id": "8a561603",
   "metadata": {},
   "outputs": [],
   "source": [
    "%load_ext autoreload\n",
    "%autoreload 2"
   ]
  },
  {
   "cell_type": "code",
   "execution_count": 2,
   "id": "c299821a",
   "metadata": {},
   "outputs": [
    {
     "name": "stdout",
     "output_type": "stream",
     "text": [
      "env: CUDA_LAUNCH_BLOCKING=1\n"
     ]
    }
   ],
   "source": [
    "%set_env CUDA_LAUNCH_BLOCKING=1"
   ]
  },
  {
   "cell_type": "code",
   "execution_count": 3,
   "id": "1e2392c8",
   "metadata": {},
   "outputs": [],
   "source": [
    "import sys\n",
    "import collections\n",
    "import cv2\n",
    "import os\n",
    "import math\n",
    "import random\n",
    "import pickle\n",
    "import copy\n",
    "import numpy as np\n",
    "sys.path.append(\"/home/tanvikamble/MeronymNet-PyTorch/src\")"
   ]
  },
  {
   "cell_type": "code",
   "execution_count": 4,
   "id": "d13c8107",
   "metadata": {},
   "outputs": [],
   "source": [
    "import torch\n",
    "import torch.optim as optim\n",
    "from torch_geometric.data import Data\n",
    "from torch_geometric.utils import dense_to_sparse\n",
    "from torch_geometric.data import DataLoader\n",
    "import torch.utils.data as data_utils\n",
    "from torch.utils.tensorboard import SummaryWriter\n",
    "from losses import BoxVAE_losses as loss\n",
    "\n",
    "\n",
    "from components.AutoEncoder import GCNAutoEncoder_Combined_Parts\n",
    "from components.AutoEncoder import GCNAutoEncoder\n",
    "from components.Decoder import Decoder\n",
    "import matplotlib.pyplot as plt\n",
    "# from mask_generation import masked_sketch"
   ]
  },
  {
   "cell_type": "code",
   "execution_count": 5,
   "id": "62f675cd",
   "metadata": {},
   "outputs": [
    {
     "data": {
      "text/plain": [
       "device(type='cuda')"
      ]
     },
     "execution_count": 5,
     "metadata": {},
     "output_type": "execute_result"
    }
   ],
   "source": [
    "device = torch.device('cuda' if torch.cuda.is_available() else 'cpu')\n",
    "device"
   ]
  },
  {
   "cell_type": "code",
   "execution_count": 6,
   "id": "b42e7752",
   "metadata": {},
   "outputs": [],
   "source": [
    "colors = [(1, 0, 0),\n",
    "          (0.737, 0.561, 0.561),\n",
    "          (0.255, 0.412, 0.882),\n",
    "          (0.545, 0.271, 0.0745),\n",
    "          (0.98, 0.502, 0.447),\n",
    "          (0.98, 0.643, 0.376),\n",
    "          (0.18, 0.545, 0.341),\n",
    "          (0.502, 0, 0.502),\n",
    "          (0.627, 0.322, 0.176),\n",
    "          (0.753, 0.753, 0.753),\n",
    "          (0.529, 0.808, 0.922),\n",
    "          (0.416, 0.353, 0.804),\n",
    "          (0.439, 0.502, 0.565),\n",
    "          (0.784, 0.302, 0.565),\n",
    "          (0.867, 0.627, 0.867),\n",
    "          (0, 1, 0.498),\n",
    "          (0.275, 0.51, 0.706),\n",
    "          (0.824, 0.706, 0.549),\n",
    "          (0, 0.502, 0.502),\n",
    "          (0.847, 0.749, 0.847),\n",
    "          (1, 0.388, 0.278),\n",
    "          (0.251, 0.878, 0.816),\n",
    "          (0.933, 0.51, 0.933),\n",
    "          (0.961, 0.871, 0.702)]\n",
    "colors = (np.asarray(colors)*255)\n",
    "canvas_size = 660\n",
    "\n",
    "def plot_bbx(bbx):\n",
    "    bbx = bbx*canvas_size\n",
    "    canvas = np.ones((canvas_size,canvas_size,3), np.uint8) * 255\n",
    "    for i, coord in enumerate(bbx):\n",
    "        x_minp, y_minp,x_maxp , y_maxp= coord\n",
    "        if [x_minp, y_minp,x_maxp , y_maxp]!=[0,0,0,0]:\n",
    "            cv2.rectangle(canvas, (int(x_minp), int(y_minp)), (int(x_maxp) , int(y_maxp) ), colors[i], 6)\n",
    "    return canvas\n",
    "\n",
    "# def plot_bbx(bbx):\n",
    "#     bbx = bbx*canvas_size\n",
    "#     canvas = np.ones((canvas_size,canvas_size,3), np.uint8) * 255\n",
    "#     for i, coord in enumerate(bbx):\n",
    "#         x, y, w ,h = coord\n",
    "#         if [x, y, w ,h]!=[0,0,0,0]:\n",
    "#             cv2.rectangle(canvas, (int(x), int(y)), (int(x + w) , int(y + h) ), colors[i], 6)\n",
    "#     return canvas\n",
    "\n",
    "\n",
    "def inference(decoder, nodes, obj_class, latent_dims, batch_size):\n",
    "\n",
    "    decoder.cuda()\n",
    "    z_latent = torch.normal(torch.zeros([batch_size,latent_dims])).cuda()\n",
    "    nodes = torch.reshape(nodes,(batch_size,decoder.num_nodes))\n",
    "    obj_class = torch.reshape(obj_class,(batch_size, decoder.class_size))\n",
    "    conditioned_z = torch.cat([nodes, z_latent],dim=-1)\n",
    "    conditioned_z = torch.cat([obj_class, conditioned_z],dim=-1)\n",
    "    \n",
    "    x_bbx, x_lbl = decoder(conditioned_z)\n",
    "    if x_lbl == None:\n",
    "        return x_bbx,z_latent\n",
    "    else:\n",
    "        return x_bbx, x_lbl, z_latent"
   ]
  },
  {
   "cell_type": "code",
   "execution_count": 7,
   "id": "9e36f027",
   "metadata": {},
   "outputs": [],
   "source": [
    "bird_labels = {'head':1, 'leye':2, 'reye':3, 'beak':4, 'torso':5, 'neck':6, 'lwing':7, 'rwing':8, 'lleg':9, 'lfoot':10, 'rleg':11, 'rfoot':12, 'tail':13}\n",
    "\n",
    "\n",
    "cat_labels = {'head':1, 'leye':2, 'reye':3, 'lear':4, 'rear':5, 'nose':6, 'torso':7, 'neck':8, 'lfleg':9, 'lfpa':10, 'rfleg':11, 'rfpa':12, 'lbleg':13, 'lbpa':14, 'rbleg':15, 'rbpa':16, 'tail':17}\n",
    "\n",
    "\n",
    "cow_labels = {'head':1, 'leye':2, 'reye':3, 'lear':4, 'rear':5, 'muzzle':6, 'lhorn':7, 'rhorn':8, 'torso':9, 'neck':10, 'lfuleg':11, 'lflleg':12, 'rfuleg':13, 'rflleg':14, 'lbuleg':15, 'lblleg':16, 'rbuleg':17, 'rblleg':18, 'tail':19}\n",
    "\n",
    "\n",
    "\n",
    "dog_labels = {'head':1, 'leye':2, 'reye':3, 'lear':4, 'rear':5, 'nose':6, 'torso':7, 'neck':8, 'lfleg':9, 'lfpa':10, 'rfleg':11, 'rfpa':12, 'lbleg':13, 'lbpa':14, 'rbleg':15, 'rbpa':16, 'tail':17, 'muzzle':18}\n",
    "\n",
    "\n",
    "horse_labels = {'head':1, 'leye':2, 'reye':3, 'lear':4, 'rear':5, 'muzzle':6, 'lfho':7, 'rfho':8, 'torso':9, 'neck':10, 'lfuleg':11, 'lflleg':12, 'rfuleg':13, 'rflleg':14, 'lbuleg':15, 'lblleg':16, 'rbuleg':17, 'rblleg':18, 'tail':19, 'lbho':20, 'rbho':21}\n",
    "\n",
    "\n",
    "person_labels = {'head':1, 'leye':2, 'reye':3, 'lear':4, 'rear':5, 'lebrow':6, 'rebrow':7, 'nose':8, 'mouth':9, 'hair':10, 'torso':11, 'neck': 12, 'llarm': 13, 'luarm': 14, 'lhand': 15, 'rlarm':16, 'ruarm':17, 'rhand': 18, 'llleg': 19, 'luleg':20, 'lfoot':21, 'rlleg':22, 'ruleg':23, 'rfoot':24}\n",
    "\n",
    "aeroplane_labels = {'body': 1, 'stern': 2, 'lwing': 3, 'rwing':4, 'tail':5}\n",
    "for ii in range(1, 10):\n",
    "    aeroplane_labels['engine_{}'.format(ii)] = 5+ii\n",
    "for ii in range(1, 10):\n",
    "    aeroplane_labels['wheel_{}'.format(ii)] = 14+ii\n",
    "\n",
    "\n",
    "\n",
    "motorbike_labels = {'fwheel': 1, 'bwheel': 2, 'handlebar': 3, 'saddle': 4}\n",
    "for ii in range(0,10):\n",
    "    motorbike_labels['headlight_{}'.format(ii+1)] = 5+ii\n",
    "    motorbike_labels['body']=15\n",
    "\n",
    "\n",
    "\n",
    "bicycle_labels = {'fwheel': 1, 'bwheel': 2, 'saddle': 3, 'handlebar': 4, 'chainwheel': 5}\n",
    "for ii in range(0,10):\n",
    "    bicycle_labels['headlight_{}'.format(ii+1)] = 6+ii\n",
    "    bicycle_labels['body']=16\n",
    "\n",
    "sheep_labels = cow_labels\n",
    "\n",
    "\n",
    "\n",
    "part_labels = {'bird': bird_labels, 'cat': cat_labels, 'cow': cow_labels, 'dog': dog_labels, 'sheep': sheep_labels, 'horse':horse_labels, 'bicycle':bicycle_labels, 'motorbike':motorbike_labels, 'person':person_labels,'aeroplane':aeroplane_labels}"
   ]
  },
  {
   "cell_type": "code",
   "execution_count": 8,
   "id": "71b7e60d",
   "metadata": {},
   "outputs": [],
   "source": [
    "outfile = '/home/tanvikamble/MeronymNet-PyTorch/src/processed_data/X_train.np'\n",
    "with open(outfile, 'rb') as pickle_file:\n",
    "    X_train = pickle.load(pickle_file)\n",
    "\n",
    "outfile = '/home/tanvikamble/MeronymNet-PyTorch/src/processed_data/class_v.np'\n",
    "with open(outfile, 'rb') as pickle_file:\n",
    "    class_v = pickle.load(pickle_file)\n",
    "\n",
    "outfile = '/home/tanvikamble/MeronymNet-PyTorch/src/processed_data/adj_train.np'\n",
    "with open(outfile, 'rb') as pickle_file:\n",
    "    adj_train = pickle.load(pickle_file)\n",
    "\n",
    "outfile = '/home/tanvikamble/MeronymNet-PyTorch/src/processed_data/X_train_val.np'\n",
    "with open(outfile, 'rb') as pickle_file:\n",
    "    X_train_val = pickle.load(pickle_file)\n",
    "\n",
    "outfile = '/home/tanvikamble/MeronymNet-PyTorch/src/processed_data/class_v_val.np'\n",
    "with open(outfile, 'rb') as pickle_file:\n",
    "    class_v_val = pickle.load(pickle_file)\n",
    "    \n",
    "outfile = '/home/tanvikamble/MeronymNet-PyTorch/src/processed_data/adj_train_val.np'\n",
    "with open(outfile, 'rb') as pickle_file:\n",
    "    adj_train_val = pickle.load(pickle_file)"
   ]
  },
  {
   "cell_type": "code",
   "execution_count": 9,
   "id": "c5958c7a",
   "metadata": {},
   "outputs": [],
   "source": [
    "# for i in range(X_train.shape[0]):\n",
    "#     for k in range(1,5):\n",
    "#         X_train[i][0][k]=X_train[i][0][k]/canvas_size"
   ]
  },
  {
   "cell_type": "code",
   "execution_count": 10,
   "id": "442a8005",
   "metadata": {},
   "outputs": [],
   "source": [
    "# for i in range(X_train_val.shape[0]):\n",
    "#     for k in range(1,5):\n",
    "#         X_train_val[i][0][k]=X_train_val[i][0][k]/canvas_size"
   ]
  },
  {
   "cell_type": "code",
   "execution_count": 13,
   "id": "fa53a57e",
   "metadata": {},
   "outputs": [],
   "source": [
    "X_train[X_train<=0] = 0\n",
    "X_train[X_train>=1] = 1\n",
    "X_train_val[X_train_val<=0] = 0\n",
    "X_train_val[X_train_val>=1] = 1"
   ]
  },
  {
   "cell_type": "code",
   "execution_count": 10,
   "id": "870a4104",
   "metadata": {},
   "outputs": [],
   "source": [
    "parts_present_per_class={}\n",
    "class_dict = ['cow', 'sheep', 'bird', 'person', 'cat', 'dog', 'horse', 'aeroplane',\n",
    "              'motorbike', 'bicycle']\n",
    "for obj in class_dict:\n",
    "    parts_present_per_class[obj] = np.zeros(24)"
   ]
  },
  {
   "cell_type": "code",
   "execution_count": 11,
   "id": "faf0c11a",
   "metadata": {},
   "outputs": [],
   "source": [
    "for i in range(X_train.shape[0]):\n",
    "    obj = class_dict[int(np.argmax(class_v[i]))]\n",
    "    for j in range(24):\n",
    "        if(int(X_train[i][j][0]) == 1):\n",
    "            parts_present_per_class[obj][j]=1 "
   ]
  },
  {
   "cell_type": "code",
   "execution_count": 12,
   "id": "0aae9be3",
   "metadata": {},
   "outputs": [],
   "source": [
    "adj_train_final = adj_train.copy()\n",
    "for i in range(adj_train.shape[0]):\n",
    "    parts_present=[]\n",
    "    obj = class_dict[int(np.argmax(class_v[i]))]\n",
    "    for j in range(24):\n",
    "        if parts_present_per_class[obj][j] == 1:\n",
    "            parts_present.append(j)\n",
    "    for part_1 in parts_present:\n",
    "        for part_2 in parts_present:\n",
    "            adj_train_final[i][part_1][part_2]=1"
   ]
  },
  {
   "cell_type": "code",
   "execution_count": 13,
   "id": "bf1eea52",
   "metadata": {},
   "outputs": [
    {
     "name": "stdout",
     "output_type": "stream",
     "text": [
      "[1. 1. 1. 1. 1. 1. 1. 1. 1. 1. 1. 1. 1. 1. 1. 1. 1. 1. 1. 0. 0. 0. 0. 0.]\n",
      "[1. 1. 1. 1. 1. 1. 1. 1. 1. 1. 0. 0. 0. 0. 0. 0. 0. 0. 1. 0. 0. 0. 0. 0.]\n",
      "[1. 1. 1. 1. 1. 1. 1. 1. 1. 1. 1. 1. 1. 0. 0. 0. 0. 0. 0. 0. 0. 0. 0. 0.]\n",
      "[1. 1. 1. 1. 1. 1. 1. 1. 1. 1. 1. 1. 1. 1. 1. 1. 1. 1. 1. 1. 1. 1. 1. 1.]\n",
      "[1. 1. 1. 1. 1. 1. 1. 1. 1. 1. 1. 1. 1. 1. 1. 1. 1. 0. 0. 0. 0. 0. 0. 0.]\n",
      "[1. 1. 1. 1. 1. 1. 1. 1. 1. 1. 1. 1. 1. 1. 1. 1. 1. 1. 0. 0. 0. 0. 0. 0.]\n",
      "[1. 1. 1. 1. 1. 1. 1. 1. 1. 1. 1. 1. 1. 1. 1. 1. 1. 1. 1. 1. 1. 0. 0. 0.]\n",
      "[1. 1. 1. 1. 1. 1. 1. 1. 1. 0. 0. 0. 0. 0. 1. 1. 1. 1. 1. 1. 1. 1. 0. 0.]\n",
      "[1. 1. 1. 0. 1. 0. 0. 0. 0. 0. 0. 0. 0. 0. 1. 0. 0. 0. 0. 0. 0. 0. 0. 0.]\n",
      "[1. 1. 1. 1. 1. 1. 1. 0. 0. 0. 0. 0. 0. 0. 0. 1. 0. 0. 0. 0. 0. 0. 0. 0.]\n"
     ]
    }
   ],
   "source": [
    "parts_present_per_class_val={}\n",
    "for obj in class_dict:\n",
    "    parts_present_per_class_val[obj] = np.zeros(24)\n",
    "\n",
    "for i in range(X_train_val.shape[0]):\n",
    "    obj = class_dict[int(np.argmax(class_v_val[i]))]\n",
    "    for j in range(24):\n",
    "        if(int(X_train_val[i][j][0]) == 1):\n",
    "            parts_present_per_class_val[obj][j]=1 \n",
    "\n",
    "for obj in class_dict:\n",
    "    print(parts_present_per_class_val[obj])"
   ]
  },
  {
   "cell_type": "code",
   "execution_count": 17,
   "id": "8a62bd04",
   "metadata": {},
   "outputs": [],
   "source": [
    "adj_train_val_final = adj_train_val.copy()\n",
    "for i in range(adj_train_val.shape[0]):\n",
    "    parts_present=[]\n",
    "    obj = class_dict[int(np.argmax(class_v_val[i]))]\n",
    "    for j in range(24):\n",
    "        if parts_present_per_class_val[obj][j] == 1:\n",
    "            parts_present.append(j)\n",
    "    for part_1 in parts_present:\n",
    "        for part_2 in parts_present:\n",
    "            adj_train_val_final[i][part_1][part_2]=1"
   ]
  },
  {
   "cell_type": "code",
   "execution_count": 18,
   "id": "9c229ceb",
   "metadata": {},
   "outputs": [],
   "source": [
    "random.seed(100)\n",
    "train_idx = np.random.randint(1,len(X_train),len(X_train))\n",
    "test_idx = np.random.randint(1,len(X_train_val),len(X_train_val))"
   ]
  },
  {
   "cell_type": "code",
   "execution_count": 19,
   "id": "056a70bb",
   "metadata": {},
   "outputs": [],
   "source": [
    "batch_size = 128\n",
    "seed = 345\n",
    "torch.manual_seed(seed)\n",
    "train_list =[]\n",
    "for idx, batch in enumerate(zip(copy.deepcopy(X_train[train_idx]),\n",
    "                                copy.deepcopy(class_v[train_idx]),\n",
    "                                copy.deepcopy(adj_train[train_idx]))):\n",
    "    edge_index, _ = dense_to_sparse(torch.from_numpy(batch[2]).cuda().float())\n",
    "    train_list.append(Data(x = torch.from_numpy(batch[0]).cuda().float(),\n",
    "                           y = torch.from_numpy(batch[1]).cuda().float(),\n",
    "                           edge_index = edge_index\n",
    "                                )\n",
    "                     )\n",
    "\n",
    "batch_train_loader = DataLoader(train_list, batch_size=batch_size)\n",
    "val_list = []\n",
    "for idx, batch in enumerate(zip(copy.deepcopy(X_train_val[test_idx]),\n",
    "                                copy.deepcopy(class_v_val[test_idx]), \n",
    "                                copy.deepcopy(adj_train_val[test_idx]))):\n",
    "    edge_index, _ = dense_to_sparse(torch.from_numpy(batch[2]).cuda().float())\n",
    "    val_list.append(Data(x = torch.from_numpy(batch[0]).cuda().float(),\n",
    "                         y = torch.from_numpy(batch[1]).cuda().float(),\n",
    "                         edge_index = edge_index\n",
    "                                )\n",
    "                     )\n",
    "batch_val_loader = DataLoader(val_list, batch_size=batch_size)\n",
    "del train_list\n",
    "del val_list"
   ]
  },
  {
   "cell_type": "code",
   "execution_count": 20,
   "id": "ce78398b",
   "metadata": {},
   "outputs": [],
   "source": [
    "batch_size = 128\n",
    "seed = 345\n",
    "torch.manual_seed(seed)\n",
    "train_list =[]\n",
    "for idx, batch in enumerate(zip(copy.deepcopy(X_train[train_idx]),\n",
    "                                copy.deepcopy(class_v[train_idx]),\n",
    "                                copy.deepcopy(adj_train_final[train_idx]))):\n",
    "    edge_index, _ = dense_to_sparse(torch.from_numpy(batch[2]).cuda().float())\n",
    "    train_list.append(Data(x = torch.from_numpy(batch[0]).cuda().float(),\n",
    "                           y = torch.from_numpy(batch[1]).cuda().float(),\n",
    "                           edge_index = edge_index\n",
    "                                )\n",
    "                     )\n",
    "\n",
    "batch_train_loader_fc = DataLoader(train_list, batch_size=batch_size)\n",
    "val_list = []\n",
    "for idx, batch in enumerate(zip(copy.deepcopy(X_train_val[test_idx]),\n",
    "                                copy.deepcopy(class_v_val[test_idx]), \n",
    "                                copy.deepcopy(adj_train_val_final[test_idx]))):\n",
    "    edge_index, _ = dense_to_sparse(torch.from_numpy(batch[2]).cuda().float())\n",
    "    val_list.append(Data(x = torch.from_numpy(batch[0]).cuda().float(),\n",
    "                         y = torch.from_numpy(batch[1]).cuda().float(),\n",
    "                         edge_index = edge_index\n",
    "                                )\n",
    "                     )\n",
    "batch_val_loader_fc = DataLoader(val_list, batch_size=batch_size)\n",
    "del train_list\n",
    "del val_list"
   ]
  },
  {
   "cell_type": "code",
   "execution_count": 21,
   "id": "2dd0c5f0",
   "metadata": {},
   "outputs": [
    {
     "name": "stdout",
     "output_type": "stream",
     "text": [
      "torch.Size([3072, 5])\n",
      "torch.Size([3072, 5])\n",
      "torch.Size([3072, 5])\n"
     ]
    }
   ],
   "source": [
    "idx = 0\n",
    "for data in batch_train_loader:\n",
    "    idx+=1\n",
    "    print(data.x.shape)\n",
    "    if idx==3:\n",
    "        break"
   ]
  },
  {
   "cell_type": "code",
   "execution_count": 22,
   "id": "136451d0",
   "metadata": {},
   "outputs": [
    {
     "name": "stdout",
     "output_type": "stream",
     "text": [
      "torch.Size([3072, 5])\n",
      "torch.Size([3072, 5])\n",
      "torch.Size([3072, 5])\n"
     ]
    }
   ],
   "source": [
    "idx = 0\n",
    "for data in batch_train_loader_fc:\n",
    "    idx+=1\n",
    "    print(data.x.shape)\n",
    "    if idx==3:\n",
    "        break"
   ]
  },
  {
   "cell_type": "code",
   "execution_count": 23,
   "id": "31ba0b3b",
   "metadata": {},
   "outputs": [],
   "source": [
    "# change num_nodes and num_classes whenever running this code for the modification experiments\n",
    "\n",
    "latent_dims = 64\n",
    "batch_size = 128\n",
    "num_nodes = 24\n",
    "bbx_size = 4\n",
    "num_classes = 10\n",
    "label_shape = 1\n",
    "nb_epochs = 250\n",
    "klw = loss.frange_cycle_linear(nb_epochs)\n",
    "learning_rate = 0.000065\n",
    "hidden1 = 32\n",
    "hidden2 = 16\n",
    "hidden3 = 128\n",
    "run_prefix = \"Comparison-6\""
   ]
  },
  {
   "cell_type": "code",
   "execution_count": 24,
   "id": "09264d4e",
   "metadata": {},
   "outputs": [
    {
     "data": {
      "text/plain": [
       "0"
      ]
     },
     "execution_count": 24,
     "metadata": {},
     "output_type": "execute_result"
    }
   ],
   "source": [
    "import gc\n",
    "gc.collect()"
   ]
  },
  {
   "cell_type": "code",
   "execution_count": 25,
   "id": "dd3727e4",
   "metadata": {},
   "outputs": [
    {
     "data": {
      "text/plain": [
       "device(type='cuda')"
      ]
     },
     "execution_count": 25,
     "metadata": {},
     "output_type": "execute_result"
    }
   ],
   "source": [
    "device = torch.device('cuda' if torch.cuda.is_available() else 'cpu')\n",
    "device"
   ]
  },
  {
   "cell_type": "code",
   "execution_count": 26,
   "id": "5d0d64fc",
   "metadata": {},
   "outputs": [],
   "source": [
    "# # x_minp, y_minp,x_maxp , y_maxp= coord\n",
    "# # cell for checking symmetry of the boxes \n",
    "# #testing loop\n",
    "\n",
    "# final_box_dict = {}\n",
    "# model_path_1 = ('/home/tanvikamble/MeronymNet-PyTorch/src/model/'+'only_torso_experiment_margin_in_loss_sum'+'/GCN-lr-'\n",
    "#                         +str(learning_rate)\n",
    "#                         +'-batch-'+str(batch_size)\n",
    "#                         +'-h1-'+str(hidden1)\n",
    "#                         +'-h2-'+str(hidden2)\n",
    "#                         +'-h3-'+str(hidden3)+'-test')\n",
    "\n",
    "# class_dict = ['cow', 'sheep', 'bird', 'person', 'cat', 'dog', 'horse', 'aeroplane']\n",
    "# count_dict = {'cow':0, 'sheep':0, 'bird':0, 'person':0, 'cat':0, 'dog':0, 'horse':0}\n",
    "# image_shape = [num_nodes, bbx_size]\n",
    "# global_step = 250000\n",
    "# # changed dynmaic margin for this to false. be careful. For the model 1. Change later\n",
    "# vae_1 = GCNAutoEncoder_Combined_Parts(latent_dims,num_nodes,bbx_size,num_classes,label_shape,hidden1, hidden2, hidden3, dynamic_margin=True)\n",
    "# vae_1.load_state_dict(torch.load(model_path_1+ '/model_weights.pth'))\n",
    "# decoder_1 = vae_1.decoder\n",
    "\n",
    "# for i, val_data in enumerate(batch_val_loader, 0):\n",
    "    \n",
    "#     val_data.cuda()\n",
    "#     node_data_true = val_data.x\n",
    "    \n",
    "#     label_true = node_data_true[:,:1]\n",
    "#     class_true = val_data.y\n",
    "#     val_batch_size = int(class_true.shape[0]/7)\n",
    "#     adj_true = val_data.edge_index\n",
    "# #     output = inference(decoder, label_true , class_true, latent_dims, val_batch_size)\n",
    "#     # First Model\n",
    "#     output_1 = vae_1(adj_true, node_data_true, label_true , class_true)\n",
    "#     node_data_pred_test_1 = output_1[0]\n",
    "#     print(node_data_pred_test_1.shape)\n",
    "#     node_data_pred_test_1 = node_data_pred_test_1.to('cpu')\n",
    "#     node_data_pred_test_1 = node_data_pred_test_1.detach().numpy()\n",
    "#     node_data_pred_test_1 = node_data_pred_test_1.reshape(node_data_pred_test_1.shape[0], node_data_pred_test_1.shape[2])\n",
    "#     for j in range(node_data_pred_test_1.shape[0]):\n",
    "#         class_i = class_dict[int(np.argmax(class_true[7*j:7*(j+1)].detach().to('cpu').numpy()).tolist())]\n",
    "#         if class_i in final_box_dict:\n",
    "#             final_box_dict[class_i].append(node_data_pred_test_1[j])\n",
    "#         else:\n",
    "#             print(class_i)\n",
    "#             final_box_dict[class_i] = [node_data_pred_test_1[j]]"
   ]
  },
  {
   "cell_type": "code",
   "execution_count": 27,
   "id": "a7d7b729",
   "metadata": {},
   "outputs": [],
   "source": [
    "# from prettytable import PrettyTable\n",
    "# # x_minp, y_minp,x_maxp , y_maxp= coord\n",
    "# k=0\n",
    "\n",
    "# myTable_x = PrettyTable([\"Class\", \"0\", \"1\", \"2\", \"3\", \"4\"])\n",
    "# myTable_y = PrettyTable([\"Class\", \"0\", \"1\", \"2\", \"3\", \"4\"])\n",
    "# myTable_x.title = 'Number of Images along x direction:VALIDATION'\n",
    "# myTable_y.title = 'Number of Images along y direction:VALIDATION'\n",
    "# for class_i in final_box_dict:\n",
    "#     print(class_i)\n",
    "#     print(len(final_box_dict[class_i]))\n",
    "#     diff_x = [0 for i in range(5)]\n",
    "#     diff_y = [0 for i in range(5)]\n",
    "    \n",
    "#     for box in final_box_dict[class_i]:\n",
    "#         box=box*660\n",
    "#         box=box.astype(int)\n",
    "#         box= box-330\n",
    "#         box=abs(box)\n",
    "#         diff_x[abs(box[0]-box[2])]+=1\n",
    "#         diff_y[abs(box[1]-box[3])]+=1\n",
    "#     myTable_x.add_row([str(class_i), str(diff_x[0]),str(diff_x[1]),str(diff_x[2]),str(diff_x[3]),str(diff_x[4])])\n",
    "#     myTable_y.add_row([str(class_i), str(diff_y[0]),str(diff_y[1]),str(diff_y[2]),str(diff_y[3]),str(diff_y[4])])\n",
    "   \n",
    " "
   ]
  },
  {
   "cell_type": "code",
   "execution_count": 28,
   "id": "105045ea",
   "metadata": {},
   "outputs": [],
   "source": [
    "# print(myTable_x)"
   ]
  },
  {
   "cell_type": "code",
   "execution_count": 29,
   "id": "e5ee392e",
   "metadata": {},
   "outputs": [],
   "source": [
    "# print(myTable_y)"
   ]
  },
  {
   "cell_type": "code",
   "execution_count": 30,
   "id": "25d8f1e2",
   "metadata": {},
   "outputs": [],
   "source": [
    "# summary_path = ('/home/tanvikamble/MeronymNet-PyTorch/src/runs/'+run_prefix+'/GCN-lr-'\n",
    "#                         +str(learning_rate)\n",
    "#                         +'-batch-'+str(batch_size)\n",
    "#                         +'-h1-'+str(hidden1)\n",
    "#                         +'-h2-'+str(hidden2)\n",
    "#                         +'-h3-'+str(hidden3)+'-test')\n",
    "# write_tensorboard = True\n",
    "# if write_tensorboard:\n",
    "#     writer = SummaryWriter(summary_path)\n"
   ]
  },
  {
   "cell_type": "code",
   "execution_count": 31,
   "id": "539882e8",
   "metadata": {},
   "outputs": [],
   "source": [
    "iou_loss_dict_1={}\n",
    "mse_loss_dict_1={}\n",
    "\n",
    "iou_loss_dict_final_1={}\n",
    "mse_loss_dict_final_1={}\n",
    "\n",
    "iou_loss_dict_2={}\n",
    "mse_loss_dict_2={}\n",
    "\n",
    "iou_loss_dict_final_2={}\n",
    "mse_loss_dict_final_2={}\n",
    "\n",
    "# iou_loss_dict_3={}\n",
    "# mse_loss_dict_3={}\n",
    "\n",
    "# iou_loss_dict_final_3={}\n",
    "# mse_loss_dict_final_3={}\n",
    "\n",
    "# iou_loss_dict_4={}\n",
    "# mse_loss_dict_4={}\n",
    "\n",
    "# iou_loss_dict_final_4={}\n",
    "# mse_loss_dict_final_4={}\n",
    "\n",
    "labels_dict={}\n",
    "coords_dict={}\n"
   ]
  },
  {
   "cell_type": "code",
   "execution_count": 32,
   "id": "e2136ef4",
   "metadata": {},
   "outputs": [],
   "source": [
    "# iou_loss_dict_3.clear()\n",
    "# mse_loss_dict_3.clear()\n",
    "# iou_loss_dict_4.clear()\n",
    "# mse_loss_dict_4.clear()\n",
    "\n",
    "#testing loop\n",
    "model_path_1 = ('/home/tanvikamble/MeronymNet-PyTorch/src/model/'+'Reconstruction_Fully_Connected_No_Margin_Verson-2'+'/GCN-lr-'\n",
    "                        +str(learning_rate)\n",
    "                        +'-batch-'+str(batch_size)\n",
    "                        +'-h1-'+str(hidden1)\n",
    "                        +'-h2-'+str(hidden2)\n",
    "                        +'-h3-'+str(hidden3)+'-test')\n",
    "\n",
    "model_path_2 = ('/home/tanvikamble/MeronymNet-PyTorch/src/model/'+'Reconstruction_Without_Margin'+'/GCN-lr-'\n",
    "                        +str(learning_rate)\n",
    "                        +'-batch-'+str(batch_size)\n",
    "                        +'-h1-'+str(hidden1)\n",
    "                        +'-h2-'+str(hidden2)\n",
    "                        +'-h3-'+str(hidden3)+'-test')\n",
    "\n",
    "\n",
    "# model_path_3 = ('/home/tanvikamble/MeronymNet-PyTorch/src/model/'+'Rec_Margin_In_Loss_Mean_Combined_Parts-1'+'/GCN-lr-'\n",
    "#                         +str(learning_rate)\n",
    "#                         +'-batch-'+str(batch_size)\n",
    "#                         +'-h1-'+str(hidden1)\n",
    "#                         +'-h2-'+str(hidden2)\n",
    "#                         +'-h3-'+str(hidden3)+'-test')\n",
    "\n",
    "\n",
    "\n",
    "# model_path_4 = ('/home/tanvikamble/MeronymNet-PyTorch/src/model/'+'Rec_Margin_Not_In_Loss_Combined_Parts-1'+'/GCN-lr-'\n",
    "#                         +str(learning_rate)\n",
    "#                         +'-batch-'+str(batch_size)\n",
    "#                         +'-h1-'+str(hidden1)\n",
    "#                         +'-h2-'+str(hidden2)\n",
    "#                         +'-h3-'+str(hidden3)+'-test')\n",
    "\n",
    "class_dict = ['cow', 'sheep', 'bird', 'person', 'cat', 'dog', 'horse', 'aeroplane', 'motorbike' , 'bicycle']\n",
    "image_shape = [num_nodes, bbx_size]\n",
    "global_step = 250000\n",
    "# changed dynmaic margin for this to false. be careful. For the model 1. Change later\n",
    "vae_1 = GCNAutoEncoder(latent_dims,num_nodes,bbx_size,num_classes,label_shape,hidden1, hidden2, hidden3, dynamic_margin=False)\n",
    "vae_1.load_state_dict(torch.load(model_path_1+ '/model_weights.pth'))\n",
    "\n",
    "vae_2 = GCNAutoEncoder(latent_dims,num_nodes,bbx_size,num_classes,label_shape,hidden1, hidden2, hidden3, dynamic_margin=False)\n",
    "vae_2.load_state_dict(torch.load(model_path_2+ '/model_weights.pth'))\n",
    "\n",
    "# vae_3 = GCNAutoEncoder_Combined_Parts(latent_dims,num_nodes,bbx_size,num_classes,label_shape,hidden1, hidden2, hidden3, dynamic_margin=True)\n",
    "# vae_3.load_state_dict(torch.load(model_path_3+ '/model_weights.pth'))\n",
    "\n",
    "# vae_4 = GCNAutoEncoder_Combined_Parts(latent_dims,num_nodes,bbx_size,num_classes,label_shape,hidden1, hidden2, hidden3, dynamic_margin=True)\n",
    "# vae_4.load_state_dict(torch.load(model_path_4+ '/model_weights.pth'))\n",
    "\n",
    "decoder_1 = vae_1.decoder\n",
    "decoder_2 = vae_2.decoder\n",
    "# decoder_3= vae_3.decoder\n",
    "# decoder_4 = vae_4.decoder\n",
    "\n"
   ]
  },
  {
   "cell_type": "code",
   "execution_count": 50,
   "id": "80e08ed6",
   "metadata": {},
   "outputs": [
    {
     "name": "stdout",
     "output_type": "stream",
     "text": [
      "aeroplane\n",
      "sheep\n",
      "bird\n",
      "dog\n",
      "person\n",
      "cat\n",
      "horse\n",
      "cow\n",
      "bicycle\n",
      "motorbike\n"
     ]
    }
   ],
   "source": [
    "iou_loss_dict_1.clear()\n",
    "mse_loss_dict_1.clear()\n",
    "for i, val_data in enumerate(batch_train_loader_fc, 0):\n",
    "    \n",
    "    val_data.cuda()\n",
    "    node_data_true = val_data.x\n",
    "    \n",
    "    label_true = node_data_true[:,:1]\n",
    "    class_true = val_data.y\n",
    "    val_batch_size = int(class_true.shape[0]/10)\n",
    "    adj_true = val_data.edge_index\n",
    "#     output = inference(decoder, label_true , class_true, latent_dims, val_batch_size)\n",
    "    # First Model\n",
    "    output_1 = vae_1(adj_true, node_data_true, label_true , class_true)\n",
    "    node_data_pred_test_1 = output_1[0]\n",
    "    iou_loss_1,mse_loss_1=loss.calc_losses(node_data_pred_test_1, node_data_true[:,1:])\n",
    "    iou_loss_1 = iou_loss_1.to('cpu')\n",
    "    iou_loss_1 = iou_loss_1.detach().numpy() \n",
    "    mse_loss_1 = mse_loss_1.to('cpu')\n",
    "    mse_loss_1 = mse_loss_1.detach().numpy()\n",
    "#     print(mse_loss_1.shape)\n",
    "#     # Second Model\n",
    "#     output_2 = vae_2(adj_true, node_data_true, label_true , class_true)\n",
    "#     node_data_pred_test_2 = output_2[0]\n",
    "#     iou_loss_2,mse_loss_2=loss.calc_losses(node_data_pred_test_2, node_data_true[:,1:])\n",
    "    \n",
    "#     iou_loss_2 = iou_loss_2.to('cpu')\n",
    "#     iou_loss_2 = iou_loss_2.detach().numpy()\n",
    "#     mse_loss_2 = mse_loss_2.to('cpu')\n",
    "#     mse_loss_2 = mse_loss_2.detach().numpy() \n",
    "#     # Third Model\n",
    "#     output_3 = vae_3(adj_true, node_data_true, label_true , class_true)\n",
    "#     node_data_pred_test_3 = output_3[0]\n",
    "#     iou_loss_3,mse_loss_3=loss.calc_losses(node_data_pred_test_3, node_data_true[:,1:])\n",
    "#     iou_loss_3 = iou_loss_3.to('cpu')\n",
    "#     iou_loss_3 = iou_loss_3.detach().numpy()\n",
    "#     mse_loss_3 = mse_loss_3.to('cpu')\n",
    "#     mse_loss_3 = mse_loss_3.detach().numpy() \n",
    "#     # Fourth Model\n",
    "#     output_4 = vae_4(adj_true, node_data_true, label_true , class_true)\n",
    "#     node_data_pred_test_4 = output_4[0]\n",
    "#     iou_loss_4,mse_loss_4=loss.calc_losses(node_data_pred_test_4, node_data_true[:,1:])\n",
    "#     iou_loss_4 = iou_loss_4.to('cpu')\n",
    "#     iou_loss_4 = iou_loss_4.detach().numpy()\n",
    "#     mse_loss_4 = mse_loss_4.to('cpu')\n",
    "#     mse_loss_4 = mse_loss_4.detach().numpy() \n",
    "    \n",
    " \n",
    "    \n",
    "    \n",
    "\n",
    "    label_true_reshaped = label_true.reshape((iou_loss_1.shape[0],iou_loss_1.shape[1]))\n",
    "    label_true_reshaped = label_true_reshaped.to('cpu')\n",
    "    label_true_reshaped = label_true_reshaped.detach().numpy()\n",
    "    \n",
    "    \n",
    "    \n",
    "    node_data_true_reshaped = node_data_true.reshape((iou_loss_1.shape[0],iou_loss_1.shape[1] , node_data_true.shape[1]))\n",
    "    node_data_true_reshaped = node_data_true_reshaped.to('cpu')\n",
    "    node_data_true_reshaped = node_data_true_reshaped.detach().numpy()\n",
    "    \n",
    "    for j in range(iou_loss_1.shape[0]):\n",
    "        class_i = class_dict[int(np.argmax(class_true[10*j:10*(j+1)].detach().to('cpu').numpy()).tolist())]\n",
    "        if class_i in iou_loss_dict_1:\n",
    "            labels_dict[class_i].append(label_true_reshaped[j])\n",
    "            coords_dict[class_i].append(node_data_true_reshaped[j])\n",
    "            iou_loss_dict_1[class_i].append(iou_loss_1[j])\n",
    "            mse_loss_dict_1[class_i].append(mse_loss_1[j])\n",
    "#             # second model\n",
    "#             iou_loss_dict_2[class_i].append(iou_loss_2[j])\n",
    "#             mse_loss_dict_2[class_i].append(mse_loss_2[j])\n",
    "#             # third model\n",
    "#             iou_loss_dict_3[class_i].append(iou_loss_3[j])\n",
    "#             mse_loss_dict_3[class_i].append(mse_loss_3[j])\n",
    "#             # fourth model\n",
    "#             iou_loss_dict_4[class_i].append(iou_loss_4[j])\n",
    "#             mse_loss_dict_4[class_i].append(mse_loss_4[j])\n",
    "        else:\n",
    "            print(class_i)\n",
    "            labels_dict[class_i]=  [label_true_reshaped[j]]\n",
    "            coords_dict[class_i] = [node_data_true_reshaped[j]]\n",
    "            iou_loss_dict_1[class_i]=[iou_loss_1[j]]\n",
    "            mse_loss_dict_1[class_i]=[mse_loss_1[j]]\n",
    "#             print(class_i + \" done in Dict-1\" )\n",
    "#             # second model\n",
    "#             iou_loss_dict_2[class_i]=[iou_loss_2[j]]\n",
    "#             mse_loss_dict_2[class_i]=[mse_loss_2[j]]\n",
    "#             print(class_i + \" done in Dict-2\" )\n",
    "#             # third model\n",
    "#             iou_loss_dict_3[class_i]=[iou_loss_3[j]]\n",
    "#             mse_loss_dict_3[class_i]=[mse_loss_3[j]]\n",
    "#             print(class_i + \" done in Dict-3\" )\n",
    "#             # fourth model\n",
    "#             iou_loss_dict_4[class_i]=[iou_loss_4[j]]\n",
    "#             mse_loss_dict_4[class_i]=[mse_loss_4[j]]\n",
    "#             print(class_i + \" done in Dict-4\" )\n",
    "#             print(\"xxxxxxxxxxxxxxxxxxxxxxxxxxxxxxxxxxxxxxx\")\n",
    "\n",
    "    \n"
   ]
  },
  {
   "cell_type": "code",
   "execution_count": 51,
   "id": "40188d44",
   "metadata": {},
   "outputs": [
    {
     "name": "stdout",
     "output_type": "stream",
     "text": [
      "aeroplane\n",
      "sheep\n",
      "bird\n",
      "dog\n",
      "person\n",
      "cat\n",
      "horse\n",
      "cow\n",
      "bicycle\n",
      "motorbike\n"
     ]
    }
   ],
   "source": [
    "iou_loss_dict_2.clear()\n",
    "mse_loss_dict_2.clear()\n",
    "\n",
    "for i, val_data in enumerate(batch_train_loader, 0):\n",
    "    \n",
    "    val_data.cuda()\n",
    "    node_data_true = val_data.x\n",
    "    \n",
    "    label_true = node_data_true[:,:1]\n",
    "    class_true = val_data.y\n",
    "    val_batch_size = int(class_true.shape[0]/7)\n",
    "    adj_true = val_data.edge_index\n",
    "#     output = inference(decoder, label_true , class_true, latent_dims, val_batch_size)\n",
    "    # First Model\n",
    "#     output_1 = vae_1(adj_true, node_data_true, label_true , class_true)\n",
    "#     node_data_pred_test_1 = output_1[0]\n",
    "#     iou_loss_1,mse_loss_1=loss.calc_losses(node_data_pred_test_1, node_data_true[:,1:])\n",
    "#     iou_loss_1 = iou_loss_1.to('cpu')\n",
    "#     iou_loss_1 = iou_loss_1.detach().numpy() \n",
    "#     mse_loss_1 = mse_loss_1.to('cpu')\n",
    "#     mse_loss_1 = mse_loss_1.detach().numpy()\n",
    "#     print(mse_loss_1.shape)\n",
    "    # Second Model\n",
    "    output_2 = vae_2(adj_true, node_data_true, label_true , class_true)\n",
    "    node_data_pred_test_2 = output_2[0]\n",
    "    iou_loss_2,mse_loss_2=loss.calc_losses(node_data_pred_test_2, node_data_true[:,1:])\n",
    "    \n",
    "    iou_loss_2 = iou_loss_2.to('cpu')\n",
    "    iou_loss_2 = iou_loss_2.detach().numpy()\n",
    "    mse_loss_2 = mse_loss_2.to('cpu')\n",
    "    mse_loss_2 = mse_loss_2.detach().numpy() \n",
    "#     # Third Model\n",
    "#     output_3 = vae_3(adj_true, node_data_true, label_true , class_true)\n",
    "#     node_data_pred_test_3 = output_3[0]\n",
    "#     iou_loss_3,mse_loss_3=loss.calc_losses(node_data_pred_test_3, node_data_true[:,1:])\n",
    "#     iou_loss_3 = iou_loss_3.to('cpu')\n",
    "#     iou_loss_3 = iou_loss_3.detach().numpy()\n",
    "#     mse_loss_3 = mse_loss_3.to('cpu')\n",
    "#     mse_loss_3 = mse_loss_3.detach().numpy() \n",
    "#     # Fourth Model\n",
    "#     output_4 = vae_4(adj_true, node_data_true, label_true , class_true)\n",
    "#     node_data_pred_test_4 = output_4[0]\n",
    "#     iou_loss_4,mse_loss_4=loss.calc_losses(node_data_pred_test_4, node_data_true[:,1:])\n",
    "#     iou_loss_4 = iou_loss_4.to('cpu')\n",
    "#     iou_loss_4 = iou_loss_4.detach().numpy()\n",
    "#     mse_loss_4 = mse_loss_4.to('cpu')\n",
    "#     mse_loss_4 = mse_loss_4.detach().numpy() \n",
    "    for j in range(iou_loss_2.shape[0]):\n",
    "        class_i = class_dict[int(np.argmax(class_true[10*j:10*(j+1)].detach().to('cpu').numpy()).tolist())]\n",
    "        if class_i in iou_loss_dict_2:\n",
    "#             iou_loss_dict_1[class_i].append(iou_loss_1[j])\n",
    "#             mse_loss_dict_1[class_i].append(mse_loss_1[j])\n",
    "            # second model\n",
    "            iou_loss_dict_2[class_i].append(iou_loss_2[j])\n",
    "            mse_loss_dict_2[class_i].append(mse_loss_2[j])\n",
    "#             # third model\n",
    "#             iou_loss_dict_3[class_i].append(iou_loss_3[j])\n",
    "#             mse_loss_dict_3[class_i].append(mse_loss_3[j])\n",
    "#             # fourth model\n",
    "#             iou_loss_dict_4[class_i].append(iou_loss_4[j])\n",
    "#             mse_loss_dict_4[class_i].append(mse_loss_4[j])\n",
    "        else:\n",
    "            print(class_i)\n",
    "#             labels_dict[class_i]=  [label_true_reshaped[j]]\n",
    "#             coords_dict[class_i] = [node_data_true_reshaped[j]]\n",
    "#             iou_loss_dict_1[class_i]=[iou_loss_1[j]]\n",
    "#             mse_loss_dict_1[class_i]=[mse_loss_1[j]]\n",
    "#             print(class_i + \" done in Dict-1\" )\n",
    "            # second model\n",
    "            iou_loss_dict_2[class_i]=[iou_loss_2[j]]\n",
    "            mse_loss_dict_2[class_i]=[mse_loss_2[j]]\n",
    "#             print(class_i + \" done in Dict-2\" )\n",
    "#             # third model\n",
    "#             iou_loss_dict_3[class_i]=[iou_loss_3[j]]\n",
    "#             mse_loss_dict_3[class_i]=[mse_loss_3[j]]\n",
    "#             print(class_i + \" done in Dict-3\" )\n",
    "#             # fourth model\n",
    "#             iou_loss_dict_4[class_i]=[iou_loss_4[j]]\n",
    "#             mse_loss_dict_4[class_i]=[mse_loss_4[j]]\n",
    "#             print(class_i + \" done in Dict-4\" )\n",
    "#             print(\"xxxxxxxxxxxxxxxxxxxxxxxxxxxxxxxxxxxxxxx\")\n",
    "\n",
    "    \n"
   ]
  },
  {
   "cell_type": "code",
   "execution_count": 52,
   "id": "a1e69529",
   "metadata": {},
   "outputs": [
    {
     "name": "stdout",
     "output_type": "stream",
     "text": [
      "9246\n",
      "9246\n",
      "9246\n",
      "9246\n",
      "9246\n",
      "9246\n",
      "xxxxxxxxxxxxxxxxxxxxxxxxxxxxxxxxxx\n",
      "9099\n",
      "9099\n",
      "9099\n",
      "9099\n",
      "9099\n",
      "9099\n",
      "xxxxxxxxxxxxxxxxxxxxxxxxxxxxxxxxxx\n",
      "5182\n",
      "5182\n",
      "5182\n",
      "5182\n",
      "5182\n",
      "5182\n",
      "xxxxxxxxxxxxxxxxxxxxxxxxxxxxxxxxxx\n",
      "8624\n",
      "8624\n",
      "8624\n",
      "8624\n",
      "8624\n",
      "8624\n",
      "xxxxxxxxxxxxxxxxxxxxxxxxxxxxxxxxxx\n",
      "10218\n",
      "10218\n",
      "10218\n",
      "10218\n",
      "10218\n",
      "10218\n",
      "xxxxxxxxxxxxxxxxxxxxxxxxxxxxxxxxxx\n",
      "8124\n",
      "8124\n",
      "8124\n",
      "8124\n",
      "8124\n",
      "8124\n",
      "xxxxxxxxxxxxxxxxxxxxxxxxxxxxxxxxxx\n",
      "8825\n",
      "8825\n",
      "8825\n",
      "8825\n",
      "8825\n",
      "8825\n",
      "xxxxxxxxxxxxxxxxxxxxxxxxxxxxxxxxxx\n",
      "6546\n",
      "6546\n",
      "6546\n",
      "6546\n",
      "6546\n",
      "6546\n",
      "xxxxxxxxxxxxxxxxxxxxxxxxxxxxxxxxxx\n",
      "10544\n",
      "10544\n",
      "10544\n",
      "10544\n",
      "10544\n",
      "10544\n",
      "xxxxxxxxxxxxxxxxxxxxxxxxxxxxxxxxxx\n",
      "3962\n",
      "3962\n",
      "3962\n",
      "3962\n",
      "3962\n",
      "3962\n",
      "xxxxxxxxxxxxxxxxxxxxxxxxxxxxxxxxxx\n"
     ]
    }
   ],
   "source": [
    "for class_i in labels_dict:\n",
    "    print(len(labels_dict[class_i]))\n",
    "    print(len(coords_dict[class_i]))\n",
    "    print(len(iou_loss_dict_1[class_i]))\n",
    "    print(len(iou_loss_dict_2[class_i]))\n",
    "#     print(len(iou_loss_dict_3[class_i]))\n",
    "#     print(len(iou_loss_dict_4[class_i]))\n",
    "    print(len(mse_loss_dict_1[class_i]))\n",
    "    print(len(mse_loss_dict_2[class_i]))\n",
    "#     print(len(mse_loss_dict_3[class_i]))\n",
    "#     print(len(mse_loss_dict_4[class_i]))\n",
    "    print(\"xxxxxxxxxxxxxxxxxxxxxxxxxxxxxxxxxx\")"
   ]
  },
  {
   "cell_type": "code",
   "execution_count": null,
   "id": "50a8819a",
   "metadata": {},
   "outputs": [],
   "source": []
  },
  {
   "cell_type": "code",
   "execution_count": 53,
   "id": "2f67e629",
   "metadata": {},
   "outputs": [],
   "source": [
    "parts=[i for i in range(24)]"
   ]
  },
  {
   "cell_type": "code",
   "execution_count": 54,
   "id": "3aba1cdd",
   "metadata": {},
   "outputs": [],
   "source": [
    "counts_dict_final={}\n",
    "for class_i in labels_dict:\n",
    "    temp_list=np.zeros(24)\n",
    "    for part_num in parts:\n",
    "        temp_count=0\n",
    "        for ele in labels_dict[class_i]:\n",
    "            temp_count+=int(ele[part_num])\n",
    "        temp_list[part_num]=temp_count\n",
    "    counts_dict_final[class_i]=temp_list\n",
    "    "
   ]
  },
  {
   "cell_type": "code",
   "execution_count": 55,
   "id": "88bf29dd",
   "metadata": {},
   "outputs": [],
   "source": [
    "import pandas as pd\n",
    "stats_dict_final={}\n",
    "for class_i in coords_dict:\n",
    "    final_list=[[] for i in range(24)]\n",
    "    for part_num in parts:\n",
    "        temp_list=[[] for i in range(24)]\n",
    "        for ele in coords_dict[class_i]:\n",
    "            temp_tuple=ele[part_num]\n",
    "            if int(temp_tuple[0]) != 0:\n",
    "                temp_list[part_num].append(abs(temp_tuple[3]-temp_tuple[1]) * abs(temp_tuple[4]-temp_tuple[2]))\n",
    "        s=pd.Series(temp_list[part_num], dtype='float64')\n",
    "        final_list[part_num].append(s.mean())\n",
    "        final_list[part_num].append(s.quantile(q=0.25))\n",
    "        final_list[part_num].append(s.quantile(q=0.50))\n",
    "        final_list[part_num].append(s.quantile(q=0.75))\n",
    "    stats_dict_final[class_i] = final_list"
   ]
  },
  {
   "cell_type": "code",
   "execution_count": 56,
   "id": "145196c9",
   "metadata": {},
   "outputs": [
    {
     "name": "stderr",
     "output_type": "stream",
     "text": [
      "/tmp/ipykernel_7672/3554822654.py:9: RuntimeWarning:\n",
      "\n",
      "invalid value encountered in double_scalars\n",
      "\n",
      "/tmp/ipykernel_7672/3554822654.py:9: RuntimeWarning:\n",
      "\n",
      "divide by zero encountered in double_scalars\n",
      "\n",
      "/tmp/ipykernel_7672/3554822654.py:11: RuntimeWarning:\n",
      "\n",
      "divide by zero encountered in double_scalars\n",
      "\n"
     ]
    }
   ],
   "source": [
    "side_ratios_dict_final={}\n",
    "for class_i in coords_dict:\n",
    "    final_list=[0 for i in range(24)]\n",
    "    for part_num in parts:\n",
    "        temp_list=[[] for i in range(24)]\n",
    "        for ele in coords_dict[class_i]:\n",
    "            temp_tuple=ele[part_num]\n",
    "            if int(temp_tuple[0]) != 0:\n",
    "                temp_ratio=(abs(temp_tuple[3]-temp_tuple[1])*10000)/(abs(temp_tuple[4]-temp_tuple[2])*10000)\n",
    "                if temp_ratio < 1:\n",
    "                    temp_ratio = 1/temp_ratio \n",
    "                temp_list[part_num].append(temp_ratio)\n",
    "        s=pd.Series(temp_list[part_num], dtype='float64')\n",
    "        final_list[part_num]=s.mean()\n",
    "    side_ratios_dict_final[class_i] = final_list"
   ]
  },
  {
   "cell_type": "code",
   "execution_count": 57,
   "id": "5e1273cc",
   "metadata": {},
   "outputs": [
    {
     "name": "stdout",
     "output_type": "stream",
     "text": [
      "24\n",
      "24\n",
      "24\n",
      "xxxxxxxxxxxxxxxxxxxxxxxxxxxxxxxxxxx\n",
      "24\n",
      "24\n",
      "24\n",
      "xxxxxxxxxxxxxxxxxxxxxxxxxxxxxxxxxxx\n",
      "24\n",
      "24\n",
      "24\n",
      "xxxxxxxxxxxxxxxxxxxxxxxxxxxxxxxxxxx\n",
      "24\n",
      "24\n",
      "24\n",
      "xxxxxxxxxxxxxxxxxxxxxxxxxxxxxxxxxxx\n",
      "24\n",
      "24\n",
      "24\n",
      "xxxxxxxxxxxxxxxxxxxxxxxxxxxxxxxxxxx\n",
      "24\n",
      "24\n",
      "24\n",
      "xxxxxxxxxxxxxxxxxxxxxxxxxxxxxxxxxxx\n",
      "24\n",
      "24\n",
      "24\n",
      "xxxxxxxxxxxxxxxxxxxxxxxxxxxxxxxxxxx\n",
      "24\n",
      "24\n",
      "24\n",
      "xxxxxxxxxxxxxxxxxxxxxxxxxxxxxxxxxxx\n",
      "24\n",
      "24\n",
      "24\n",
      "xxxxxxxxxxxxxxxxxxxxxxxxxxxxxxxxxxx\n",
      "24\n",
      "24\n",
      "24\n",
      "xxxxxxxxxxxxxxxxxxxxxxxxxxxxxxxxxxx\n"
     ]
    }
   ],
   "source": [
    "for class_i in stats_dict_final:\n",
    "#     print(len(stats_dict_final[class_i]))\n",
    "#     print(len(counts_dict_final[class_i]))\n",
    "    print(len(stats_dict_final[class_i]))\n",
    "    print(len(counts_dict_final[class_i]))\n",
    "    print(len(side_ratios_dict_final[class_i]))\n",
    "    print(\"xxxxxxxxxxxxxxxxxxxxxxxxxxxxxxxxxxx\")\n",
    "   \n",
    "    "
   ]
  },
  {
   "cell_type": "code",
   "execution_count": 58,
   "id": "655d1fff",
   "metadata": {},
   "outputs": [],
   "source": [
    "def dict_summation(loss_dict,counts_dict_final):\n",
    "    loss_dict_final={}\n",
    "    parts=[i for i in range(24)]\n",
    "    for class_i in loss_dict:\n",
    "        temp_list=np.zeros(24)\n",
    "        for part_num in parts:\n",
    "            temp_sum=0\n",
    "#             temp_non_zero_elements=0\n",
    "            temp_non_zero_elements=counts_dict_final[class_i][part_num]\n",
    "            for ele in loss_dict[class_i]:\n",
    "                temp_sum+=ele[part_num]\n",
    "            if temp_non_zero_elements != 0:\n",
    "                temp_list[part_num] = temp_sum/temp_non_zero_elements\n",
    "            else:\n",
    "                temp_list[part_num] = temp_sum\n",
    "            loss_dict_final[class_i] = temp_list\n",
    "    return loss_dict_final\n",
    "\n",
    "\n",
    "    "
   ]
  },
  {
   "cell_type": "code",
   "execution_count": 59,
   "id": "e7e7c917",
   "metadata": {},
   "outputs": [],
   "source": [
    "iou_loss_dict_final_1=dict_summation(iou_loss_dict_1,counts_dict_final)\n",
    "iou_loss_dict_final_2=dict_summation(iou_loss_dict_2,counts_dict_final)\n",
    "# iou_loss_dict_final_3=dict_summation(iou_loss_dict_3,counts_dict_final)\n",
    "# iou_loss_dict_final_4=dict_summation(iou_loss_dict_4,counts_dict_final)"
   ]
  },
  {
   "cell_type": "code",
   "execution_count": 60,
   "id": "ddacdd96",
   "metadata": {},
   "outputs": [],
   "source": [
    "mse_loss_dict_final_1=dict_summation(mse_loss_dict_1,counts_dict_final)\n",
    "mse_loss_dict_final_2=dict_summation(mse_loss_dict_2,counts_dict_final)\n",
    "# mse_loss_dict_final_3=dict_summation(mse_loss_dict_3,counts_dict_final)\n",
    "# mse_loss_dict_final_4=dict_summation(mse_loss_dict_4,counts_dict_final)"
   ]
  },
  {
   "cell_type": "code",
   "execution_count": 61,
   "id": "28a730e3",
   "metadata": {},
   "outputs": [],
   "source": [
    "for class_i in iou_loss_dict_final_1:\n",
    "    for part in range(24):\n",
    "        iou_loss_dict_final_1[class_i][part] = round(iou_loss_dict_final_1[class_i][part],3)\n",
    "        iou_loss_dict_final_2[class_i][part] = round(iou_loss_dict_final_2[class_i][part],3)\n",
    "#         iou_loss_dict_final_3[class_i][part] = round(iou_loss_dict_final_3[class_i][part],3)\n",
    "#         iou_loss_dict_final_4[class_i][part] = round(iou_loss_dict_final_4[class_i][part],3)\n",
    "        \n",
    "        mse_loss_dict_final_1[class_i][part] = mse_loss_dict_final_1[class_i][part]*(660*660)\n",
    "        mse_loss_dict_final_1[class_i][part] = round(mse_loss_dict_final_1[class_i][part],1)\n",
    "        \n",
    "        \n",
    "        \n",
    "        \n",
    "        mse_loss_dict_final_2[class_i][part] = mse_loss_dict_final_2[class_i][part]*(660*660)\n",
    "        mse_loss_dict_final_2[class_i][part] = round(mse_loss_dict_final_2[class_i][part],1)\n",
    "        \n",
    "        \n",
    "#         mse_loss_dict_final_3[class_i][part] = mse_loss_dict_final_3[class_i][part]*(660*660)\n",
    "#         mse_loss_dict_final_3[class_i][part] = round(mse_loss_dict_final_3[class_i][part],1)\n",
    "        \n",
    "        \n",
    "#         mse_loss_dict_final_4[class_i][part] = mse_loss_dict_final_4[class_i][part]*(660*660)\n",
    "#         mse_loss_dict_final_4[class_i][part] = round(mse_loss_dict_final_4[class_i][part],1)\n",
    "        \n",
    "        side_ratios_dict_final[class_i][part] = round(side_ratios_dict_final[class_i][part],3)\n",
    "        for i in range(4):\n",
    "            stats_dict_final[class_i][part][i] = round(stats_dict_final[class_i][part][i],3)\n",
    "        \n",
    "        \n",
    "    "
   ]
  },
  {
   "cell_type": "code",
   "execution_count": null,
   "id": "113ba285",
   "metadata": {},
   "outputs": [],
   "source": []
  },
  {
   "cell_type": "code",
   "execution_count": 62,
   "id": "76911f82",
   "metadata": {},
   "outputs": [
    {
     "name": "stdout",
     "output_type": "stream",
     "text": [
      "[0.577 0.384 0.36  0.207 0.206 0.287 0.198 0.165 0.118 0.    0.    0.\n",
      " 0.    0.    0.095 0.08  0.055 0.027 0.011 0.023 0.013 0.009 0.    0.   ]\n",
      "[0.7   0.078 0.071 0.325 0.315 0.477 0.258 0.307 0.725 0.536 0.281 0.239\n",
      " 0.284 0.256 0.289 0.185 0.285 0.265 0.271 0.    0.    0.    0.    0.   ]\n",
      "[0.564 0.078 0.088 0.291 0.656 0.431 0.324 0.285 0.273 0.22  0.29  0.22\n",
      " 0.407 0.    0.    0.    0.    0.    0.    0.    0.    0.    0.    0.   ]\n",
      "[0.721 0.126 0.133 0.408 0.409 0.222 0.658 0.446 0.403 0.261 0.403 0.287\n",
      " 0.361 0.149 0.334 0.135 0.249 0.587 0.    0.    0.    0.    0.    0.   ]\n",
      "[0.651 0.14  0.136 0.208 0.229 0.183 0.159 0.314 0.192 0.509 0.669 0.48\n",
      " 0.34  0.437 0.137 0.315 0.399 0.165 0.361 0.458 0.231 0.39  0.5   0.258]\n",
      "[0.757 0.248 0.25  0.44  0.439 0.221 0.685 0.461 0.448 0.267 0.452 0.279\n",
      " 0.36  0.176 0.351 0.151 0.327 0.    0.    0.    0.    0.    0.    0.   ]\n",
      "[0.679 0.087 0.095 0.264 0.264 0.555 0.079 0.089 0.74  0.592 0.369 0.25\n",
      " 0.389 0.273 0.354 0.244 0.335 0.272 0.327 0.093 0.089 0.    0.    0.   ]\n",
      "[0.732 0.103 0.117 0.405 0.425 0.583 0.207 0.228 0.729 0.459 0.331 0.259\n",
      " 0.324 0.232 0.328 0.253 0.308 0.272 0.29  0.    0.    0.    0.    0.   ]\n",
      "[0.599 0.365 0.419 0.442 0.401 0.    0.    0.    0.    0.    0.    0.\n",
      " 0.    0.    0.    0.824 0.    0.    0.    0.    0.    0.    0.    0.   ]\n",
      "[0.622 0.518 0.548 0.316 0.319 0.135 0.126 0.    0.    0.    0.    0.\n",
      " 0.    0.    0.868 0.    0.    0.    0.    0.    0.    0.    0.    0.   ]\n"
     ]
    }
   ],
   "source": [
    "for class_i in mse_loss_dict_final_1:\n",
    "    print(iou_loss_dict_final_1[class_i])"
   ]
  },
  {
   "cell_type": "code",
   "execution_count": 63,
   "id": "66432ae8",
   "metadata": {},
   "outputs": [
    {
     "name": "stdout",
     "output_type": "stream",
     "text": [
      "hi\n"
     ]
    }
   ],
   "source": [
    "print(\"hi\")"
   ]
  },
  {
   "cell_type": "code",
   "execution_count": 64,
   "id": "598e4218",
   "metadata": {},
   "outputs": [],
   "source": [
    "def class_iou(loss_dict_final,counts_dict_final,current_class):\n",
    "    total_count=0\n",
    "    total_val=0\n",
    "    for part in range(24):\n",
    "        total_val+=loss_dict_final[current_class][part] * counts_dict_final[current_class][part]\n",
    "        total_count+=counts_dict_final[current_class][part]\n",
    "    total_val=total_val/total_count\n",
    "    return total_val\n",
    "        "
   ]
  },
  {
   "cell_type": "code",
   "execution_count": 65,
   "id": "37159d75",
   "metadata": {},
   "outputs": [
    {
     "name": "stdout",
     "output_type": "stream",
     "text": [
      "{'aeroplane': array([0.577, 0.384, 0.36 , 0.207, 0.206, 0.287, 0.198, 0.165, 0.118,\n",
      "       0.   , 0.   , 0.   , 0.   , 0.   , 0.095, 0.08 , 0.055, 0.027,\n",
      "       0.011, 0.023, 0.013, 0.009, 0.   , 0.   ]), 'sheep': array([0.7  , 0.078, 0.071, 0.325, 0.315, 0.477, 0.258, 0.307, 0.725,\n",
      "       0.536, 0.281, 0.239, 0.284, 0.256, 0.289, 0.185, 0.285, 0.265,\n",
      "       0.271, 0.   , 0.   , 0.   , 0.   , 0.   ]), 'bird': array([0.564, 0.078, 0.088, 0.291, 0.656, 0.431, 0.324, 0.285, 0.273,\n",
      "       0.22 , 0.29 , 0.22 , 0.407, 0.   , 0.   , 0.   , 0.   , 0.   ,\n",
      "       0.   , 0.   , 0.   , 0.   , 0.   , 0.   ]), 'dog': array([0.721, 0.126, 0.133, 0.408, 0.409, 0.222, 0.658, 0.446, 0.403,\n",
      "       0.261, 0.403, 0.287, 0.361, 0.149, 0.334, 0.135, 0.249, 0.587,\n",
      "       0.   , 0.   , 0.   , 0.   , 0.   , 0.   ]), 'person': array([0.651, 0.14 , 0.136, 0.208, 0.229, 0.183, 0.159, 0.314, 0.192,\n",
      "       0.509, 0.669, 0.48 , 0.34 , 0.437, 0.137, 0.315, 0.399, 0.165,\n",
      "       0.361, 0.458, 0.231, 0.39 , 0.5  , 0.258]), 'cat': array([0.757, 0.248, 0.25 , 0.44 , 0.439, 0.221, 0.685, 0.461, 0.448,\n",
      "       0.267, 0.452, 0.279, 0.36 , 0.176, 0.351, 0.151, 0.327, 0.   ,\n",
      "       0.   , 0.   , 0.   , 0.   , 0.   , 0.   ]), 'horse': array([0.679, 0.087, 0.095, 0.264, 0.264, 0.555, 0.079, 0.089, 0.74 ,\n",
      "       0.592, 0.369, 0.25 , 0.389, 0.273, 0.354, 0.244, 0.335, 0.272,\n",
      "       0.327, 0.093, 0.089, 0.   , 0.   , 0.   ]), 'cow': array([0.732, 0.103, 0.117, 0.405, 0.425, 0.583, 0.207, 0.228, 0.729,\n",
      "       0.459, 0.331, 0.259, 0.324, 0.232, 0.328, 0.253, 0.308, 0.272,\n",
      "       0.29 , 0.   , 0.   , 0.   , 0.   , 0.   ]), 'bicycle': array([0.599, 0.365, 0.419, 0.442, 0.401, 0.   , 0.   , 0.   , 0.   ,\n",
      "       0.   , 0.   , 0.   , 0.   , 0.   , 0.   , 0.824, 0.   , 0.   ,\n",
      "       0.   , 0.   , 0.   , 0.   , 0.   , 0.   ]), 'motorbike': array([0.622, 0.518, 0.548, 0.316, 0.319, 0.135, 0.126, 0.   , 0.   ,\n",
      "       0.   , 0.   , 0.   , 0.   , 0.   , 0.868, 0.   , 0.   , 0.   ,\n",
      "       0.   , 0.   , 0.   , 0.   , 0.   , 0.   ])}\n"
     ]
    }
   ],
   "source": [
    "print(iou_loss_dict_final_1)"
   ]
  },
  {
   "cell_type": "code",
   "execution_count": 66,
   "id": "f72f0a18",
   "metadata": {},
   "outputs": [],
   "source": [
    "# # print(myTable)\n",
    "# # bird\n",
    "# # person\n",
    "# # cat\n",
    "# # horse\n",
    "# # cow\n",
    "# # dog\n",
    "# # sheep\n",
    "# import plotly.graph_objects as go\n",
    "# import pandas as pd\n",
    "# # df = pd.DataFrame(data)\n",
    "# class_list=[\"person\",\"bird\", \"cat\" , \"horse\", \"cow\", \"dog\", \"sheep\"]\n",
    "# mean_list_final = []\n",
    "# median_list_final = []\n",
    "# counts_list=[]\n",
    "# ratios_list=[]\n",
    "# temp_list_1=[]\n",
    "# for current_class in class_list:\n",
    "#     for i in stats_dict_final[current_class]:\n",
    "#         mean_list_final.append(i[0])\n",
    "#         median_list_final.append(i[2])\n",
    "#     counts_list.append(counts_dict_final[current_class])\n",
    "#     ratios_list.append(list(side_ratios_dict_final[current_class]))\n",
    "#     temp_list_1.append(list(iou_loss_dict_final_1[current_class]))\n",
    "    \n",
    "# data={\n",
    "#     \"Classes\": class_list,\n",
    "#     \"Count\" : counts_list,\n",
    "#     \"Mean_Area\": mean_list_final,\n",
    "#     \"Median_Area\": median_list_final,\n",
    "#     \"Avg_side_ratio\": ratios_list,\n",
    "#     \"Margin in Loss- SUM\": temp_list_1\n",
    "# }\n",
    "# df = pd.DataFrame(data)\n",
    "\n",
    "\n",
    "# fig = go.Figure(data=[go.Table(\n",
    "#     header=dict(values=list(df.columns),\n",
    "#                 fill_color='paleturquoise',\n",
    "#                 align='left'),\n",
    "#     cells=dict(values=df.transpose().values.tolist(),\n",
    "#                fill_color='lavender',\n",
    "#                align='left'))\n",
    "# ])\n",
    "\n",
    "# fig.update_layout(title= \"IOU Values for Torso: VALIDATION\",height=4000)\n",
    "# # fig.title(current_class + \": iou Values\")\n",
    "# fig.show()"
   ]
  },
  {
   "cell_type": "code",
   "execution_count": 67,
   "id": "b69fbde1",
   "metadata": {
    "scrolled": false
   },
   "outputs": [
    {
     "data": {
      "application/vnd.plotly.v1+json": {
       "config": {
        "plotlyServerURL": "https://plot.ly"
       },
       "data": [
        {
         "cells": {
          "align": "left",
          "fill": {
           "color": "lavender"
          },
          "values": [
           [
            "torso",
            "head",
            "hair",
            "ruleg",
            "luleg",
            "ruarm",
            "luarm",
            "neck",
            "rlleg",
            "llleg",
            "rlarm",
            "llarm",
            "lhand",
            "rhand",
            "nose",
            "lfoot",
            "rfoot",
            "leye",
            "mouth",
            "rebrow",
            "lebrow",
            "rear",
            "lear",
            "reye",
            "Mean iou of Class"
           ],
           [
            8091,
            8124,
            6438,
            3771,
            3775,
            6073,
            6176,
            5586,
            3148,
            3150,
            5356,
            5309,
            4628,
            4626,
            6793,
            2348,
            2292,
            5497,
            6394,
            4342,
            4307,
            3529,
            3515,
            5488,
            0
           ],
           [
            0.048,
            0.037,
            0.033,
            0.009,
            0.009,
            0.009,
            0.01,
            0.006,
            0.004,
            0.004,
            0.006,
            0.006,
            0.004,
            0.004,
            0.001,
            0.002,
            0.002,
            0.001,
            0.001,
            0.001,
            0.001,
            0.001,
            0.001,
            0.001,
            0
           ],
           [
            0.035,
            0.015,
            0.011,
            0.006,
            0.006,
            0.005,
            0.005,
            0.003,
            0.003,
            0.003,
            0.003,
            0.003,
            0.002,
            0.002,
            0.001,
            0.001,
            0.001,
            0,
            0,
            0,
            0,
            0,
            0,
            0,
            0
           ],
           [
            1.438,
            1.216,
            1.355,
            1.759,
            1.788,
            2.006,
            1.986,
            1.46,
            1.807,
            1.823,
            null,
            null,
            1.445,
            1.435,
            1.303,
            1.684,
            1.667,
            null,
            null,
            null,
            null,
            1.955,
            1.925,
            null,
            0
           ],
           [
            0.669,
            0.651,
            0.509,
            0.5,
            0.458,
            0.399,
            0.437,
            0.48,
            0.39,
            0.361,
            0.315,
            0.34,
            0.137,
            0.165,
            0.314,
            0.231,
            0.258,
            0.14,
            0.192,
            0.159,
            0.183,
            0.229,
            0.208,
            0.136,
            0.351
           ],
           [
            0.693,
            0.652,
            0.487,
            0.529,
            0.508,
            0.435,
            0.459,
            0.471,
            0.42,
            0.405,
            0.334,
            0.369,
            0.185,
            0.212,
            0.291,
            0.278,
            0.298,
            0.142,
            0.201,
            0.119,
            0.151,
            0.195,
            0.201,
            0.127,
            0.361
           ]
          ]
         },
         "header": {
          "align": "left",
          "fill": {
           "color": "paleturquoise"
          },
          "values": [
           "Part",
           "Count",
           "Mean_Area",
           "Median_Area",
           "Avg_side_ratio",
           "Fully Connected : No Margin",
           "No Margin"
          ]
         },
         "type": "table"
        }
       ],
       "layout": {
        "height": 4000,
        "template": {
         "data": {
          "bar": [
           {
            "error_x": {
             "color": "#2a3f5f"
            },
            "error_y": {
             "color": "#2a3f5f"
            },
            "marker": {
             "line": {
              "color": "#E5ECF6",
              "width": 0.5
             },
             "pattern": {
              "fillmode": "overlay",
              "size": 10,
              "solidity": 0.2
             }
            },
            "type": "bar"
           }
          ],
          "barpolar": [
           {
            "marker": {
             "line": {
              "color": "#E5ECF6",
              "width": 0.5
             },
             "pattern": {
              "fillmode": "overlay",
              "size": 10,
              "solidity": 0.2
             }
            },
            "type": "barpolar"
           }
          ],
          "carpet": [
           {
            "aaxis": {
             "endlinecolor": "#2a3f5f",
             "gridcolor": "white",
             "linecolor": "white",
             "minorgridcolor": "white",
             "startlinecolor": "#2a3f5f"
            },
            "baxis": {
             "endlinecolor": "#2a3f5f",
             "gridcolor": "white",
             "linecolor": "white",
             "minorgridcolor": "white",
             "startlinecolor": "#2a3f5f"
            },
            "type": "carpet"
           }
          ],
          "choropleth": [
           {
            "colorbar": {
             "outlinewidth": 0,
             "ticks": ""
            },
            "type": "choropleth"
           }
          ],
          "contour": [
           {
            "colorbar": {
             "outlinewidth": 0,
             "ticks": ""
            },
            "colorscale": [
             [
              0,
              "#0d0887"
             ],
             [
              0.1111111111111111,
              "#46039f"
             ],
             [
              0.2222222222222222,
              "#7201a8"
             ],
             [
              0.3333333333333333,
              "#9c179e"
             ],
             [
              0.4444444444444444,
              "#bd3786"
             ],
             [
              0.5555555555555556,
              "#d8576b"
             ],
             [
              0.6666666666666666,
              "#ed7953"
             ],
             [
              0.7777777777777778,
              "#fb9f3a"
             ],
             [
              0.8888888888888888,
              "#fdca26"
             ],
             [
              1,
              "#f0f921"
             ]
            ],
            "type": "contour"
           }
          ],
          "contourcarpet": [
           {
            "colorbar": {
             "outlinewidth": 0,
             "ticks": ""
            },
            "type": "contourcarpet"
           }
          ],
          "heatmap": [
           {
            "colorbar": {
             "outlinewidth": 0,
             "ticks": ""
            },
            "colorscale": [
             [
              0,
              "#0d0887"
             ],
             [
              0.1111111111111111,
              "#46039f"
             ],
             [
              0.2222222222222222,
              "#7201a8"
             ],
             [
              0.3333333333333333,
              "#9c179e"
             ],
             [
              0.4444444444444444,
              "#bd3786"
             ],
             [
              0.5555555555555556,
              "#d8576b"
             ],
             [
              0.6666666666666666,
              "#ed7953"
             ],
             [
              0.7777777777777778,
              "#fb9f3a"
             ],
             [
              0.8888888888888888,
              "#fdca26"
             ],
             [
              1,
              "#f0f921"
             ]
            ],
            "type": "heatmap"
           }
          ],
          "heatmapgl": [
           {
            "colorbar": {
             "outlinewidth": 0,
             "ticks": ""
            },
            "colorscale": [
             [
              0,
              "#0d0887"
             ],
             [
              0.1111111111111111,
              "#46039f"
             ],
             [
              0.2222222222222222,
              "#7201a8"
             ],
             [
              0.3333333333333333,
              "#9c179e"
             ],
             [
              0.4444444444444444,
              "#bd3786"
             ],
             [
              0.5555555555555556,
              "#d8576b"
             ],
             [
              0.6666666666666666,
              "#ed7953"
             ],
             [
              0.7777777777777778,
              "#fb9f3a"
             ],
             [
              0.8888888888888888,
              "#fdca26"
             ],
             [
              1,
              "#f0f921"
             ]
            ],
            "type": "heatmapgl"
           }
          ],
          "histogram": [
           {
            "marker": {
             "pattern": {
              "fillmode": "overlay",
              "size": 10,
              "solidity": 0.2
             }
            },
            "type": "histogram"
           }
          ],
          "histogram2d": [
           {
            "colorbar": {
             "outlinewidth": 0,
             "ticks": ""
            },
            "colorscale": [
             [
              0,
              "#0d0887"
             ],
             [
              0.1111111111111111,
              "#46039f"
             ],
             [
              0.2222222222222222,
              "#7201a8"
             ],
             [
              0.3333333333333333,
              "#9c179e"
             ],
             [
              0.4444444444444444,
              "#bd3786"
             ],
             [
              0.5555555555555556,
              "#d8576b"
             ],
             [
              0.6666666666666666,
              "#ed7953"
             ],
             [
              0.7777777777777778,
              "#fb9f3a"
             ],
             [
              0.8888888888888888,
              "#fdca26"
             ],
             [
              1,
              "#f0f921"
             ]
            ],
            "type": "histogram2d"
           }
          ],
          "histogram2dcontour": [
           {
            "colorbar": {
             "outlinewidth": 0,
             "ticks": ""
            },
            "colorscale": [
             [
              0,
              "#0d0887"
             ],
             [
              0.1111111111111111,
              "#46039f"
             ],
             [
              0.2222222222222222,
              "#7201a8"
             ],
             [
              0.3333333333333333,
              "#9c179e"
             ],
             [
              0.4444444444444444,
              "#bd3786"
             ],
             [
              0.5555555555555556,
              "#d8576b"
             ],
             [
              0.6666666666666666,
              "#ed7953"
             ],
             [
              0.7777777777777778,
              "#fb9f3a"
             ],
             [
              0.8888888888888888,
              "#fdca26"
             ],
             [
              1,
              "#f0f921"
             ]
            ],
            "type": "histogram2dcontour"
           }
          ],
          "mesh3d": [
           {
            "colorbar": {
             "outlinewidth": 0,
             "ticks": ""
            },
            "type": "mesh3d"
           }
          ],
          "parcoords": [
           {
            "line": {
             "colorbar": {
              "outlinewidth": 0,
              "ticks": ""
             }
            },
            "type": "parcoords"
           }
          ],
          "pie": [
           {
            "automargin": true,
            "type": "pie"
           }
          ],
          "scatter": [
           {
            "marker": {
             "colorbar": {
              "outlinewidth": 0,
              "ticks": ""
             }
            },
            "type": "scatter"
           }
          ],
          "scatter3d": [
           {
            "line": {
             "colorbar": {
              "outlinewidth": 0,
              "ticks": ""
             }
            },
            "marker": {
             "colorbar": {
              "outlinewidth": 0,
              "ticks": ""
             }
            },
            "type": "scatter3d"
           }
          ],
          "scattercarpet": [
           {
            "marker": {
             "colorbar": {
              "outlinewidth": 0,
              "ticks": ""
             }
            },
            "type": "scattercarpet"
           }
          ],
          "scattergeo": [
           {
            "marker": {
             "colorbar": {
              "outlinewidth": 0,
              "ticks": ""
             }
            },
            "type": "scattergeo"
           }
          ],
          "scattergl": [
           {
            "marker": {
             "colorbar": {
              "outlinewidth": 0,
              "ticks": ""
             }
            },
            "type": "scattergl"
           }
          ],
          "scattermapbox": [
           {
            "marker": {
             "colorbar": {
              "outlinewidth": 0,
              "ticks": ""
             }
            },
            "type": "scattermapbox"
           }
          ],
          "scatterpolar": [
           {
            "marker": {
             "colorbar": {
              "outlinewidth": 0,
              "ticks": ""
             }
            },
            "type": "scatterpolar"
           }
          ],
          "scatterpolargl": [
           {
            "marker": {
             "colorbar": {
              "outlinewidth": 0,
              "ticks": ""
             }
            },
            "type": "scatterpolargl"
           }
          ],
          "scatterternary": [
           {
            "marker": {
             "colorbar": {
              "outlinewidth": 0,
              "ticks": ""
             }
            },
            "type": "scatterternary"
           }
          ],
          "surface": [
           {
            "colorbar": {
             "outlinewidth": 0,
             "ticks": ""
            },
            "colorscale": [
             [
              0,
              "#0d0887"
             ],
             [
              0.1111111111111111,
              "#46039f"
             ],
             [
              0.2222222222222222,
              "#7201a8"
             ],
             [
              0.3333333333333333,
              "#9c179e"
             ],
             [
              0.4444444444444444,
              "#bd3786"
             ],
             [
              0.5555555555555556,
              "#d8576b"
             ],
             [
              0.6666666666666666,
              "#ed7953"
             ],
             [
              0.7777777777777778,
              "#fb9f3a"
             ],
             [
              0.8888888888888888,
              "#fdca26"
             ],
             [
              1,
              "#f0f921"
             ]
            ],
            "type": "surface"
           }
          ],
          "table": [
           {
            "cells": {
             "fill": {
              "color": "#EBF0F8"
             },
             "line": {
              "color": "white"
             }
            },
            "header": {
             "fill": {
              "color": "#C8D4E3"
             },
             "line": {
              "color": "white"
             }
            },
            "type": "table"
           }
          ]
         },
         "layout": {
          "annotationdefaults": {
           "arrowcolor": "#2a3f5f",
           "arrowhead": 0,
           "arrowwidth": 1
          },
          "autotypenumbers": "strict",
          "coloraxis": {
           "colorbar": {
            "outlinewidth": 0,
            "ticks": ""
           }
          },
          "colorscale": {
           "diverging": [
            [
             0,
             "#8e0152"
            ],
            [
             0.1,
             "#c51b7d"
            ],
            [
             0.2,
             "#de77ae"
            ],
            [
             0.3,
             "#f1b6da"
            ],
            [
             0.4,
             "#fde0ef"
            ],
            [
             0.5,
             "#f7f7f7"
            ],
            [
             0.6,
             "#e6f5d0"
            ],
            [
             0.7,
             "#b8e186"
            ],
            [
             0.8,
             "#7fbc41"
            ],
            [
             0.9,
             "#4d9221"
            ],
            [
             1,
             "#276419"
            ]
           ],
           "sequential": [
            [
             0,
             "#0d0887"
            ],
            [
             0.1111111111111111,
             "#46039f"
            ],
            [
             0.2222222222222222,
             "#7201a8"
            ],
            [
             0.3333333333333333,
             "#9c179e"
            ],
            [
             0.4444444444444444,
             "#bd3786"
            ],
            [
             0.5555555555555556,
             "#d8576b"
            ],
            [
             0.6666666666666666,
             "#ed7953"
            ],
            [
             0.7777777777777778,
             "#fb9f3a"
            ],
            [
             0.8888888888888888,
             "#fdca26"
            ],
            [
             1,
             "#f0f921"
            ]
           ],
           "sequentialminus": [
            [
             0,
             "#0d0887"
            ],
            [
             0.1111111111111111,
             "#46039f"
            ],
            [
             0.2222222222222222,
             "#7201a8"
            ],
            [
             0.3333333333333333,
             "#9c179e"
            ],
            [
             0.4444444444444444,
             "#bd3786"
            ],
            [
             0.5555555555555556,
             "#d8576b"
            ],
            [
             0.6666666666666666,
             "#ed7953"
            ],
            [
             0.7777777777777778,
             "#fb9f3a"
            ],
            [
             0.8888888888888888,
             "#fdca26"
            ],
            [
             1,
             "#f0f921"
            ]
           ]
          },
          "colorway": [
           "#636efa",
           "#EF553B",
           "#00cc96",
           "#ab63fa",
           "#FFA15A",
           "#19d3f3",
           "#FF6692",
           "#B6E880",
           "#FF97FF",
           "#FECB52"
          ],
          "font": {
           "color": "#2a3f5f"
          },
          "geo": {
           "bgcolor": "white",
           "lakecolor": "white",
           "landcolor": "#E5ECF6",
           "showlakes": true,
           "showland": true,
           "subunitcolor": "white"
          },
          "hoverlabel": {
           "align": "left"
          },
          "hovermode": "closest",
          "mapbox": {
           "style": "light"
          },
          "paper_bgcolor": "white",
          "plot_bgcolor": "#E5ECF6",
          "polar": {
           "angularaxis": {
            "gridcolor": "white",
            "linecolor": "white",
            "ticks": ""
           },
           "bgcolor": "#E5ECF6",
           "radialaxis": {
            "gridcolor": "white",
            "linecolor": "white",
            "ticks": ""
           }
          },
          "scene": {
           "xaxis": {
            "backgroundcolor": "#E5ECF6",
            "gridcolor": "white",
            "gridwidth": 2,
            "linecolor": "white",
            "showbackground": true,
            "ticks": "",
            "zerolinecolor": "white"
           },
           "yaxis": {
            "backgroundcolor": "#E5ECF6",
            "gridcolor": "white",
            "gridwidth": 2,
            "linecolor": "white",
            "showbackground": true,
            "ticks": "",
            "zerolinecolor": "white"
           },
           "zaxis": {
            "backgroundcolor": "#E5ECF6",
            "gridcolor": "white",
            "gridwidth": 2,
            "linecolor": "white",
            "showbackground": true,
            "ticks": "",
            "zerolinecolor": "white"
           }
          },
          "shapedefaults": {
           "line": {
            "color": "#2a3f5f"
           }
          },
          "ternary": {
           "aaxis": {
            "gridcolor": "white",
            "linecolor": "white",
            "ticks": ""
           },
           "baxis": {
            "gridcolor": "white",
            "linecolor": "white",
            "ticks": ""
           },
           "bgcolor": "#E5ECF6",
           "caxis": {
            "gridcolor": "white",
            "linecolor": "white",
            "ticks": ""
           }
          },
          "title": {
           "x": 0.05
          },
          "xaxis": {
           "automargin": true,
           "gridcolor": "white",
           "linecolor": "white",
           "ticks": "",
           "title": {
            "standoff": 15
           },
           "zerolinecolor": "white",
           "zerolinewidth": 2
          },
          "yaxis": {
           "automargin": true,
           "gridcolor": "white",
           "linecolor": "white",
           "ticks": "",
           "title": {
            "standoff": 15
           },
           "zerolinecolor": "white",
           "zerolinewidth": 2
          }
         }
        },
        "title": {
         "text": "person: iou_Values"
        }
       }
      },
      "text/html": [
       "<div>                            <div id=\"3bef39a7-9d34-408c-a73d-e321a87ada9c\" class=\"plotly-graph-div\" style=\"height:4000px; width:100%;\"></div>            <script type=\"text/javascript\">                require([\"plotly\"], function(Plotly) {                    window.PLOTLYENV=window.PLOTLYENV || {};                                    if (document.getElementById(\"3bef39a7-9d34-408c-a73d-e321a87ada9c\")) {                    Plotly.newPlot(                        \"3bef39a7-9d34-408c-a73d-e321a87ada9c\",                        [{\"cells\":{\"align\":\"left\",\"fill\":{\"color\":\"lavender\"},\"values\":[[\"torso\",\"head\",\"hair\",\"ruleg\",\"luleg\",\"ruarm\",\"luarm\",\"neck\",\"rlleg\",\"llleg\",\"rlarm\",\"llarm\",\"lhand\",\"rhand\",\"nose\",\"lfoot\",\"rfoot\",\"leye\",\"mouth\",\"rebrow\",\"lebrow\",\"rear\",\"lear\",\"reye\",\"Mean iou of Class\"],[8091.0,8124.0,6438.0,3771.0,3775.0,6073.0,6176.0,5586.0,3148.0,3150.0,5356.0,5309.0,4628.0,4626.0,6793.0,2348.0,2292.0,5497.0,6394.0,4342.0,4307.0,3529.0,3515.0,5488.0,0.0],[0.048,0.037,0.033,0.009,0.009,0.009,0.01,0.006,0.004,0.004,0.006,0.006,0.004,0.004,0.001,0.002,0.002,0.001,0.001,0.001,0.001,0.001,0.001,0.001,0.0],[0.035,0.015,0.011,0.006,0.006,0.005,0.005,0.003,0.003,0.003,0.003,0.003,0.002,0.002,0.001,0.001,0.001,0.0,0.0,0.0,0.0,0.0,0.0,0.0,0.0],[1.438,1.216,1.355,1.759,1.788,2.006,1.986,1.46,1.807,1.823,null,null,1.445,1.435,1.303,1.684,1.667,null,null,null,null,1.955,1.925,null,0.0],[0.669,0.651,0.509,0.5,0.458,0.399,0.437,0.48,0.39,0.361,0.315,0.34,0.137,0.165,0.314,0.231,0.258,0.14,0.192,0.159,0.183,0.229,0.208,0.136,0.351],[0.693,0.652,0.487,0.529,0.508,0.435,0.459,0.471,0.42,0.405,0.334,0.369,0.185,0.212,0.291,0.278,0.298,0.142,0.201,0.119,0.151,0.195,0.201,0.127,0.361]]},\"header\":{\"align\":\"left\",\"fill\":{\"color\":\"paleturquoise\"},\"values\":[\"Part\",\"Count\",\"Mean_Area\",\"Median_Area\",\"Avg_side_ratio\",\"Fully Connected : No Margin\",\"No Margin\"]},\"type\":\"table\"}],                        {\"template\":{\"data\":{\"bar\":[{\"error_x\":{\"color\":\"#2a3f5f\"},\"error_y\":{\"color\":\"#2a3f5f\"},\"marker\":{\"line\":{\"color\":\"#E5ECF6\",\"width\":0.5},\"pattern\":{\"fillmode\":\"overlay\",\"size\":10,\"solidity\":0.2}},\"type\":\"bar\"}],\"barpolar\":[{\"marker\":{\"line\":{\"color\":\"#E5ECF6\",\"width\":0.5},\"pattern\":{\"fillmode\":\"overlay\",\"size\":10,\"solidity\":0.2}},\"type\":\"barpolar\"}],\"carpet\":[{\"aaxis\":{\"endlinecolor\":\"#2a3f5f\",\"gridcolor\":\"white\",\"linecolor\":\"white\",\"minorgridcolor\":\"white\",\"startlinecolor\":\"#2a3f5f\"},\"baxis\":{\"endlinecolor\":\"#2a3f5f\",\"gridcolor\":\"white\",\"linecolor\":\"white\",\"minorgridcolor\":\"white\",\"startlinecolor\":\"#2a3f5f\"},\"type\":\"carpet\"}],\"choropleth\":[{\"colorbar\":{\"outlinewidth\":0,\"ticks\":\"\"},\"type\":\"choropleth\"}],\"contour\":[{\"colorbar\":{\"outlinewidth\":0,\"ticks\":\"\"},\"colorscale\":[[0.0,\"#0d0887\"],[0.1111111111111111,\"#46039f\"],[0.2222222222222222,\"#7201a8\"],[0.3333333333333333,\"#9c179e\"],[0.4444444444444444,\"#bd3786\"],[0.5555555555555556,\"#d8576b\"],[0.6666666666666666,\"#ed7953\"],[0.7777777777777778,\"#fb9f3a\"],[0.8888888888888888,\"#fdca26\"],[1.0,\"#f0f921\"]],\"type\":\"contour\"}],\"contourcarpet\":[{\"colorbar\":{\"outlinewidth\":0,\"ticks\":\"\"},\"type\":\"contourcarpet\"}],\"heatmap\":[{\"colorbar\":{\"outlinewidth\":0,\"ticks\":\"\"},\"colorscale\":[[0.0,\"#0d0887\"],[0.1111111111111111,\"#46039f\"],[0.2222222222222222,\"#7201a8\"],[0.3333333333333333,\"#9c179e\"],[0.4444444444444444,\"#bd3786\"],[0.5555555555555556,\"#d8576b\"],[0.6666666666666666,\"#ed7953\"],[0.7777777777777778,\"#fb9f3a\"],[0.8888888888888888,\"#fdca26\"],[1.0,\"#f0f921\"]],\"type\":\"heatmap\"}],\"heatmapgl\":[{\"colorbar\":{\"outlinewidth\":0,\"ticks\":\"\"},\"colorscale\":[[0.0,\"#0d0887\"],[0.1111111111111111,\"#46039f\"],[0.2222222222222222,\"#7201a8\"],[0.3333333333333333,\"#9c179e\"],[0.4444444444444444,\"#bd3786\"],[0.5555555555555556,\"#d8576b\"],[0.6666666666666666,\"#ed7953\"],[0.7777777777777778,\"#fb9f3a\"],[0.8888888888888888,\"#fdca26\"],[1.0,\"#f0f921\"]],\"type\":\"heatmapgl\"}],\"histogram\":[{\"marker\":{\"pattern\":{\"fillmode\":\"overlay\",\"size\":10,\"solidity\":0.2}},\"type\":\"histogram\"}],\"histogram2d\":[{\"colorbar\":{\"outlinewidth\":0,\"ticks\":\"\"},\"colorscale\":[[0.0,\"#0d0887\"],[0.1111111111111111,\"#46039f\"],[0.2222222222222222,\"#7201a8\"],[0.3333333333333333,\"#9c179e\"],[0.4444444444444444,\"#bd3786\"],[0.5555555555555556,\"#d8576b\"],[0.6666666666666666,\"#ed7953\"],[0.7777777777777778,\"#fb9f3a\"],[0.8888888888888888,\"#fdca26\"],[1.0,\"#f0f921\"]],\"type\":\"histogram2d\"}],\"histogram2dcontour\":[{\"colorbar\":{\"outlinewidth\":0,\"ticks\":\"\"},\"colorscale\":[[0.0,\"#0d0887\"],[0.1111111111111111,\"#46039f\"],[0.2222222222222222,\"#7201a8\"],[0.3333333333333333,\"#9c179e\"],[0.4444444444444444,\"#bd3786\"],[0.5555555555555556,\"#d8576b\"],[0.6666666666666666,\"#ed7953\"],[0.7777777777777778,\"#fb9f3a\"],[0.8888888888888888,\"#fdca26\"],[1.0,\"#f0f921\"]],\"type\":\"histogram2dcontour\"}],\"mesh3d\":[{\"colorbar\":{\"outlinewidth\":0,\"ticks\":\"\"},\"type\":\"mesh3d\"}],\"parcoords\":[{\"line\":{\"colorbar\":{\"outlinewidth\":0,\"ticks\":\"\"}},\"type\":\"parcoords\"}],\"pie\":[{\"automargin\":true,\"type\":\"pie\"}],\"scatter\":[{\"marker\":{\"colorbar\":{\"outlinewidth\":0,\"ticks\":\"\"}},\"type\":\"scatter\"}],\"scatter3d\":[{\"line\":{\"colorbar\":{\"outlinewidth\":0,\"ticks\":\"\"}},\"marker\":{\"colorbar\":{\"outlinewidth\":0,\"ticks\":\"\"}},\"type\":\"scatter3d\"}],\"scattercarpet\":[{\"marker\":{\"colorbar\":{\"outlinewidth\":0,\"ticks\":\"\"}},\"type\":\"scattercarpet\"}],\"scattergeo\":[{\"marker\":{\"colorbar\":{\"outlinewidth\":0,\"ticks\":\"\"}},\"type\":\"scattergeo\"}],\"scattergl\":[{\"marker\":{\"colorbar\":{\"outlinewidth\":0,\"ticks\":\"\"}},\"type\":\"scattergl\"}],\"scattermapbox\":[{\"marker\":{\"colorbar\":{\"outlinewidth\":0,\"ticks\":\"\"}},\"type\":\"scattermapbox\"}],\"scatterpolar\":[{\"marker\":{\"colorbar\":{\"outlinewidth\":0,\"ticks\":\"\"}},\"type\":\"scatterpolar\"}],\"scatterpolargl\":[{\"marker\":{\"colorbar\":{\"outlinewidth\":0,\"ticks\":\"\"}},\"type\":\"scatterpolargl\"}],\"scatterternary\":[{\"marker\":{\"colorbar\":{\"outlinewidth\":0,\"ticks\":\"\"}},\"type\":\"scatterternary\"}],\"surface\":[{\"colorbar\":{\"outlinewidth\":0,\"ticks\":\"\"},\"colorscale\":[[0.0,\"#0d0887\"],[0.1111111111111111,\"#46039f\"],[0.2222222222222222,\"#7201a8\"],[0.3333333333333333,\"#9c179e\"],[0.4444444444444444,\"#bd3786\"],[0.5555555555555556,\"#d8576b\"],[0.6666666666666666,\"#ed7953\"],[0.7777777777777778,\"#fb9f3a\"],[0.8888888888888888,\"#fdca26\"],[1.0,\"#f0f921\"]],\"type\":\"surface\"}],\"table\":[{\"cells\":{\"fill\":{\"color\":\"#EBF0F8\"},\"line\":{\"color\":\"white\"}},\"header\":{\"fill\":{\"color\":\"#C8D4E3\"},\"line\":{\"color\":\"white\"}},\"type\":\"table\"}]},\"layout\":{\"annotationdefaults\":{\"arrowcolor\":\"#2a3f5f\",\"arrowhead\":0,\"arrowwidth\":1},\"autotypenumbers\":\"strict\",\"coloraxis\":{\"colorbar\":{\"outlinewidth\":0,\"ticks\":\"\"}},\"colorscale\":{\"diverging\":[[0,\"#8e0152\"],[0.1,\"#c51b7d\"],[0.2,\"#de77ae\"],[0.3,\"#f1b6da\"],[0.4,\"#fde0ef\"],[0.5,\"#f7f7f7\"],[0.6,\"#e6f5d0\"],[0.7,\"#b8e186\"],[0.8,\"#7fbc41\"],[0.9,\"#4d9221\"],[1,\"#276419\"]],\"sequential\":[[0.0,\"#0d0887\"],[0.1111111111111111,\"#46039f\"],[0.2222222222222222,\"#7201a8\"],[0.3333333333333333,\"#9c179e\"],[0.4444444444444444,\"#bd3786\"],[0.5555555555555556,\"#d8576b\"],[0.6666666666666666,\"#ed7953\"],[0.7777777777777778,\"#fb9f3a\"],[0.8888888888888888,\"#fdca26\"],[1.0,\"#f0f921\"]],\"sequentialminus\":[[0.0,\"#0d0887\"],[0.1111111111111111,\"#46039f\"],[0.2222222222222222,\"#7201a8\"],[0.3333333333333333,\"#9c179e\"],[0.4444444444444444,\"#bd3786\"],[0.5555555555555556,\"#d8576b\"],[0.6666666666666666,\"#ed7953\"],[0.7777777777777778,\"#fb9f3a\"],[0.8888888888888888,\"#fdca26\"],[1.0,\"#f0f921\"]]},\"colorway\":[\"#636efa\",\"#EF553B\",\"#00cc96\",\"#ab63fa\",\"#FFA15A\",\"#19d3f3\",\"#FF6692\",\"#B6E880\",\"#FF97FF\",\"#FECB52\"],\"font\":{\"color\":\"#2a3f5f\"},\"geo\":{\"bgcolor\":\"white\",\"lakecolor\":\"white\",\"landcolor\":\"#E5ECF6\",\"showlakes\":true,\"showland\":true,\"subunitcolor\":\"white\"},\"hoverlabel\":{\"align\":\"left\"},\"hovermode\":\"closest\",\"mapbox\":{\"style\":\"light\"},\"paper_bgcolor\":\"white\",\"plot_bgcolor\":\"#E5ECF6\",\"polar\":{\"angularaxis\":{\"gridcolor\":\"white\",\"linecolor\":\"white\",\"ticks\":\"\"},\"bgcolor\":\"#E5ECF6\",\"radialaxis\":{\"gridcolor\":\"white\",\"linecolor\":\"white\",\"ticks\":\"\"}},\"scene\":{\"xaxis\":{\"backgroundcolor\":\"#E5ECF6\",\"gridcolor\":\"white\",\"gridwidth\":2,\"linecolor\":\"white\",\"showbackground\":true,\"ticks\":\"\",\"zerolinecolor\":\"white\"},\"yaxis\":{\"backgroundcolor\":\"#E5ECF6\",\"gridcolor\":\"white\",\"gridwidth\":2,\"linecolor\":\"white\",\"showbackground\":true,\"ticks\":\"\",\"zerolinecolor\":\"white\"},\"zaxis\":{\"backgroundcolor\":\"#E5ECF6\",\"gridcolor\":\"white\",\"gridwidth\":2,\"linecolor\":\"white\",\"showbackground\":true,\"ticks\":\"\",\"zerolinecolor\":\"white\"}},\"shapedefaults\":{\"line\":{\"color\":\"#2a3f5f\"}},\"ternary\":{\"aaxis\":{\"gridcolor\":\"white\",\"linecolor\":\"white\",\"ticks\":\"\"},\"baxis\":{\"gridcolor\":\"white\",\"linecolor\":\"white\",\"ticks\":\"\"},\"bgcolor\":\"#E5ECF6\",\"caxis\":{\"gridcolor\":\"white\",\"linecolor\":\"white\",\"ticks\":\"\"}},\"title\":{\"x\":0.05},\"xaxis\":{\"automargin\":true,\"gridcolor\":\"white\",\"linecolor\":\"white\",\"ticks\":\"\",\"title\":{\"standoff\":15},\"zerolinecolor\":\"white\",\"zerolinewidth\":2},\"yaxis\":{\"automargin\":true,\"gridcolor\":\"white\",\"linecolor\":\"white\",\"ticks\":\"\",\"title\":{\"standoff\":15},\"zerolinecolor\":\"white\",\"zerolinewidth\":2}}},\"title\":{\"text\":\"person: iou_Values\"},\"height\":4000},                        {\"responsive\": true}                    ).then(function(){\n",
       "                            \n",
       "var gd = document.getElementById('3bef39a7-9d34-408c-a73d-e321a87ada9c');\n",
       "var x = new MutationObserver(function (mutations, observer) {{\n",
       "        var display = window.getComputedStyle(gd).display;\n",
       "        if (!display || display === 'none') {{\n",
       "            console.log([gd, 'removed!']);\n",
       "            Plotly.purge(gd);\n",
       "            observer.disconnect();\n",
       "        }}\n",
       "}});\n",
       "\n",
       "// Listen for the removal of the full notebook cells\n",
       "var notebookContainer = gd.closest('#notebook-container');\n",
       "if (notebookContainer) {{\n",
       "    x.observe(notebookContainer, {childList: true});\n",
       "}}\n",
       "\n",
       "// Listen for the clearing of the current output cell\n",
       "var outputEl = gd.closest('.output');\n",
       "if (outputEl) {{\n",
       "    x.observe(outputEl, {childList: true});\n",
       "}}\n",
       "\n",
       "                        })                };                });            </script>        </div>"
      ]
     },
     "metadata": {},
     "output_type": "display_data"
    }
   ],
   "source": [
    "# print(myTable)\n",
    "# bird\n",
    "#person\n",
    "# cat\n",
    "# horse\n",
    "# cow\n",
    "# dog\n",
    "# sheep\n",
    "import plotly.graph_objects as go\n",
    "import pandas as pd\n",
    "# df = pd.DataFrame(data)\n",
    "current_class=\"person\"\n",
    "mean_list_final = []\n",
    "median_list_final = []\n",
    "for i in stats_dict_final[current_class]:\n",
    "    mean_list_final.append(i[0])\n",
    "    median_list_final.append(i[2])\n",
    "\n",
    "part_list=list(part_labels[current_class].keys())\n",
    "while len(part_list) != 24:\n",
    "    part_list.append(\"NA\")\n",
    "part_list.append(\"Mean iou of Class\")\n",
    "counts_list=list(counts_dict_final[current_class])\n",
    "counts_list.append(0)\n",
    "mean_list_final.append(0)\n",
    "median_list_final.append(0)\n",
    "\n",
    "ratios_list=list(side_ratios_dict_final[current_class])\n",
    "ratios_list.append(0)\n",
    "\n",
    "\n",
    "temp_list_1=list(iou_loss_dict_final_1[current_class])\n",
    "temp_list_1.append(round(class_iou(iou_loss_dict_final_1,counts_dict_final,current_class),3))\n",
    "temp_list_2=list(iou_loss_dict_final_2[current_class])\n",
    "temp_list_2.append(round(class_iou(iou_loss_dict_final_2,counts_dict_final,current_class),3))\n",
    "# temp_list_3=list(iou_loss_dict_final_3[current_class])\n",
    "# temp_list_3.append(round(class_iou(iou_loss_dict_final_3,counts_dict_final,current_class),3))\n",
    "# temp_list_4=list(iou_loss_dict_final_4[current_class])\n",
    "# temp_list_4.append(round(class_iou(iou_loss_dict_final_4,counts_dict_final,current_class),3))\n",
    "\n",
    "data={\n",
    "    \"Part\": part_list,\n",
    "    \"Count\" : counts_list,\n",
    "    \"Mean_Area\": mean_list_final,\n",
    "    \"Median_Area\": median_list_final,\n",
    "    \"Avg_side_ratio\": ratios_list,\n",
    "    \"Fully Connected : No Margin\": temp_list_1,\n",
    "    \"No Margin\": temp_list_2,\n",
    "#     \"Margin in Loss(MEAN)\": temp_list_3,\n",
    "#     \"Margin not in Loss\": temp_list_4\n",
    "}\n",
    "df = pd.DataFrame(data)\n",
    "\n",
    "df_new=df.sort_values(by=['Median_Area'], ascending=False)\n",
    "\n",
    "fig = go.Figure(data=[go.Table(\n",
    "    header=dict(values=list(df_new.columns),\n",
    "                fill_color='paleturquoise',\n",
    "                align='left'),\n",
    "    cells=dict(values=df_new.transpose().values.tolist(),\n",
    "               fill_color='lavender',\n",
    "               align='left'))\n",
    "])\n",
    "\n",
    "fig.update_layout(title= current_class + \": iou_Values\",height=4000)\n",
    "# fig.title(current_class + \": iou Values\")\n",
    "fig.show()"
   ]
  },
  {
   "cell_type": "code",
   "execution_count": null,
   "id": "30a52e9f",
   "metadata": {},
   "outputs": [],
   "source": []
  },
  {
   "cell_type": "code",
   "execution_count": null,
   "id": "36833e1e",
   "metadata": {},
   "outputs": [],
   "source": []
  }
 ],
 "metadata": {
  "kernelspec": {
   "display_name": "Python 3 (ipykernel)",
   "language": "python",
   "name": "python3"
  },
  "language_info": {
   "codemirror_mode": {
    "name": "ipython",
    "version": 3
   },
   "file_extension": ".py",
   "mimetype": "text/x-python",
   "name": "python",
   "nbconvert_exporter": "python",
   "pygments_lexer": "ipython3",
   "version": "3.9.5"
  }
 },
 "nbformat": 4,
 "nbformat_minor": 5
}
