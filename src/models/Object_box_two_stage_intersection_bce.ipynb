{
 "cells": [
  {
   "cell_type": "code",
   "execution_count": 1,
   "id": "7cfd1439",
   "metadata": {},
   "outputs": [],
   "source": [
    "%load_ext autoreload\n",
    "%autoreload 2"
   ]
  },
  {
   "cell_type": "code",
   "execution_count": 2,
   "id": "5671166e",
   "metadata": {},
   "outputs": [
    {
     "name": "stdout",
     "output_type": "stream",
     "text": [
      "env: CUDA_LAUNCH_BLOCKING=1\n"
     ]
    }
   ],
   "source": [
    "%set_env CUDA_LAUNCH_BLOCKING=1"
   ]
  },
  {
   "cell_type": "code",
   "execution_count": 18,
   "id": "21434d68",
   "metadata": {},
   "outputs": [],
   "source": [
    "import sys\n",
    "import collections\n",
    "import cv2\n",
    "import os\n",
    "import math\n",
    "import random\n",
    "import pickle\n",
    "import copy\n",
    "import numpy as np\n",
    "import pandas as pd\n",
    "sys.path.append(\"C:\\\\Users\\\\user\\\\Documents\\\\Workspace\\\\MeronymNet-PyTorch\\\\src\")"
   ]
  },
  {
   "cell_type": "code",
   "execution_count": 4,
   "id": "e88c7fb7",
   "metadata": {},
   "outputs": [],
   "source": [
    "import torch\n",
    "import torch.optim as optim\n",
    "from torch.utils.tensorboard import SummaryWriter"
   ]
  },
  {
   "cell_type": "code",
   "execution_count": 5,
   "id": "4e46b5d8",
   "metadata": {},
   "outputs": [],
   "source": [
    "from losses import BoxVAE_losses as loss\n",
    "from evaluation import metrics\n",
    "from utils import data_utils as data_loading\n",
    "from components.DenseAutoencoder import DenseAutoencoder\n",
    "from components.DenseAutoencoder import Decoder\n",
    "from components.TwoStageAutoEncoder import TwoStageAutoEncoder"
   ]
  },
  {
   "cell_type": "code",
   "execution_count": 6,
   "id": "d19349cb",
   "metadata": {},
   "outputs": [],
   "source": [
    "import matplotlib.pyplot as plt"
   ]
  },
  {
   "cell_type": "code",
   "execution_count": 7,
   "id": "0b59f5f7",
   "metadata": {},
   "outputs": [],
   "source": [
    "# from mask_generation import masked_sketch"
   ]
  },
  {
   "cell_type": "code",
   "execution_count": 8,
   "id": "4e512f48",
   "metadata": {},
   "outputs": [],
   "source": [
    "colors = [(1, 0, 0),\n",
    "          (0.737, 0.561, 0.561),\n",
    "          (0.255, 0.412, 0.882),\n",
    "          (0.545, 0.271, 0.0745),\n",
    "          (0.98, 0.502, 0.447),\n",
    "          (0.98, 0.643, 0.376),\n",
    "          (0.18, 0.545, 0.341),\n",
    "          (0.502, 0, 0.502),\n",
    "          (0.627, 0.322, 0.176),\n",
    "          (0.753, 0.753, 0.753),\n",
    "          (0.529, 0.808, 0.922),\n",
    "          (0.416, 0.353, 0.804),\n",
    "          (0.439, 0.502, 0.565),\n",
    "          (0.784, 0.302, 0.565),\n",
    "          (0.867, 0.627, 0.867),\n",
    "          (0, 1, 0.498),\n",
    "          (0.275, 0.51, 0.706),\n",
    "          (0.824, 0.706, 0.549),\n",
    "          (0, 0.502, 0.502),\n",
    "          (0.847, 0.749, 0.847),\n",
    "          (1, 0.388, 0.278),\n",
    "          (0.251, 0.878, 0.816),\n",
    "          (0.933, 0.51, 0.933),\n",
    "          (0.961, 0.871, 0.702)]\n",
    "colors = (np.asarray(colors)*255)\n",
    "canvas_size = 660\n",
    "\n",
    "def plot_bbx(bbx):\n",
    "    bbx = bbx*canvas_size\n",
    "    canvas = np.ones((canvas_size,canvas_size,3), np.uint8) * 255\n",
    "    for i, coord in enumerate(bbx):\n",
    "        x_minp, y_minp,x_maxp , y_maxp = coord[:4]\n",
    "        if [x_minp, y_minp, x_maxp, y_maxp]!=[0,0,0,0]:\n",
    "            cv2.rectangle(canvas, (int(x_minp), int(y_minp)), (int(x_maxp) , int(y_maxp) ), colors[i], 6)\n",
    "    return canvas\n",
    "\n",
    "def plot_obj_bbx(bbx):\n",
    "    bbx = bbx*canvas_size\n",
    "    canvas = np.ones((canvas_size,canvas_size,3), np.uint8) * 255\n",
    "    x_minp, y_minp,x_maxp , y_maxp = bbx\n",
    "    cv2.rectangle(canvas, (int(x_minp), int(y_minp)), (int(x_maxp) , int(y_maxp) ), colors[0], 6)\n",
    "    return canvas\n",
    "\n",
    "# def plot_bbx(bbx):\n",
    "#     bbx = bbx*canvas_size\n",
    "#     canvas = np.ones((canvas_size,canvas_size,3), np.uint8) * 255\n",
    "#     for i, coord in enumerate(bbx):\n",
    "#         x, y, w ,h = coord\n",
    "#         if [x, y, w ,h]!=[0,0,0,0]:\n",
    "#             cv2.rectangle(canvas, (int(x), int(y)), (int(x + w) , int(y + h) ), colors[i], 6)\n",
    "#     return canvas\n"
   ]
  },
  {
   "cell_type": "code",
   "execution_count": 9,
   "id": "0381e098",
   "metadata": {},
   "outputs": [],
   "source": [
    "def inference_obj(decoder, node_data):\n",
    "\n",
    "    decoder.cuda()\n",
    "    z_latent = torch.normal(torch.zeros([batch_size,latent_dims])).cuda()\n",
    "    nodes = torch.reshape(nodes,(batch_size,decoder.num_nodes))\n",
    "    obj_class = torch.reshape(obj_class,(batch_size, decoder.class_size))\n",
    "    conditioned_z = torch.cat([nodes, z_latent],dim=-1)\n",
    "    conditioned_z = torch.cat([obj_class, conditioned_z],dim=-1)\n",
    "    \n",
    "    op = decoder(conditioned_z)\n",
    "        \n",
    "    return op[0], op[1], z_latent\n",
    "\n",
    "\n",
    "def inference(decoder, nodes, obj_class, latent_dims, batch_size):\n",
    "\n",
    "    decoder.cuda()\n",
    "    z_latent = torch.normal(torch.zeros([batch_size,latent_dims])).cuda()\n",
    "    nodes = torch.reshape(nodes,(batch_size,decoder.num_nodes))\n",
    "    obj_class = torch.reshape(obj_class,(batch_size, decoder.class_size))\n",
    "    conditioned_z = torch.cat([nodes, z_latent],dim=-1)\n",
    "    conditioned_z = torch.cat([obj_class, conditioned_z],dim=-1)\n",
    "    \n",
    "    op = decoder(conditioned_z)\n",
    "        \n",
    "    return op[0], op[1], z_latent"
   ]
  },
  {
   "cell_type": "code",
   "execution_count": 12,
   "id": "9cd8d4a6",
   "metadata": {
    "scrolled": false
   },
   "outputs": [],
   "source": [
    "batch_size = 128\n",
    "latent_dims = 64\n",
    "num_nodes = 16\n",
    "bbx_size = 4\n",
    "num_classes = 7\n",
    "label_shape = 1\n",
    "nb_epochs = 1000\n",
    "klw = loss.frange_cycle_linear(nb_epochs)\n",
    "learning_rate = 0.00009\n",
    "hidden1 = 32\n",
    "hidden2 = 16\n",
    "hidden3 = 128\n",
    "dense_hidden1=16\n",
    "dense_hidden2=32\n",
    "adaptive_margin = True\n",
    "fine_tune_box = False\n",
    "output_log = False\n",
    "area_encoding = False\n",
    "run_prefix = \"two_stage_intersection_bce\"\n",
    "variational=False"
   ]
  },
  {
   "cell_type": "code",
   "execution_count": 13,
   "id": "1b22faa5",
   "metadata": {},
   "outputs": [
    {
     "name": "stderr",
     "output_type": "stream",
     "text": [
      "C:\\Users\\user\\miniconda3\\lib\\site-packages\\torch_geometric\\deprecation.py:13: UserWarning: 'data.DataLoader' is deprecated, use 'loader.DataLoader' instead\n",
      "  warnings.warn(out)\n"
     ]
    }
   ],
   "source": [
    "batch_train_loader, batch_val_loader = data_loading.load_data(obj_data_postfix = '_obj_boundary',\n",
    "                                                              part_data_post_fix = '_scaled',\n",
    "                                                              file_postfix = '_combined',\n",
    "                                                              seed=345,\n",
    "                                                              batch_size=batch_size)"
   ]
  },
  {
   "cell_type": "code",
   "execution_count": 14,
   "id": "ce7be1a5",
   "metadata": {
    "scrolled": true
   },
   "outputs": [
    {
     "name": "stdout",
     "output_type": "stream",
     "text": [
      "torch.Size([2048, 5]) torch.Size([128, 11])\n",
      "torch.Size([2048, 5]) torch.Size([128, 11])\n",
      "torch.Size([2048, 5]) torch.Size([128, 11])\n"
     ]
    }
   ],
   "source": [
    "idx = 0\n",
    "for data in batch_train_loader:\n",
    "    idx+=1\n",
    "    print(data.x.shape, data.y.shape)\n",
    "    if idx==3:\n",
    "        break"
   ]
  },
  {
   "cell_type": "code",
   "execution_count": 15,
   "id": "361b90d9",
   "metadata": {},
   "outputs": [
    {
     "data": {
      "text/plain": [
       "27"
      ]
     },
     "execution_count": 15,
     "metadata": {},
     "output_type": "execute_result"
    }
   ],
   "source": [
    "import gc\n",
    "gc.collect()"
   ]
  },
  {
   "cell_type": "code",
   "execution_count": 16,
   "id": "73f4529b",
   "metadata": {},
   "outputs": [
    {
     "data": {
      "text/plain": [
       "device(type='cuda')"
      ]
     },
     "execution_count": 16,
     "metadata": {},
     "output_type": "execute_result"
    }
   ],
   "source": [
    "device = torch.device('cuda' if torch.cuda.is_available() else 'cpu')\n",
    "device"
   ]
  },
  {
   "cell_type": "code",
   "execution_count": 110,
   "id": "5d41ca05",
   "metadata": {
    "scrolled": true
   },
   "outputs": [
    {
     "ename": "RuntimeError",
     "evalue": "The size of tensor a (16) must match the size of tensor b (4) at non-singleton dimension 2",
     "output_type": "error",
     "traceback": [
      "\u001b[1;31m---------------------------------------------------------------------------\u001b[0m",
      "\u001b[1;31mRuntimeError\u001b[0m                              Traceback (most recent call last)",
      "\u001b[1;32m~\\AppData\\Local\\Temp/ipykernel_2152/1472476825.py\u001b[0m in \u001b[0;36m<module>\u001b[1;34m\u001b[0m\n\u001b[0;32m     82\u001b[0m         \u001b[0mbbox_loss\u001b[0m \u001b[1;33m=\u001b[0m \u001b[0mloss\u001b[0m\u001b[1;33m.\u001b[0m\u001b[0mbbox_loss\u001b[0m\u001b[1;33m(\u001b[0m\u001b[0mpred_box\u001b[0m\u001b[1;33m=\u001b[0m\u001b[0mnode_data_pred\u001b[0m\u001b[1;33m,\u001b[0m \u001b[0mtrue_box\u001b[0m\u001b[1;33m=\u001b[0m\u001b[0mnode_data_true\u001b[0m\u001b[1;33m[\u001b[0m\u001b[1;33m:\u001b[0m\u001b[1;33m,\u001b[0m\u001b[1;36m1\u001b[0m\u001b[1;33m:\u001b[0m\u001b[1;33m]\u001b[0m\u001b[1;33m,\u001b[0m \u001b[0mmargin\u001b[0m\u001b[1;33m=\u001b[0m\u001b[0mmargin\u001b[0m\u001b[1;33m)\u001b[0m\u001b[1;33m\u001b[0m\u001b[1;33m\u001b[0m\u001b[0m\n\u001b[0;32m     83\u001b[0m         \u001b[0mnode_loss\u001b[0m \u001b[1;33m=\u001b[0m \u001b[0mloss\u001b[0m\u001b[1;33m.\u001b[0m\u001b[0mnode_loss\u001b[0m\u001b[1;33m(\u001b[0m\u001b[0mlabel_pred\u001b[0m\u001b[1;33m,\u001b[0m\u001b[0mlabel_true\u001b[0m\u001b[1;33m)\u001b[0m\u001b[1;33m\u001b[0m\u001b[1;33m\u001b[0m\u001b[0m\n\u001b[1;32m---> 84\u001b[1;33m         \u001b[0misec_loss\u001b[0m \u001b[1;33m=\u001b[0m \u001b[0mloss\u001b[0m\u001b[1;33m.\u001b[0m\u001b[0mintersection_binary_loss\u001b[0m\u001b[1;33m(\u001b[0m\u001b[0mpred_box\u001b[0m\u001b[1;33m=\u001b[0m\u001b[0mnode_data_pred\u001b[0m\u001b[1;33m,\u001b[0m \u001b[0mtrue_box\u001b[0m\u001b[1;33m=\u001b[0m\u001b[0mnode_data_true\u001b[0m\u001b[1;33m[\u001b[0m\u001b[1;33m:\u001b[0m\u001b[1;33m,\u001b[0m\u001b[1;36m1\u001b[0m\u001b[1;33m:\u001b[0m\u001b[1;33m]\u001b[0m\u001b[1;33m)\u001b[0m\u001b[1;33m\u001b[0m\u001b[1;33m\u001b[0m\u001b[0m\n\u001b[0m\u001b[0;32m     85\u001b[0m \u001b[1;33m\u001b[0m\u001b[0m\n\u001b[0;32m     86\u001b[0m         \u001b[0mkl_weight\u001b[0m \u001b[1;33m=\u001b[0m \u001b[0mklw\u001b[0m\u001b[1;33m[\u001b[0m\u001b[0micoef\u001b[0m\u001b[1;33m]\u001b[0m\u001b[1;33m\u001b[0m\u001b[1;33m\u001b[0m\u001b[0m\n",
      "\u001b[1;32m~\\Documents\\Workspace\\MeronymNet-PyTorch\\src\\losses\\BoxVAE_losses.py\u001b[0m in \u001b[0;36mintersection_binary_loss\u001b[1;34m(pred_box, true_box, log_output, area_encoding)\u001b[0m\n\u001b[0;32m    230\u001b[0m         \u001b[0mtrue_box\u001b[0m \u001b[1;33m=\u001b[0m \u001b[0mtorch\u001b[0m\u001b[1;33m.\u001b[0m\u001b[0mexp\u001b[0m\u001b[1;33m(\u001b[0m\u001b[1;33m-\u001b[0m\u001b[0mtrue_box\u001b[0m\u001b[1;33m)\u001b[0m\u001b[1;33m\u001b[0m\u001b[1;33m\u001b[0m\u001b[0m\n\u001b[0;32m    231\u001b[0m \u001b[1;33m\u001b[0m\u001b[0m\n\u001b[1;32m--> 232\u001b[1;33m     \u001b[0mpred_box\u001b[0m \u001b[1;33m=\u001b[0m \u001b[0mtorch\u001b[0m\u001b[1;33m.\u001b[0m\u001b[0mmultiply\u001b[0m\u001b[1;33m(\u001b[0m\u001b[0mmask\u001b[0m\u001b[1;33m,\u001b[0m \u001b[0mpred_box\u001b[0m\u001b[1;33m)\u001b[0m\u001b[1;33m\u001b[0m\u001b[1;33m\u001b[0m\u001b[0m\n\u001b[0m\u001b[0;32m    233\u001b[0m     \u001b[0mbatch\u001b[0m\u001b[1;33m,\u001b[0m \u001b[0mnum_parts\u001b[0m\u001b[1;33m,\u001b[0m \u001b[0mpars\u001b[0m \u001b[1;33m=\u001b[0m \u001b[0mpred_shape\u001b[0m\u001b[1;33m\u001b[0m\u001b[1;33m\u001b[0m\u001b[0m\n\u001b[0;32m    234\u001b[0m \u001b[1;33m\u001b[0m\u001b[0m\n",
      "\u001b[1;31mRuntimeError\u001b[0m: The size of tensor a (16) must match the size of tensor b (4) at non-singleton dimension 2"
     ]
    }
   ],
   "source": [
    "reconstruction_loss_arr = []\n",
    "kl_loss_arr = []\n",
    "bbox_loss_arr = []\n",
    "adj_loss_arr = []\n",
    "node_loss_arr = []\n",
    "isec_loss_arr = []\n",
    "\n",
    "reconstruction_loss_val_arr = []\n",
    "kl_loss_val_arr = []\n",
    "bbox_loss_val_arr = []\n",
    "adj_loss_val_arr = []\n",
    "node_loss_val_arr = []\n",
    "isec_loss_val_arr = []\n",
    "\n",
    "vae = TwoStageAutoEncoder(latent_dims,\n",
    "                          num_nodes,\n",
    "                          bbx_size,\n",
    "                          num_classes,\n",
    "                          label_shape,\n",
    "                          hidden1,\n",
    "                          hidden2,\n",
    "                          hidden3,\n",
    "                          dense_hidden1,\n",
    "                          dense_hidden2,\n",
    "                          adaptive_margin,\n",
    "                          output_log,\n",
    "                          area_encoding\n",
    "                        )\n",
    "vae.to(device)\n",
    "optimizer = optim.Adam(vae.parameters(), lr=learning_rate)\n",
    "scheduler = optim.lr_scheduler.MultiStepLR(optimizer, milestones=[200,400], gamma=0.75)\n",
    "model_path = ('D:/meronym_data/model/'+run_prefix+'/Obj-Box-'\n",
    "                        +str(learning_rate)\n",
    "                        +'-batch-'+str(batch_size)\n",
    "                        +'-h1-'+str(hidden1)\n",
    "                        +'-h2-'+str(hidden2)\n",
    "                        +'-h3-'+str(hidden3)+'-test')\n",
    "summary_path = ('D:/meronym_data/runs/'+run_prefix+'/Obj-Box-'\n",
    "                        +str(learning_rate)\n",
    "                        +'-batch-'+str(batch_size)\n",
    "                        +'-h1-'+str(hidden1)\n",
    "                        +'-h2-'+str(hidden2)\n",
    "                        +'-h3-'+str(hidden3)+'-test')\n",
    "if not os.path.exists(model_path):\n",
    "    os.makedirs(model_path)\n",
    "writer = SummaryWriter(summary_path)\n",
    "icoef = 0\n",
    "\n",
    "for epoch in range(nb_epochs):\n",
    "    \n",
    "    batch_loss = torch.tensor([0.0])\n",
    "    batch_kl_loss = torch.tensor([0.0])\n",
    "    batch_bbox_loss = torch.tensor([0.0])\n",
    "    batch_obj_bbox_loss = torch.tensor([0.0])\n",
    "    batch_node_loss = torch.tensor([0.0])\n",
    "    batch_isec_loss = torch.tensor([0.0])\n",
    "    images = []\n",
    "    \n",
    "    vae.train()\n",
    "    i=0\n",
    "    for train_data in batch_train_loader:\n",
    "        \n",
    "        node_data_true = train_data.x\n",
    "        label_true = node_data_true[:,:1]\n",
    "        y_true = train_data.y\n",
    "        class_true = y_true[:, :num_classes]\n",
    "        X_obj_true = y_true[:, num_classes:]\n",
    "        adj_true = train_data.edge_index\n",
    "        batch = train_data.batch\n",
    "#         node_data_true  = torch.reshape(node_data_true, (int(batch.shape[0]/num_nodes), num_nodes, node_data_true.shape[-1]))\n",
    "        \n",
    "        class_true  = torch.flatten(class_true)\n",
    "        \n",
    "\n",
    "        for param in vae.parameters():\n",
    "            param.grad=None\n",
    "        \n",
    "        output = vae(adj_true, node_data_true, X_obj_true, label_true , class_true, True)\n",
    "        node_data_pred, X_obj_pred, label_pred, z_mean, z_logvar, margin = output\n",
    "        obj_bbox_loss = loss.obj_bbox_loss(pred_box=X_obj_pred, true_box=X_obj_true)\n",
    "        kl_loss = loss.kl_loss(z_mean, z_logvar)\n",
    "        bbox_loss = loss.bbox_loss(pred_box=node_data_pred, true_box=node_data_true[:,1:], margin=margin)\n",
    "        node_loss = loss.node_loss(label_pred,label_true)\n",
    "        isec_loss = loss.intersection_binary_loss(pred_box=node_data_pred, true_box=node_data_true[:,1:])\n",
    "        \n",
    "        kl_weight = klw[icoef]\n",
    "        \n",
    "        if kl_weight>0:\n",
    "            reconstruction_loss = kl_loss*kl_weight + (obj_bbox_loss + bbox_loss + node_loss + isec_loss*10)*num_nodes\n",
    "        else:\n",
    "            reconstruction_loss = (obj_bbox_loss + bbox_loss + node_loss + isec_loss*10)*num_nodes\n",
    "            \n",
    "        reconstruction_loss.backward()\n",
    "        \n",
    "        optimizer.step()\n",
    "        \n",
    "        i+=1\n",
    "      \n",
    "        batch_loss += reconstruction_loss\n",
    "        batch_kl_loss += kl_loss\n",
    "        batch_bbox_loss += bbox_loss\n",
    "        batch_obj_bbox_loss += obj_bbox_loss\n",
    "        batch_node_loss += node_loss\n",
    "        batch_isec_loss += isec_loss\n",
    "        \n",
    "        if i%200==0:\n",
    "            print(i)\n",
    "            global_step = epoch*len(batch_train_loader)+i\n",
    "            \n",
    "            writer.add_scalar(\"Loss/train/reconstruction_loss\", batch_loss.item()/(i+1), global_step)\n",
    "            writer.add_scalar(\"Loss/train/kl_loss\", batch_kl_loss.item()/(i+1), global_step)\n",
    "            writer.add_scalar(\"Loss/train/bbox_loss\", batch_bbox_loss.item()/(i+1), global_step)\n",
    "            writer.add_scalar(\"Loss/train/obj_bbox_loss\", batch_obj_bbox_loss.item()/(i+1), global_step)\n",
    "            writer.add_scalar(\"Loss/train/node_loss\", batch_node_loss.item()/(i+1), global_step)\n",
    "            writer.add_scalar(\"Loss/train/isec_loss\", batch_isec_loss.item()/(i+1), global_step)\n",
    "            \n",
    "            \n",
    "    scheduler.step()\n",
    "    global_step = epoch*len(batch_train_loader)+i\n",
    "    image_shape = [num_nodes, bbx_size]\n",
    "\n",
    "    image = plot_bbx(np.reshape((node_data_true[:num_nodes,1:5]*label_true[:num_nodes]).detach().to(\"cpu\").numpy(),\n",
    "                                image_shape)).astype(float)/255\n",
    "    writer.add_image('train/images/input', image, global_step, dataformats='HWC')\n",
    "    image = plot_bbx((node_data_pred[0]*label_true[:num_nodes]).detach().to(\"cpu\").numpy()).astype(float)/255\n",
    "    writer.add_image('train/images/generated', image, global_step, dataformats='HWC')\n",
    "    \n",
    "    reconstruction_loss_arr.append(batch_loss.detach().item()/(i+1))\n",
    "    kl_loss_arr.append(batch_kl_loss.detach().item()/(i+1))\n",
    "    bbox_loss_arr.append(batch_bbox_loss.detach().item()/(i+1))\n",
    "    node_loss_arr.append(batch_node_loss.detach().item()/(i+1))\n",
    "    \n",
    "    print('[%d, %5d] loss: %.3f' %\n",
    "              (epoch + 1, i + 1, batch_loss/(i+1) ))\n",
    "    \n",
    "    \n",
    "    batch_loss = torch.tensor([0.0])\n",
    "    batch_kl_loss = torch.tensor([0.0])\n",
    "    batch_bbox_loss = torch.tensor([0.0])\n",
    "    batch_obj_bbox_loss = torch.tensor([0.0])\n",
    "    batch_node_loss = torch.tensor([0.0])\n",
    "    batch_isec_loss = torch.tensor([0.0])\n",
    "    \n",
    "    images = []\n",
    "    vae.eval()\n",
    "    for i, val_data in enumerate(batch_val_loader, 0):\n",
    "        \n",
    "        node_data_true = val_data.x\n",
    "        label_true = node_data_true[:,:1]\n",
    "        y_true = val_data.y\n",
    "        class_true = torch.flatten(y_true[:, :num_classes])\n",
    "        X_obj_true = y_true[:, num_classes:]\n",
    "        adj_true = val_data.edge_index\n",
    "        batch = val_data.batch\n",
    "#         node_data_true  = torch.reshape(node_data_true, (int(batch.shape[0]/num_nodes), num_nodes, node_data_true.shape[-1]))\n",
    "        \n",
    "        class_true  = torch.flatten(class_true)\n",
    "        \n",
    "        output = vae(adj_true, node_data_true, X_obj_true, label_true , class_true, True)\n",
    "        node_data_pred, X_obj_pred, label_pred, z_mean, z_logvar, margin = output\n",
    "        obj_bbox_loss = loss.obj_bbox_loss(pred_box=X_obj_pred, true_box=X_obj_true)\n",
    "        kl_loss = loss.kl_loss(z_mean, z_logvar)\n",
    "        bbox_loss = loss.bbox_loss(pred_box=node_data_pred, true_box=node_data_true[:,1:], margin=margin)\n",
    "        node_loss = loss.node_loss(label_pred,label_true)\n",
    "        isec_loss = loss.intersection_binary_loss(pred_box=node_data_pred, true_box=node_data_true[:,1:])\n",
    "        \n",
    "        if kl_weight>0:\n",
    "            reconstruction_loss = kl_loss*kl_weight + (obj_bbox_loss + bbox_loss + node_loss + isec_loss*10)*num_nodes\n",
    "        else:\n",
    "            reconstruction_loss = (obj_bbox_loss + bbox_loss + node_loss + isec_loss*10)*num_nodes\n",
    "            \n",
    "        batch_loss += reconstruction_loss\n",
    "        batch_kl_loss += kl_loss\n",
    "        batch_bbox_loss += bbox_loss\n",
    "        batch_obj_bbox_loss += obj_bbox_loss\n",
    "        batch_node_loss += node_loss\n",
    "        batch_isec_loss += isec_loss\n",
    "    \n",
    "    image = plot_bbx(np.reshape((node_data_true[:num_nodes,1:5]*label_true[:num_nodes]).detach().to(\"cpu\").numpy(),\n",
    "                                image_shape)).astype(float)/255\n",
    "    writer.add_image('val/images/input', image, global_step, dataformats='HWC')\n",
    "    image = plot_bbx((node_data_pred[0]*label_true[:num_nodes]).detach().to(\"cpu\").numpy()).astype(float)/255\n",
    "    writer.add_image('val/images/generated', image, global_step, dataformats='HWC')\n",
    "\n",
    "    reconstruction_loss_val_arr.append(batch_loss.detach().item()/(i+1))\n",
    "    kl_loss_val_arr.append(batch_kl_loss.detach().item()/(i+1))\n",
    "    bbox_loss_val_arr.append(batch_bbox_loss.detach().item()/(i+1))\n",
    "    node_loss_val_arr.append(batch_node_loss.detach().item()/(i+1))\n",
    "    \n",
    "    writer.add_scalar(\"Loss/val/reconstruction_loss\", batch_loss.detach()/(i+1), global_step)\n",
    "    writer.add_scalar(\"Loss/val/kl_loss\", batch_kl_loss.item()/(i+1), global_step)\n",
    "    writer.add_scalar(\"Loss/val/bbox_loss\", batch_bbox_loss.item()/(i+1), global_step)\n",
    "    writer.add_scalar(\"Loss/val/obj_bbox_loss\", batch_obj_bbox_loss.item()/(i+1), global_step)\n",
    "    writer.add_scalar(\"Loss/val/node_loss\", batch_node_loss.item()/(i+1), global_step)\n",
    "    writer.add_scalar(\"Loss/val/isec_loss\", batch_isec_loss.item()/(i+1), global_step)\n",
    "       \n",
    "    if epoch%50 == 0:\n",
    "        torch.save(vae.state_dict(), model_path + '/model_weights.pth')\n",
    "        \n",
    "#     if kl_loss_arr[-1]>0.5 and abs(bbox_loss_arr[-1] - bbox_loss_val_arr[-1]) < 0.02 and bbox_loss_arr[-1]<1.3 and epoch>60:\n",
    "#         icoef = icoef + 1  \n",
    "\n",
    "torch.save(vae.state_dict(),model_path + '/model_weights.pth')\n",
    "\n",
    "for i in range(100):    \n",
    "    image = plot_bbx(np.reshape((node_data_true[num_nodes*i:num_nodes*(i+1),1:5]).detach().to(\"cpu\").numpy(),\n",
    "                                    image_shape)).astype(float)/255\n",
    "    writer.add_image('result/images/'+str(i)+'-input', image, global_step, dataformats='HWC')\n",
    "    image = plot_bbx((node_data_pred[i]*label_true[num_nodes*i:num_nodes*(i+1)]).detach().to(\"cpu\").numpy()).astype(float)/255\n",
    "    writer.add_image('result/images/'+str(i)+'-generated', image, global_step, dataformats='HWC')\n",
    "    \n",
    "writer.flush()\n",
    "writer.close()\n",
    "print('Finished Training')"
   ]
  },
  {
   "cell_type": "code",
   "execution_count": 42,
   "id": "27a49171",
   "metadata": {},
   "outputs": [
    {
     "name": "stdout",
     "output_type": "stream",
     "text": [
      "Finished Training\n"
     ]
    }
   ],
   "source": [
    "for i in range(100):    \n",
    "    image = plot_bbx(np.reshape((node_data_true[num_nodes*i:num_nodes*(i+1),1:5]).detach().to(\"cpu\").numpy(),\n",
    "                                    image_shape)).astype(float)/255\n",
    "    writer.add_image('result/images/'+str(i)+'-input', image, global_step, dataformats='HWC')\n",
    "    image = plot_bbx((node_data_pred[i]*label_true[num_nodes*i:num_nodes*(i+1)]).detach().to(\"cpu\").numpy()).astype(float)/255\n",
    "    writer.add_image('result/images/'+str(i)+'-generated', image, global_step, dataformats='HWC')\n",
    "    \n",
    "writer.flush()\n",
    "writer.close()\n",
    "print('Finished Training')"
   ]
  },
  {
   "cell_type": "code",
   "execution_count": 19,
   "id": "6b72cd01",
   "metadata": {
    "scrolled": true
   },
   "outputs": [],
   "source": [
    "#testing loop\n",
    "model_path = ('D:/meronym_data/model/'+run_prefix+'/Obj-Box-'\n",
    "                        +str(learning_rate)\n",
    "                        +'-batch-'+str(batch_size)\n",
    "                        +'-h1-'+str(hidden1)\n",
    "                        +'-h2-'+str(hidden2)\n",
    "                        +'-h3-'+str(hidden3)+'-test')\n",
    "summary_path = ('D:/meronym_data/runs/'+run_prefix+'/Obj-Box-'\n",
    "                        +str(learning_rate)\n",
    "                        +'-batch-'+str(batch_size)\n",
    "                        +'-h1-'+str(hidden1)\n",
    "                        +'-h2-'+str(hidden2)\n",
    "                        +'-h3-'+str(hidden3)+'-test')\n",
    "\n",
    "\n",
    "write_tensorboard = False\n",
    "if write_tensorboard:\n",
    "    writer = SummaryWriter(summary_path)\n",
    "\n",
    "vae = TwoStageAutoEncoder(latent_dims,\n",
    "                          num_nodes,\n",
    "                          bbx_size,\n",
    "                          num_classes,\n",
    "                          label_shape,\n",
    "                          hidden1,\n",
    "                          hidden2,\n",
    "                          hidden3,\n",
    "                          dense_hidden1,\n",
    "                          dense_hidden2,\n",
    "                          adaptive_margin,\n",
    "                          output_log,\n",
    "                          area_encoding\n",
    "                        )\n",
    "vae.load_state_dict(torch.load(model_path+ '/model_weights.pth'))\n",
    "\n",
    "# decoder = vae.decoder\n",
    "image_shape = [num_nodes, bbx_size]\n",
    "global_step = 250000\n",
    "class_dict = {0:'cow', 1:'sheep', 2:'bird', 3:'person', 4:'cat', 5:'dog', 6:'horse'}\n",
    "res_dfs = []\n",
    "for i, val_data in enumerate(batch_val_loader, 0):\n",
    "    \n",
    "    val_data.cuda()\n",
    "    node_data_true = val_data.x\n",
    "    label_true = node_data_true[:,:1]\n",
    "    y_true = val_data.y\n",
    "    class_true = y_true[:, :num_classes]\n",
    "    X_obj_true = y_true[:, num_classes:]\n",
    "    adj_true = val_data.edge_index\n",
    "    class_true  = torch.flatten(class_true)\n",
    "    \n",
    "    output = vae(adj_true, node_data_true, X_obj_true, label_true , class_true)\n",
    "    node_data_pred_test, X_obj_pred_test, label_pred, z_mean, z_logvar, margin = output\n",
    "    \n",
    "    res_dfs.append(metrics.get_metrics(node_data_true, X_obj_true, node_data_pred_test,\n",
    "                               X_obj_pred_test,\n",
    "                               label_true,\n",
    "                               class_true,\n",
    "                               num_nodes,\n",
    "                               num_classes))\n",
    "    \n",
    "    if write_tensorboard:\n",
    "        \n",
    "        for j in range(int(len(node_data_true)/num_nodes)):\n",
    "            \n",
    "            image = plot_bbx(node_data_true[j].detach().to(\"cpu\").numpy().astype(float))/255\n",
    "            pred_image = plot_bbx(node_data_pred_test[j].detach().to(\"cpu\").numpy()).astype(float)/255\n",
    "\n",
    "            writer.add_image('test_result/images/'+str(j)+'-input/', image, global_step, dataformats='HWC')  \n",
    "            writer.add_image('test_result/images/'+str(j)+'-generated/', pred_image, global_step, dataformats='HWC')\n",
    "            \n",
    "\n",
    "result = pd.concat(res_dfs)\n",
    "result['obj_class'] = np.where(result['obj_class'].isna(), 0, result['obj_class'])\n",
    "result['obj_class'] = result['obj_class'].astype('int')\n",
    "result['obj_class'].replace(class_dict, inplace=True)\n",
    "result.where(result['part_labels']!=0, np.NaN, inplace=True)\n",
    "result['part_labels'] = np.where(result['part_labels'].isna(), 0, result['part_labels'])\n",
    "result['part_labels'] = result['part_labels'].astype('int')\n",
    "result['id'] = np.repeat(np.array(list(range(int(len(result)/num_nodes)))), 16)\n",
    "if write_tensorboard:\n",
    "    writer.flush()\n",
    "    writer.close()\n"
   ]
  },
  {
   "cell_type": "code",
   "execution_count": 20,
   "id": "1ea6e77d",
   "metadata": {},
   "outputs": [],
   "source": [
    "bird_labels = {'head':1 , 'torso':2, 'neck':3, 'lwing':4, 'rwing':5, 'lleg':6, 'lfoot':7, 'rleg':8, 'rfoot':9, 'tail':10}\n",
    "cat_labels = {'head':1, 'torso':2, 'neck':3, 'lfleg':4, 'lfpa':5, 'rfleg':6, 'rfpa':7, 'lbleg':8, 'lbpa':9, 'rbleg':10, 'rbpa':11, 'tail':12}\n",
    "cow_labels = {'head':1,'lhorn':2, 'rhorn':3, 'torso':4, 'neck':5, 'lfuleg':6, 'lflleg':7, 'rfuleg':8, 'rflleg':9, 'lbuleg':10, 'lblleg':11, 'rbuleg':12, 'rblleg':13, 'tail':14}\n",
    "dog_labels = {'head':1,'torso':2, 'neck':3, 'lfleg':4, 'lfpa':5, 'rfleg':6, 'rfpa':7, 'lbleg':8, 'lbpa':9, 'rbleg':10, 'rbpa':11, 'tail':12, 'muzzle':13}\n",
    "horse_labels = {'head':1,'lfho':2, 'rfho':3, 'torso':4, 'neck':5, 'lfuleg':6, 'lflleg':7, 'rfuleg':8, 'rflleg':9, 'lbuleg':10, 'lblleg':11, 'rbuleg':12, 'rblleg':13, 'tail':14, 'lbho':15, 'rbho':16}\n",
    "person_labels = {'head':1, 'torso':2, 'neck': 3, 'llarm': 4, 'luarm': 5, 'lhand': 6, 'rlarm':7, 'ruarm':8, 'rhand': 9, 'llleg': 10, 'luleg':11, 'lfoot':12, 'rlleg':13, 'ruleg':14, 'rfoot':15}\n",
    "sheep_labels = cow_labels\n",
    "part_labels_combined_parts = {'bird': bird_labels, 'cat': cat_labels, 'cow': cow_labels, 'dog': dog_labels, 'sheep': sheep_labels, 'horse':horse_labels,'person':person_labels}\n"
   ]
  },
  {
   "cell_type": "code",
   "execution_count": 21,
   "id": "7238d38c",
   "metadata": {},
   "outputs": [],
   "source": [
    "for k, v in part_labels_combined_parts.items():\n",
    "    new_map = {}\n",
    "    for pk, pv in v.items():\n",
    "        new_map[pv]=pk\n",
    "    part_labels_combined_parts[k] = new_map"
   ]
  },
  {
   "cell_type": "code",
   "execution_count": 22,
   "id": "10208948",
   "metadata": {
    "scrolled": true
   },
   "outputs": [],
   "source": [
    "for k, v in part_labels_combined_parts.items():\n",
    "    result.loc[result['obj_class']==k, ['part_labels']] = result.loc[result['obj_class']==k,['part_labels']].replace(v).copy()\n"
   ]
  },
  {
   "cell_type": "code",
   "execution_count": 24,
   "id": "d5b7f7ec",
   "metadata": {
    "scrolled": true
   },
   "outputs": [],
   "source": [
    "result.to_csv(model_path+'/raw_metrics.csv')\n",
    "res_obj_level = result.groupby(['obj_class', 'id']).mean().reset_index()\n",
    "res_obj_level.groupby(['obj_class']).mean().reset_index()[['obj_class', 'IOU', 'MSE']].to_csv(model_path+'/obj_level_metrics.csv')\n",
    "result.groupby(['obj_class', 'part_labels']).mean().reset_index()[['obj_class', 'part_labels',  'IOU', 'MSE']].to_csv(model_path+'/part_level_metrics.csv')"
   ]
  }
 ],
 "metadata": {
  "kernelspec": {
   "display_name": "Python [conda env:root] *",
   "language": "python",
   "name": "conda-root-py"
  },
  "language_info": {
   "codemirror_mode": {
    "name": "ipython",
    "version": 3
   },
   "file_extension": ".py",
   "mimetype": "text/x-python",
   "name": "python",
   "nbconvert_exporter": "python",
   "pygments_lexer": "ipython3",
   "version": "3.8.5"
  }
 },
 "nbformat": 4,
 "nbformat_minor": 5
}
