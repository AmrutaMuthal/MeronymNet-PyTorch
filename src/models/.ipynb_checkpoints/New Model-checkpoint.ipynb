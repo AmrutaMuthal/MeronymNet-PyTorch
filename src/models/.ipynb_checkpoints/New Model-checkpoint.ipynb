{
 "cells": [
  {
   "cell_type": "code",
   "execution_count": null,
   "id": "7cfd1439",
   "metadata": {},
   "outputs": [],
   "source": [
    "%load_ext autoreload\n",
    "%autoreload 2"
   ]
  },
  {
   "cell_type": "code",
   "execution_count": null,
   "id": "5671166e",
   "metadata": {},
   "outputs": [],
   "source": [
    "%set_env CUDA_LAUNCH_BLOCKING=1"
   ]
  },
  {
   "cell_type": "code",
   "execution_count": null,
   "id": "21434d68",
   "metadata": {},
   "outputs": [],
   "source": [
    "import sys\n",
    "import collections\n",
    "import cv2\n",
    "import os\n",
    "import math\n",
    "import random\n",
    "import pickle\n",
    "import copy\n",
    "import numpy as np\n",
    "import pickle\n",
    "sys.path.append(\"/home/tanvikamble/MeronymNet-PyTorch/src\")"
   ]
  },
  {
   "cell_type": "code",
   "execution_count": null,
   "id": "e88c7fb7",
   "metadata": {},
   "outputs": [],
   "source": [
    "import torch\n",
    "import torch.optim as optim\n",
    "from torch_geometric.data import Data\n",
    "from torch_geometric.utils import dense_to_sparse\n",
    "from torch_geometric.data import DataLoader\n",
    "import torch.utils.data as data_utils\n",
    "from torch.utils.tensorboard import SummaryWriter"
   ]
  },
  {
   "cell_type": "code",
   "execution_count": null,
   "id": "4e46b5d8",
   "metadata": {},
   "outputs": [],
   "source": [
    "from losses import BoxVAE_losses as loss\n",
    "from components.AutoEncoder import GCNAutoEncoder_Combined_Parts\n",
    "from components.Decoder import Decoder"
   ]
  },
  {
   "cell_type": "code",
   "execution_count": null,
   "id": "d19349cb",
   "metadata": {},
   "outputs": [],
   "source": [
    "import matplotlib.pyplot as plt"
   ]
  },
  {
   "cell_type": "code",
   "execution_count": null,
   "id": "0b59f5f7",
   "metadata": {},
   "outputs": [],
   "source": [
    "# from mask_generation import masked_sketch"
   ]
  },
  {
   "cell_type": "code",
   "execution_count": null,
   "id": "4e512f48",
   "metadata": {},
   "outputs": [],
   "source": [
    "colors = [(1, 0, 0),\n",
    "          (0.737, 0.561, 0.561),\n",
    "          (0.255, 0.412, 0.882),\n",
    "          (0.545, 0.271, 0.0745),\n",
    "          (0.98, 0.502, 0.447),\n",
    "          (0.98, 0.643, 0.376),\n",
    "          (0.18, 0.545, 0.341),\n",
    "          (0.502, 0, 0.502),\n",
    "          (0.627, 0.322, 0.176),\n",
    "          (0.753, 0.753, 0.753),\n",
    "          (0.529, 0.808, 0.922),\n",
    "          (0.416, 0.353, 0.804),\n",
    "          (0.439, 0.502, 0.565),\n",
    "          (0.784, 0.302, 0.565),\n",
    "          (0.867, 0.627, 0.867),\n",
    "          (0, 1, 0.498),\n",
    "          (0.275, 0.51, 0.706),\n",
    "          (0.824, 0.706, 0.549),\n",
    "          (0, 0.502, 0.502),\n",
    "          (0.847, 0.749, 0.847),\n",
    "          (1, 0.388, 0.278),\n",
    "          (0.251, 0.878, 0.816),\n",
    "          (0.933, 0.51, 0.933),\n",
    "          (0.961, 0.871, 0.702)]\n",
    "colors = (np.asarray(colors)*255)\n",
    "canvas_size = 660\n",
    "\n",
    "def plot_bbx(bbx):\n",
    "    bbx = bbx*canvas_size\n",
    "    canvas = np.ones((canvas_size,canvas_size,3), np.uint8) * 255\n",
    "    for i, coord in enumerate(bbx):\n",
    "        x_minp, y_minp,x_maxp , y_maxp= coord\n",
    "        if [x_minp, y_minp,x_maxp , y_maxp]!=[0,0,0,0]:\n",
    "            cv2.rectangle(canvas, (int(x_minp), int(y_minp)), (int(x_maxp) , int(y_maxp) ), colors[i], 6)\n",
    "    return canvas\n",
    "\n",
    "# def plot_bbx(bbx):\n",
    "#     bbx = bbx*canvas_size\n",
    "#     canvas = np.ones((canvas_size,canvas_size,3), np.uint8) * 255\n",
    "#     for i, coord in enumerate(bbx):\n",
    "#         x, y, w ,h = coord\n",
    "#         if [x, y, w ,h]!=[0,0,0,0]:\n",
    "#             cv2.rectangle(canvas, (int(x), int(y)), (int(x + w) , int(y + h) ), colors[i], 6)\n",
    "#     return canvas\n"
   ]
  },
  {
   "cell_type": "code",
   "execution_count": null,
   "id": "0381e098",
   "metadata": {},
   "outputs": [],
   "source": [
    "def inference(decoder, nodes, obj_class, latent_dims, batch_size):\n",
    "\n",
    "    decoder.cuda()\n",
    "    z_latent = torch.normal(torch.zeros([batch_size,latent_dims])).cuda()\n",
    "    nodes = torch.reshape(nodes,(batch_size,decoder.num_nodes))\n",
    "    obj_class = torch.reshape(obj_class,(batch_size, decoder.class_size))\n",
    "    conditioned_z = torch.cat([nodes, z_latent],dim=-1)\n",
    "    conditioned_z = torch.cat([obj_class, conditioned_z],dim=-1)\n",
    "    \n",
    "    x_bbx, x_lbl = decoder(conditioned_z)\n",
    "    if x_lbl == None:\n",
    "        return x_bbx,z_latent\n",
    "    else:\n",
    "        return x_bbx, x_lbl, z_latent"
   ]
  },
  {
   "cell_type": "code",
   "execution_count": null,
   "id": "3855bd88",
   "metadata": {},
   "outputs": [],
   "source": [
    "outfile = '/home/tanvikamble/MeronymNet-PyTorch/src/processed_data/combined_parts/X_train.np'\n",
    "with open(outfile, 'rb') as pickle_file:\n",
    "    X_train = pickle.load(pickle_file)\n",
    "\n",
    "outfile = '/home/tanvikamble/MeronymNet-PyTorch/src/processed_data/combined_parts/class_v.np'\n",
    "with open(outfile, 'rb') as pickle_file:\n",
    "    class_v = pickle.load(pickle_file)\n",
    "\n",
    "outfile = '/home/tanvikamble/MeronymNet-PyTorch/src/processed_data/combined_parts/adj_train.np'\n",
    "with open(outfile, 'rb') as pickle_file:\n",
    "    adj_train = pickle.load(pickle_file)\n",
    "\n",
    "outfile = '/home/tanvikamble/MeronymNet-PyTorch/src/processed_data/combined_parts/X_train_val.np'\n",
    "with open(outfile, 'rb') as pickle_file:\n",
    "    X_train_val = pickle.load(pickle_file)\n",
    "\n",
    "outfile = '/home/tanvikamble/MeronymNet-PyTorch/src/processed_data/combined_parts/class_v_val.np'\n",
    "with open(outfile, 'rb') as pickle_file:\n",
    "    class_v_val = pickle.load(pickle_file)\n",
    "    \n",
    "outfile = '/home/tanvikamble/MeronymNet-PyTorch/src/processed_data/combined_parts/adj_train_val.np'\n",
    "with open(outfile, 'rb') as pickle_file:\n",
    "    adj_train_val = pickle.load(pickle_file)\n",
    "    \n",
    "# outfile = '/home/tanvikamble/MeronymNet-PyTorch/src/processed_data/only_torso_experiment_2/X_test.np'\n",
    "# with open(outfile, 'rb') as pickle_file:\n",
    "#     X_test = pickle.load(pickle_file)\n",
    "\n",
    "# outfile = '/home/tanvikamble/MeronymNet-PyTorch/src/processed_data/only_torso_experiment/adj_test.np'\n",
    "# with open(outfile, 'rb') as pickle_file:\n",
    "#     adj_test = pickle.load(pickle_file)\n",
    "    \n",
    "# outfile = '/home/tanvikamble/MeronymNet-PyTorch/src/processed_data/only_torso_experiment/class_v_test.np'\n",
    "# with open(outfile, 'rb') as pickle_file:\n",
    "#     class_v_test = pickle.load(pickle_file)"
   ]
  },
  {
   "cell_type": "code",
   "execution_count": null,
   "id": "a26ed95d",
   "metadata": {},
   "outputs": [],
   "source": [
    "print(X_train.shape)\n",
    "print(class_v.shape)\n",
    "print(adj_train.shape)\n",
    "# print(X_test.shape)"
   ]
  },
  {
   "cell_type": "raw",
   "id": "9e55bfed",
   "metadata": {},
   "source": [
    "X_train[:, :, 4] = X_train[:, :, 4] - X_train[:, :, 2]\n",
    "X_train[:, :, 3] = X_train[:, :, 3] - X_train[:, :, 1]\n",
    "\n",
    "X_train_val[:, :, 4] = X_train_val[:, :, 4] - X_train_val[:, :, 2]\n",
    "X_train_val[:, :, 3] = X_train_val[:, :, 3] - X_train_val[:, :, 1]\n",
    "\n",
    "X_test[:, :, 4] = X_test[:, :, 4] - X_test[:, :, 2]\n",
    "X_test[:, :, 3] = X_test[:, :, 3] - X_test[:, :, 1]"
   ]
  },
  {
   "cell_type": "code",
   "execution_count": null,
   "id": "97e68df5",
   "metadata": {},
   "outputs": [],
   "source": [
    "X_train[X_train<=0] = 0\n",
    "X_train_val[X_train_val<=0] = 0\n",
    "# X_test[X_test<=0] = 0\n",
    "\n",
    "X_train[X_train>=1] = 1\n",
    "X_train_val[X_train_val>=1] = 1\n",
    "# X_test[X_test>=1] = 1"
   ]
  },
  {
   "cell_type": "markdown",
   "id": "ddfcc203",
   "metadata": {},
   "source": [
    "# For scaling data to small canvases"
   ]
  },
  {
   "cell_type": "code",
   "execution_count": null,
   "id": "a8a9e2a6",
   "metadata": {},
   "outputs": [],
   "source": [
    "def get_limits(X_train):\n",
    "    X_train_new_limits = np.zeros((X_train.shape[0],4))\n",
    "    for i in range(X_train.shape[0]):\n",
    "        min_x=660\n",
    "        max_x=0\n",
    "        min_y=660\n",
    "        max_y=0\n",
    "        for j in range(16):\n",
    "            if X_train[i][j][0] == 1:\n",
    "                min_x = min(min_x,min(X_train[i][j][1]*660,X_train[i][j][3]*660))\n",
    "                min_y = min(min_y,min(X_train[i][j][2]*660,X_train[i][j][4]*660))\n",
    "\n",
    "                max_x = max(max_x,max(X_train[i][j][1]*660,X_train[i][j][3]*660))\n",
    "                max_y = max(max_y,max(X_train[i][j][2]*660,X_train[i][j][4]*660))\n",
    "        X_train_new_limits[i][0] = min_x\n",
    "        X_train_new_limits[i][1] = min_y\n",
    "        X_train_new_limits[i][2] = max_x\n",
    "        X_train_new_limits[i][3] = max_y\n",
    "    return X_train_new_limits"
   ]
  },
  {
   "cell_type": "code",
   "execution_count": null,
   "id": "153778a2",
   "metadata": {},
   "outputs": [],
   "source": [
    "def get_new_coordinates(X_train,X_train_new_limits,final_canvas_size_x,final_canvas_size_y):\n",
    "    X_train_new_coordinates = np.zeros((X_train.shape[0],16,5))\n",
    "    for i in range(X_train.shape[0]):\n",
    "        min_x=X_train_new_limits[i][0]\n",
    "        min_y=X_train_new_limits[i][1]\n",
    "        max_x=X_train_new_limits[i][2]\n",
    "        max_y=X_train_new_limits[i][3]\n",
    "\n",
    "    #     print(max_x - min_x , max_y - min_y)\n",
    "        for j in range(16):\n",
    "            if X_train[i][j][0] == 1:\n",
    "                X_train_new_coordinates[i][j][0] = X_train[i][j][0]\n",
    "                # Scaling X\n",
    "                X_train_new_coordinates[i][j][1] = int(final_canvas_size_x * float(((X_train[i][j][1]*660) - min_x) / (max_x - min_x)))\n",
    "                X_train_new_coordinates[i][j][3] = int(final_canvas_size_x * float(((X_train[i][j][3]*660) - min_x) / (max_x - min_x)))\n",
    "                #Scaling Y\n",
    "                X_train_new_coordinates[i][j][2] = int(final_canvas_size_y * float(((X_train[i][j][2]*660) - min_y) / (max_y - min_y)))\n",
    "                X_train_new_coordinates[i][j][4] = int(final_canvas_size_y * float(((X_train[i][j][4]*660) - min_y) / (max_y - min_y)))\n",
    "    return X_train_new_coordinates"
   ]
  },
  {
   "cell_type": "code",
   "execution_count": null,
   "id": "bf3cd33f",
   "metadata": {},
   "outputs": [],
   "source": [
    "final_canvas_size_x = 100\n",
    "final_canvas_size_y = 100"
   ]
  },
  {
   "cell_type": "code",
   "execution_count": null,
   "id": "15d26d1d",
   "metadata": {},
   "outputs": [],
   "source": [
    "X_train_new_limits = get_limits(X_train)\n",
    "print(X_train_new_limits)\n",
    "X_train_new_coordinates = get_new_coordinates(X_train,X_train_new_limits,final_canvas_size_x,final_canvas_size_y)\n",
    "\n",
    "\n",
    "\n",
    "X_train_val_new_limits = get_limits(X_train_val)\n",
    "X_train_val_new_coordinates = get_new_coordinates(X_train_val,X_train_val_new_limits,final_canvas_size_x,final_canvas_size_y)"
   ]
  },
  {
   "cell_type": "code",
   "execution_count": null,
   "id": "268104ee",
   "metadata": {},
   "outputs": [],
   "source": [
    "# for i in range(5):\n",
    "#     for j in range(16):\n",
    "#         if X_train[i][j][0] == 1:\n",
    "#             print(X_train[i][j]*660)\n",
    "#             print(\"xxxxxxxxxxxxxxxxxxxx\")\n",
    "#     print(X_train_new_limits[i])\n",
    "#     print(\"xxxxxxxxxxxxxxxxxxxx\")\n",
    "#     print(\"End of This Object\")"
   ]
  },
  {
   "cell_type": "code",
   "execution_count": null,
   "id": "d61f4a13",
   "metadata": {},
   "outputs": [],
   "source": []
  },
  {
   "cell_type": "code",
   "execution_count": null,
   "id": "f2aab396",
   "metadata": {},
   "outputs": [],
   "source": [
    "X_train_new_limits = X_train_new_limits/660\n",
    "for i in range(X_train_new_coordinates.shape[0]):\n",
    "    for j in range(16):\n",
    "        for k in range(1,5):\n",
    "            X_train_new_coordinates[i][j][k] = X_train_new_coordinates[i][j][k]/100 "
   ]
  },
  {
   "cell_type": "code",
   "execution_count": null,
   "id": "de420333",
   "metadata": {},
   "outputs": [],
   "source": [
    "X_train_val_new_limits = X_train_val_new_limits/660\n",
    "for i in range(X_train_val_new_coordinates.shape[0]):\n",
    "    for j in range(16):\n",
    "        for k in range(1,5):\n",
    "            X_train_val_new_coordinates[i][j][k] = X_train_val_new_coordinates[i][j][k]/100 "
   ]
  },
  {
   "cell_type": "code",
   "execution_count": null,
   "id": "673bec64",
   "metadata": {},
   "outputs": [],
   "source": [
    "print(X_train_val_new_limits[100])\n",
    "print(X_train_val_new_coordinates[10])\n",
    "print(X_train_val_new_coordinates.dtype)"
   ]
  },
  {
   "cell_type": "code",
   "execution_count": null,
   "id": "f4faa809",
   "metadata": {},
   "outputs": [],
   "source": [
    "# for i in range(0,X_train.shape[0],100):\n",
    "#     print(\"Start\")\n",
    "#     print(\"Min and Max Coordinates\")\n",
    "#     print(X_train_new_limits[i][0],X_train_new_limits[i][1],X_train_new_limits[i][2],X_train_new_limits[i][3])\n",
    "#     for j in range(16):\n",
    "#         if X_train[i][j][0] == 1:\n",
    "#             print(\"Before Scaling Coordinates: \")\n",
    "#             print(X_train[i][j][1]*660,X_train[i][j][2]*660,X_train[i][j][3]*660,X_train[i][j][4]*660)\n",
    "#         if X_train_new_coordinates[i][j][0] == 1:\n",
    "#             print(\"After Scaling coordinates: \")\n",
    "#             print(X_train_new_coordinates[i][j][1], X_train_new_coordinates[i][j][2] , X_train_new_coordinates[i][j][3], X_train_new_coordinates[i][j][4])\n",
    "#     print(\"xxxxxxxxxxxxxxxxxxxxxxxxxxxxxxxxxxxxxxxxxxxxxxxxxxxx\")\n",
    "#     break\n",
    "            "
   ]
  },
  {
   "cell_type": "markdown",
   "id": "d5aaf59a",
   "metadata": {},
   "source": [
    "# End of scaling to small canvas experiment\n",
    "- X_train_new_limits are the new limits we need\n",
    "- X_train_new_coordintates are the new coordinates"
   ]
  },
  {
   "cell_type": "code",
   "execution_count": null,
   "id": "319cc6a8",
   "metadata": {},
   "outputs": [],
   "source": [
    "def plot_bbx(bbx,canvas_size, thickness, canvas_size_temp):\n",
    "    bbx = bbx*canvas_size\n",
    "    canvas = np.ones((canvas_size_temp,canvas_size_temp,3), np.uint8) * 255\n",
    "    for i, coord in enumerate(bbx):\n",
    "        x_minp, y_minp,x_maxp , y_maxp= coord\n",
    "        if [x_minp, y_minp,x_maxp , y_maxp]!=[0,0,0,0]:\n",
    "            cv2.rectangle(canvas, (int(x_minp), int(y_minp)), (int(x_maxp) , int(y_maxp) ), colors[i], thickness)\n",
    "    return canvas"
   ]
  },
  {
   "cell_type": "code",
   "execution_count": null,
   "id": "5fc1bc17",
   "metadata": {},
   "outputs": [],
   "source": [
    "summary_path = ('/home/tanvikamble/MeronymNet-PyTorch/src/runs/'+ \"Checking input/output\"\n",
    "writer = SummaryWriter(summary_path)"
   ]
  },
  {
   "cell_type": "code",
   "execution_count": null,
   "id": "2d2130cc",
   "metadata": {},
   "outputs": [],
   "source": [
    "train_idx = np.random.randint(1,len(X_train),len(X_train))"
   ]
  },
  {
   "cell_type": "code",
   "execution_count": null,
   "id": "256eb71e",
   "metadata": {},
   "outputs": [],
   "source": [
    "batch_size = 128\n",
    "seed = 345\n",
    "\n",
    "torch.manual_seed(seed)\n",
    "train_list_orig =[]\n",
    "for idx, batch in enumerate(zip(copy.deepcopy(X_train[train_idx]),\n",
    "                                copy.deepcopy(class_v[train_idx]),\n",
    "                                copy.deepcopy(adj_train[train_idx]))):\n",
    "    edge_index, _ = dense_to_sparse(torch.from_numpy(batch[2]).cuda().float())\n",
    "    train_list_orig.append(Data(x = torch.from_numpy(batch[0]).cuda().float(),\n",
    "                           y = torch.from_numpy(batch[1]).cuda().float(),\n",
    "                           edge_index = edge_index\n",
    "                                )\n",
    "                     )\n",
    "\n",
    "batch_train_loader_orig = DataLoader(train_list_orig, batch_size=batch_size)\n"
   ]
  },
  {
   "cell_type": "code",
   "execution_count": null,
   "id": "a57341b7",
   "metadata": {},
   "outputs": [],
   "source": [
    "batch_size = 128\n",
    "seed = 345\n",
    "\n",
    "torch.manual_seed(seed)\n",
    "train_list_new =[]\n",
    "for idx, batch in enumerate(zip(copy.deepcopy(X_train_new_coordinates[train_idx]),\n",
    "                                copy.deepcopy(class_v[train_idx]),\n",
    "                                copy.deepcopy(adj_train[train_idx]))):\n",
    "    edge_index, _ = dense_to_sparse(torch.from_numpy(batch[2]).cuda().float())\n",
    "    train_list_new.append(Data(x = torch.from_numpy(batch[0]).cuda().float(),\n",
    "                           y = torch.from_numpy(batch[1]).cuda().float(),\n",
    "                           edge_index = edge_index\n",
    "                                )\n",
    "                     )\n",
    "\n",
    "batch_train_loader_new = DataLoader(train_list_new, batch_size=batch_size)"
   ]
  },
  {
   "cell_type": "code",
   "execution_count": null,
   "id": "774fb8f5",
   "metadata": {
    "scrolled": false
   },
   "outputs": [],
   "source": [
    "global_step = 250000\n",
    "image_shape = [16, 4]\n",
    "class_dict = ['cow', 'sheep', 'bird', 'person', 'cat', 'dog', 'horse']\n",
    "for orig_data,new_data in zip(batch_train_loader_orig,batch_train_loader_new):\n",
    " \n",
    "\n",
    "    # For original Model\n",
    "    orig_data.cuda()\n",
    "    node_data_true_orig = orig_data.x\n",
    "    label_true = node_data_true_orig[:,:1]\n",
    "    class_true = orig_data.y\n",
    "    # For new Model\n",
    "    new_data.cuda()\n",
    "    node_data_true_new = new_data.x\n",
    "    for j in range(int(len(node_data_true_orig)/16)):\n",
    "        obj_class = class_dict[int(np.argmax(class_true[7*j:7*(j+1)].detach().to('cpu').numpy()).tolist())]\n",
    "        orig_image = plot_bbx(np.reshape((node_data_true_orig[16*j:16*(j+1),1:]*label_true[16*j:16*(j+1)]).detach().to(\"cpu\").numpy(),\n",
    "                                    image_shape), 660, 6, 660).astype(float)/255\n",
    "        new_image = plot_bbx(np.reshape((node_data_true_new[16*j:16*(j+1),1:]*label_true[16*j:16*(j+1)]).detach().to(\"cpu\").numpy(),\n",
    "                                    image_shape), 100, 1, 102).astype(float)/255\n",
    "        fig = plt.figure(figsize=(10,10))\n",
    "        rows = 1\n",
    "        columns = 2\n",
    "        # Adds a subplot at the 1st position\n",
    "        fig.add_subplot(rows, columns, 1)\n",
    "\n",
    "        # showing image\n",
    "        plt.imshow(orig_image)\n",
    "        plt.axis('off')\n",
    "        plt.title(\"Before Scaling\")\n",
    "\n",
    "        # Adds a subplot at the 3rd position\n",
    "        fig.add_subplot(rows, columns, 2)\n",
    "\n",
    "        # showing image\n",
    "        plt.imshow(new_image)\n",
    "        plt.axis('off')\n",
    "        plt.title(\"After Scaling to 100*100\")\n",
    "        plt.show()\n",
    "        writer.add_figure('/plots/'+obj_class+'/'+str(j),temp, global_step=global_step, close=True, walltime=None)\n",
    "  \n",
    "\n",
    "\n",
    "\n",
    "\n",
    "    "
   ]
  },
  {
   "cell_type": "code",
   "execution_count": null,
   "id": "79344a9b",
   "metadata": {},
   "outputs": [],
   "source": [
    "writer.flush()\n",
    "writer.close()"
   ]
  }
 ],
 "metadata": {
  "kernelspec": {
   "display_name": "Python 3 (ipykernel)",
   "language": "python",
   "name": "python3"
  },
  "language_info": {
   "codemirror_mode": {
    "name": "ipython",
    "version": 3
   },
   "file_extension": ".py",
   "mimetype": "text/x-python",
   "name": "python",
   "nbconvert_exporter": "python",
   "pygments_lexer": "ipython3",
   "version": "3.9.5"
  }
 },
 "nbformat": 4,
 "nbformat_minor": 5
}
