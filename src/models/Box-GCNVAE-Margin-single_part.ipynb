{
 "cells": [
  {
   "cell_type": "code",
   "execution_count": 1,
   "id": "7cfd1439",
   "metadata": {},
   "outputs": [],
   "source": [
    "%load_ext autoreload\n",
    "%autoreload 2"
   ]
  },
  {
   "cell_type": "code",
   "execution_count": 2,
   "id": "5671166e",
   "metadata": {},
   "outputs": [
    {
     "name": "stdout",
     "output_type": "stream",
     "text": [
      "env: CUDA_LAUNCH_BLOCKING=1\n"
     ]
    }
   ],
   "source": [
    "%set_env CUDA_LAUNCH_BLOCKING=1"
   ]
  },
  {
   "cell_type": "code",
   "execution_count": 5,
   "id": "21434d68",
   "metadata": {},
   "outputs": [],
   "source": [
    "import sys\n",
    "import collections\n",
    "import cv2\n",
    "import os\n",
    "import math\n",
    "import random\n",
    "import pickle\n",
    "import copy\n",
    "import numpy as np\n",
    "sys.path.append(\"C:\\\\Users\\\\user\\\\Documents\\\\Workspace\\\\MeronymNet-PyTorch\\\\src\")"
   ]
  },
  {
   "cell_type": "code",
   "execution_count": 6,
   "id": "e88c7fb7",
   "metadata": {},
   "outputs": [],
   "source": [
    "import torch\n",
    "import torch.optim as optim\n",
    "from torch_geometric.data import Data\n",
    "from torch_geometric.utils import dense_to_sparse\n",
    "from torch_geometric.data import DataLoader\n",
    "import torch.utils.data as data_utils\n",
    "from torch.utils.tensorboard import SummaryWriter"
   ]
  },
  {
   "cell_type": "code",
   "execution_count": 37,
   "id": "4e46b5d8",
   "metadata": {},
   "outputs": [],
   "source": [
    "from losses import BoxVAE_losses as loss\n",
    "from components.AutoEncoder import GCNAutoEncoder\n",
    "from components.Decoder import Decoder"
   ]
  },
  {
   "cell_type": "code",
   "execution_count": 8,
   "id": "d19349cb",
   "metadata": {},
   "outputs": [],
   "source": [
    "import matplotlib.pyplot as plt"
   ]
  },
  {
   "cell_type": "code",
   "execution_count": 9,
   "id": "0b59f5f7",
   "metadata": {},
   "outputs": [],
   "source": [
    "from mask_generation import masked_sketch"
   ]
  },
  {
   "cell_type": "code",
   "execution_count": 10,
   "id": "4e512f48",
   "metadata": {},
   "outputs": [],
   "source": [
    "colors = [(1, 0, 0),\n",
    "          (0.737, 0.561, 0.561),\n",
    "          (0.255, 0.412, 0.882),\n",
    "          (0.545, 0.271, 0.0745),\n",
    "          (0.98, 0.502, 0.447),\n",
    "          (0.98, 0.643, 0.376),\n",
    "          (0.18, 0.545, 0.341),\n",
    "          (0.502, 0, 0.502),\n",
    "          (0.627, 0.322, 0.176),\n",
    "          (0.753, 0.753, 0.753),\n",
    "          (0.529, 0.808, 0.922),\n",
    "          (0.416, 0.353, 0.804),\n",
    "          (0.439, 0.502, 0.565),\n",
    "          (0.784, 0.302, 0.565),\n",
    "          (0.867, 0.627, 0.867),\n",
    "          (0, 1, 0.498),\n",
    "          (0.275, 0.51, 0.706),\n",
    "          (0.824, 0.706, 0.549),\n",
    "          (0, 0.502, 0.502),\n",
    "          (0.847, 0.749, 0.847),\n",
    "          (1, 0.388, 0.278),\n",
    "          (0.251, 0.878, 0.816),\n",
    "          (0.933, 0.51, 0.933),\n",
    "          (0.961, 0.871, 0.702)]\n",
    "colors = (np.asarray(colors)*255)\n",
    "canvas_size = 660\n",
    "\n",
    "def plot_bbx(bbx):\n",
    "    bbx = bbx*canvas_size\n",
    "    canvas = np.ones((canvas_size,canvas_size,3), np.uint8) * 255\n",
    "    for i, coord in enumerate(bbx):\n",
    "        x_minp, y_minp,x_maxp , y_maxp = coord[:4]\n",
    "        if [x_minp, y_minp, x_maxp, y_maxp]!=[0,0,0,0]:\n",
    "            cv2.rectangle(canvas, (int(x_minp), int(y_minp)), (int(x_maxp) , int(y_maxp) ), colors[i], 6)\n",
    "    return canvas\n",
    "\n",
    "# def plot_bbx(bbx):\n",
    "#     bbx = bbx*canvas_size\n",
    "#     canvas = np.ones((canvas_size,canvas_size,3), np.uint8) * 255\n",
    "#     for i, coord in enumerate(bbx):\n",
    "#         x, y, w ,h = coord\n",
    "#         if [x, y, w ,h]!=[0,0,0,0]:\n",
    "#             cv2.rectangle(canvas, (int(x), int(y)), (int(x + w) , int(y + h) ), colors[i], 6)\n",
    "#     return canvas\n"
   ]
  },
  {
   "cell_type": "code",
   "execution_count": 11,
   "id": "0381e098",
   "metadata": {},
   "outputs": [],
   "source": [
    "def inference(decoder, nodes, obj_class, latent_dims, batch_size):\n",
    "\n",
    "    decoder.cuda()\n",
    "    z_latent = torch.normal(torch.zeros([batch_size,latent_dims])).cuda()\n",
    "    nodes = torch.reshape(nodes,(batch_size,decoder.num_nodes))\n",
    "    obj_class = torch.reshape(obj_class,(batch_size, decoder.class_size))\n",
    "    conditioned_z = torch.cat([nodes, z_latent],dim=-1)\n",
    "    conditioned_z = torch.cat([obj_class, conditioned_z],dim=-1)\n",
    "    \n",
    "    op = decoder(conditioned_z)\n",
    "        \n",
    "    return op[0], op[1], z_latent"
   ]
  },
  {
   "cell_type": "code",
   "execution_count": 30,
   "id": "3855bd88",
   "metadata": {},
   "outputs": [],
   "source": [
    "file_postfix = '_removed'\n",
    "outfile = 'D:/meronym_data/X_train'+file_postfix+'.np'\n",
    "with open(outfile, 'rb') as pickle_file:\n",
    "    X_train = pickle.load(pickle_file)\n",
    "\n",
    "outfile = 'D:/meronym_data/class_v'+file_postfix+'.np'\n",
    "with open(outfile, 'rb') as pickle_file:\n",
    "    class_v = pickle.load(pickle_file)\n",
    "\n",
    "outfile = 'D:/meronym_data/adj_train'+file_postfix+'.np'\n",
    "with open(outfile, 'rb') as pickle_file:\n",
    "    adj_train = pickle.load(pickle_file)\n",
    "\n",
    "outfile = 'D:/meronym_data/X_train_val'+file_postfix+'.np'\n",
    "with open(outfile, 'rb') as pickle_file:\n",
    "    X_train_val = pickle.load(pickle_file)\n",
    "\n",
    "outfile = 'D:/meronym_data/class_v_val'+file_postfix+'.np'\n",
    "with open(outfile, 'rb') as pickle_file:\n",
    "    class_v_val = pickle.load(pickle_file)\n",
    "    \n",
    "outfile = 'D:/meronym_data/adj_train_val'+file_postfix+'.np'\n",
    "with open(outfile, 'rb') as pickle_file:\n",
    "    adj_train_val = pickle.load(pickle_file)\n",
    "    \n",
    "outfile = 'D:/meronym_data/X_test'+file_postfix+'.np'\n",
    "with open(outfile, 'rb') as pickle_file:\n",
    "    X_test = pickle.load(pickle_file)\n",
    "\n",
    "outfile = 'D:/meronym_data/adj_test'+file_postfix+'.np'\n",
    "with open(outfile, 'rb') as pickle_file:\n",
    "    adj_test = pickle.load(pickle_file)\n",
    "    \n",
    "outfile = 'D:/meronym_data/class_v'+file_postfix+'.np'\n",
    "with open(outfile, 'rb') as pickle_file:\n",
    "    class_v_test = pickle.load(pickle_file)"
   ]
  },
  {
   "cell_type": "raw",
   "id": "9e55bfed",
   "metadata": {},
   "source": [
    "X_train[:, :, 4] = X_train[:, :, 4] - X_train[:, :, 2]\n",
    "X_train[:, :, 3] = X_train[:, :, 3] - X_train[:, :, 1]\n",
    "\n",
    "X_train_val[:, :, 4] = X_train_val[:, :, 4] - X_train_val[:, :, 2]\n",
    "X_train_val[:, :, 3] = X_train_val[:, :, 3] - X_train_val[:, :, 1]\n",
    "\n",
    "X_test[:, :, 4] = X_test[:, :, 4] - X_test[:, :, 2]\n",
    "X_test[:, :, 3] = X_test[:, :, 3] - X_test[:, :, 1]"
   ]
  },
  {
   "cell_type": "code",
   "execution_count": 13,
   "id": "97e68df5",
   "metadata": {},
   "outputs": [],
   "source": [
    "X_train[X_train<=0] = 0\n",
    "X_train_val[X_train_val<=0] = 0\n",
    "X_test[X_test<=0] = 0\n",
    "\n",
    "X_train[X_train>=1] = 1\n",
    "X_train_val[X_train_val>=1] = 1\n",
    "X_test[X_test>=1] = 1"
   ]
  },
  {
   "cell_type": "code",
   "execution_count": 14,
   "id": "a8a9e2a6",
   "metadata": {},
   "outputs": [],
   "source": [
    "area_encoding = False\n",
    "if area_encoding:\n",
    "    size = np.min(X_train[:, :, 1:3], axis=1)-np.max(X_train[:, :, 3:5], axis=1)\n",
    "    area = np.expand_dims(size[:, 0:1]*size[:, 1:], axis=-1)\n",
    "    X_train = np.append(X_train, \n",
    "                        (X_train[:, :, 3:4] - X_train[:, :, 1:2])*(X_train[:, :, 4:] - X_train[:, :, 2:3])/area,\n",
    "                        axis=-1)\n",
    "    size = np.min(X_train_val[:, :, 1:3], axis=1)-np.max(X_train_val[:, :, 3:5], axis=1)\n",
    "    area = np.expand_dims(size[:, 0:1]*size[:, 1:], axis=-1)\n",
    "    X_train_val = np.append(X_train_val,\n",
    "                            (X_train_val[:, :, 3:4] - X_train_val[:, :, 1:2])*(X_train_val[:, :, 4:] - X_train_val[:, :, 2:3])/area,\n",
    "                            axis=-1)    \n",
    "    size = np.min(X_test[:, :, 1:3], axis=1)-np.max(X_test[:, :, 3:5], axis=1)\n",
    "    area = np.expand_dims(size[:, 0:1]*size[:, 1:], axis=-1)\n",
    "    X_test = np.append(X_test, (X_test[:, :, 3:4] - X_test[:, :, 1:2])*(X_test[:, :, 4:] - X_test[:, :, 2:3])/area, axis=-1)    "
   ]
  },
  {
   "cell_type": "code",
   "execution_count": 15,
   "id": "b9bc6392",
   "metadata": {
    "scrolled": true
   },
   "outputs": [
    {
     "name": "stdout",
     "output_type": "stream",
     "text": [
      "(50910, 1, 5)\n",
      "(6720, 1, 5)\n",
      "(10380, 1, 5)\n"
     ]
    }
   ],
   "source": [
    "print(X_train.shape)\n",
    "print(X_train_val.shape)\n",
    "print(X_test.shape)"
   ]
  },
  {
   "cell_type": "code",
   "execution_count": 16,
   "id": "9050a8ad",
   "metadata": {},
   "outputs": [],
   "source": [
    "if len(adj_train.shape)<3:\n",
    "    adj_train = np.expand_dims(adj_train, -1, 1)\n",
    "    print(adj_train.shape)"
   ]
  },
  {
   "cell_type": "code",
   "execution_count": null,
   "id": "27f5d7c1",
   "metadata": {},
   "outputs": [],
   "source": []
  },
  {
   "cell_type": "code",
   "execution_count": 17,
   "id": "7911b483",
   "metadata": {},
   "outputs": [],
   "source": [
    "random.seed(100)\n",
    "train_idx = np.random.randint(1,len(X_train),len(X_train))\n",
    "val_idx = np.random.randint(1,len(X_train_val),len(X_train_val))\n",
    "test_idx = np.random.randint(1,len(X_test),len(X_test))"
   ]
  },
  {
   "cell_type": "code",
   "execution_count": 18,
   "id": "107b2126",
   "metadata": {},
   "outputs": [
    {
     "name": "stderr",
     "output_type": "stream",
     "text": [
      "C:\\Users\\user\\miniconda3\\lib\\site-packages\\torch_geometric\\deprecation.py:13: UserWarning: 'data.DataLoader' is deprecated, use 'loader.DataLoader' instead\n",
      "  warnings.warn(out)\n"
     ]
    }
   ],
   "source": [
    "batch_size = 256\n",
    "seed = 345\n",
    "\n",
    "torch.manual_seed(seed)\n",
    "\n",
    "validation = True\n",
    "if validation:\n",
    "    train_list =[]\n",
    "    for idx, batch in enumerate(zip(copy.deepcopy(X_train[train_idx]),\n",
    "                                    copy.deepcopy(class_v[train_idx]),\n",
    "                                    copy.deepcopy(adj_train[train_idx]))):\n",
    "        edge_index, _ = dense_to_sparse(torch.from_numpy(batch[2]).cuda().float())\n",
    "        train_list.append(Data(x = torch.from_numpy(batch[0]).cuda().float(),\n",
    "                               y = torch.from_numpy(batch[1]).cuda().float(),\n",
    "                               edge_index = edge_index\n",
    "                                    )\n",
    "                         )\n",
    "\n",
    "    batch_train_loader = DataLoader(train_list, batch_size=batch_size)\n",
    "\n",
    "    val_list = []\n",
    "    for idx, batch in enumerate(zip(copy.deepcopy(X_train_val[val_idx]),\n",
    "                                    copy.deepcopy(class_v_val[val_idx]), \n",
    "                                    copy.deepcopy(adj_train_val[val_idx]))):\n",
    "        edge_index, _ = dense_to_sparse(torch.from_numpy(batch[2]).cuda().float())\n",
    "        val_list.append(Data(x = torch.from_numpy(batch[0]).cuda().float(),\n",
    "                             y = torch.from_numpy(batch[1]).cuda().float(),\n",
    "                             edge_index = edge_index\n",
    "                                    )\n",
    "                         )\n",
    "    batch_val_loader = DataLoader(val_list, batch_size=batch_size)\n",
    "else:\n",
    "    train_list =[]\n",
    "    for idx, batch in enumerate(zip(copy.deepcopy(X_train[train_idx]),\n",
    "                                    copy.deepcopy(class_v[train_idx]),\n",
    "                                    copy.deepcopy(adj_train[train_idx]))):\n",
    "        edge_index, _ = dense_to_sparse(torch.from_numpy(batch[2]).cuda())\n",
    "        train_list.append(Data(x = torch.from_numpy(batch[0]).cuda(),\n",
    "                               y = torch.from_numpy(batch[1]).cuda(),\n",
    "                               edge_index = edge_index\n",
    "                                    )\n",
    "                         )\n",
    "    \n",
    "    for idx, batch in enumerate(zip(copy.deepcopy(X_train_val[val_idx]),\n",
    "                                    copy.deepcopy(class_v_val[val_idx]), \n",
    "                                    copy.deepcopy(adj_train_val[val_idx]))):\n",
    "        edge_index, _ = dense_to_sparse(torch.from_numpy(batch[2]).cuda())\n",
    "        train_list.append(Data(x = torch.from_numpy(batch[0]).cuda(),\n",
    "                             y = torch.from_numpy(batch[1]).cuda(),\n",
    "                             edge_index = edge_index\n",
    "                                    )\n",
    "                         )\n",
    "    batch_train_loader = DataLoader(train_list, batch_size=batch_size)\n",
    "    \n",
    "    val_list = []\n",
    "    for idx, batch in enumerate(zip(copy.deepcopy(X_test[test_idx]),\n",
    "                                    copy.deepcopy(class_v_test[test_idx]), \n",
    "                                    copy.deepcopy(adj_test[test_idx]))):\n",
    "        edge_index, _ = dense_to_sparse(torch.from_numpy(batch[2]).cuda())\n",
    "        val_list.append(Data(x = torch.from_numpy(batch[0]).cuda(),\n",
    "                             y = torch.from_numpy(batch[1]).cuda(),\n",
    "                             edge_index = edge_index\n",
    "                                    )\n",
    "                         )\n",
    "    batch_val_loader = DataLoader(val_list, batch_size=batch_size)\n",
    "    "
   ]
  },
  {
   "cell_type": "code",
   "execution_count": 19,
   "id": "e49e0379",
   "metadata": {},
   "outputs": [],
   "source": [
    "del train_list\n",
    "del val_list\n",
    "del X_train\n",
    "del class_v\n",
    "del adj_train\n",
    "del X_train_val\n",
    "del class_v_val\n",
    "del adj_train_val"
   ]
  },
  {
   "cell_type": "code",
   "execution_count": 35,
   "id": "ce7be1a5",
   "metadata": {
    "scrolled": true
   },
   "outputs": [
    {
     "name": "stdout",
     "output_type": "stream",
     "text": [
      "torch.Size([256, 1]) torch.Size([1792])\n",
      "torch.Size([256, 1]) torch.Size([1792])\n",
      "torch.Size([256, 1]) torch.Size([1792])\n"
     ]
    }
   ],
   "source": [
    "idx = 0\n",
    "for data in batch_train_loader:\n",
    "    idx+=1\n",
    "    print(data.x[:,:1].shape, data.y.shape)\n",
    "    if idx==3:\n",
    "        break"
   ]
  },
  {
   "cell_type": "code",
   "execution_count": 24,
   "id": "9cd8d4a6",
   "metadata": {
    "scrolled": false
   },
   "outputs": [],
   "source": [
    "latent_dims = 64\n",
    "num_nodes = 1\n",
    "bbx_size = 4\n",
    "num_classes = 7\n",
    "label_shape = 1\n",
    "nb_epochs = 400\n",
    "klw = loss.frange_cycle_linear(nb_epochs)\n",
    "learning_rate = 0.000016\n",
    "hidden1 = 32\n",
    "hidden2 = 16\n",
    "hidden3 = 128\n",
    "adaptive_margin = True\n",
    "fine_tune_box = False\n",
    "output_log = False\n",
    "area_encoding = False\n",
    "run_prefix = \"adaptive_margin_torso\"\n"
   ]
  },
  {
   "cell_type": "code",
   "execution_count": 25,
   "id": "361b90d9",
   "metadata": {},
   "outputs": [
    {
     "data": {
      "text/plain": [
       "42"
      ]
     },
     "execution_count": 25,
     "metadata": {},
     "output_type": "execute_result"
    }
   ],
   "source": [
    "import gc\n",
    "gc.collect()"
   ]
  },
  {
   "cell_type": "code",
   "execution_count": 26,
   "id": "73f4529b",
   "metadata": {},
   "outputs": [
    {
     "data": {
      "text/plain": [
       "device(type='cuda')"
      ]
     },
     "execution_count": 26,
     "metadata": {},
     "output_type": "execute_result"
    }
   ],
   "source": [
    "device = torch.device('cuda' if torch.cuda.is_available() else 'cpu')\n",
    "device"
   ]
  },
  {
   "cell_type": "code",
   "execution_count": 38,
   "id": "5d41ca05",
   "metadata": {
    "scrolled": true
   },
   "outputs": [
    {
     "ename": "TypeError",
     "evalue": "super(type, obj): obj must be an instance or subtype of type",
     "output_type": "error",
     "traceback": [
      "\u001b[1;31m---------------------------------------------------------------------------\u001b[0m",
      "\u001b[1;31mTypeError\u001b[0m                                 Traceback (most recent call last)",
      "\u001b[1;32m~\\AppData\\Local\\Temp/ipykernel_16476/4179856552.py\u001b[0m in \u001b[0;36m<module>\u001b[1;34m\u001b[0m\n\u001b[0;32m     11\u001b[0m \u001b[0mnode_loss_val_arr\u001b[0m \u001b[1;33m=\u001b[0m \u001b[1;33m[\u001b[0m\u001b[1;33m]\u001b[0m\u001b[1;33m\u001b[0m\u001b[1;33m\u001b[0m\u001b[0m\n\u001b[0;32m     12\u001b[0m \u001b[1;33m\u001b[0m\u001b[0m\n\u001b[1;32m---> 13\u001b[1;33m vae = GCNAutoEncoder(latent_dims,\n\u001b[0m\u001b[0;32m     14\u001b[0m                      \u001b[0mnum_nodes\u001b[0m\u001b[1;33m,\u001b[0m\u001b[1;33m\u001b[0m\u001b[1;33m\u001b[0m\u001b[0m\n\u001b[0;32m     15\u001b[0m                      \u001b[0mbbx_size\u001b[0m\u001b[1;33m,\u001b[0m\u001b[1;33m\u001b[0m\u001b[1;33m\u001b[0m\u001b[0m\n",
      "\u001b[1;32m~\\Documents\\Workspace\\MeronymNet-PyTorch\\src\\components\\AutoEncoder.py\u001b[0m in \u001b[0;36m__init__\u001b[1;34m(self, latent_dims, num_nodes, bbx_size, num_obj_classes, label_size, hidden1, hidden2, hidden3, dynamic_margin, output_log, area_encoding)\u001b[0m\n\u001b[0;32m     38\u001b[0m         \u001b[0mself\u001b[0m\u001b[1;33m.\u001b[0m\u001b[0mbbx_size\u001b[0m \u001b[1;33m=\u001b[0m \u001b[0mbbx_size\u001b[0m\u001b[1;33m\u001b[0m\u001b[1;33m\u001b[0m\u001b[0m\n\u001b[0;32m     39\u001b[0m         \u001b[0mself\u001b[0m\u001b[1;33m.\u001b[0m\u001b[0mnum_obj_classes\u001b[0m \u001b[1;33m=\u001b[0m \u001b[0mnum_obj_classes\u001b[0m\u001b[1;33m\u001b[0m\u001b[1;33m\u001b[0m\u001b[0m\n\u001b[1;32m---> 40\u001b[1;33m         self.encoder = GCNEncoder(latent_dims,\n\u001b[0m\u001b[0;32m     41\u001b[0m                                   \u001b[0mnum_nodes\u001b[0m\u001b[1;33m,\u001b[0m\u001b[1;33m\u001b[0m\u001b[1;33m\u001b[0m\u001b[0m\n\u001b[0;32m     42\u001b[0m                                   \u001b[0mbbx_size\u001b[0m\u001b[1;33m,\u001b[0m\u001b[1;33m\u001b[0m\u001b[1;33m\u001b[0m\u001b[0m\n",
      "\u001b[1;32m~\\Documents\\Workspace\\MeronymNet-PyTorch\\src\\components\\Encoder.py\u001b[0m in \u001b[0;36m__init__\u001b[1;34m(self, latent_dims, num_nodes, bbx_size, label_size, num_obj_classes, hidden1, hidden2, hidden3)\u001b[0m\n\u001b[0;32m     20\u001b[0m                  \u001b[0mhidden3\u001b[0m\u001b[1;33m,\u001b[0m\u001b[1;33m\u001b[0m\u001b[1;33m\u001b[0m\u001b[0m\n\u001b[0;32m     21\u001b[0m                  ):\n\u001b[1;32m---> 22\u001b[1;33m         \u001b[0msuper\u001b[0m\u001b[1;33m(\u001b[0m\u001b[0mGCNEncoder\u001b[0m\u001b[1;33m,\u001b[0m \u001b[0mself\u001b[0m\u001b[1;33m)\u001b[0m\u001b[1;33m.\u001b[0m\u001b[0m__init__\u001b[0m\u001b[1;33m(\u001b[0m\u001b[1;33m)\u001b[0m\u001b[1;33m\u001b[0m\u001b[1;33m\u001b[0m\u001b[0m\n\u001b[0m\u001b[0;32m     23\u001b[0m \u001b[1;33m\u001b[0m\u001b[0m\n\u001b[0;32m     24\u001b[0m         \u001b[0mself\u001b[0m\u001b[1;33m.\u001b[0m\u001b[0mlatent_dims\u001b[0m \u001b[1;33m=\u001b[0m \u001b[0mlatent_dims\u001b[0m\u001b[1;33m\u001b[0m\u001b[1;33m\u001b[0m\u001b[0m\n",
      "\u001b[1;31mTypeError\u001b[0m: super(type, obj): obj must be an instance or subtype of type"
     ]
    }
   ],
   "source": [
    "reconstruction_loss_arr = []\n",
    "kl_loss_arr = []\n",
    "bbox_loss_arr = []\n",
    "adj_loss_arr = []\n",
    "node_loss_arr = []\n",
    "\n",
    "reconstruction_loss_val_arr = []\n",
    "kl_loss_val_arr = []\n",
    "bbox_loss_val_arr = []\n",
    "adj_loss_val_arr = []\n",
    "node_loss_val_arr = []\n",
    "\n",
    "vae = GCNAutoEncoder(latent_dims,\n",
    "                     num_nodes,\n",
    "                     bbx_size,\n",
    "                     num_classes,\n",
    "                     label_shape,\n",
    "                     hidden1,\n",
    "                     hidden2,\n",
    "                     hidden3,\n",
    "                     adaptive_margin,\n",
    "                     output_log,\n",
    "                     area_encoding\n",
    "                    )\n",
    "vae.to(device)\n",
    "optimizer = optim.Adam(vae.parameters(), lr=learning_rate)\n",
    "scheduler = optim.lr_scheduler.MultiStepLR(optimizer, milestones=[150], gamma=0.5)\n",
    "model_path = ('D:/meronym_data/model/'+run_prefix+'/GCN-lr-'\n",
    "                        +str(learning_rate)\n",
    "                        +'-batch-'+str(batch_size)\n",
    "                        +'-h1-'+str(hidden1)\n",
    "                        +'-h2-'+str(hidden2)\n",
    "                        +'-h3-'+str(hidden3)+'-test')\n",
    "summary_path = ('D:/meronym_data/runs/'+run_prefix+'/GCN-lr-'\n",
    "                        +str(learning_rate)\n",
    "                        +'-batch-'+str(batch_size)\n",
    "                        +'-h1-'+str(hidden1)\n",
    "                        +'-h2-'+str(hidden2)\n",
    "                        +'-h3-'+str(hidden3)+'-test')\n",
    "if not os.path.exists(model_path):\n",
    "    os.makedirs(model_path)\n",
    "writer = SummaryWriter(summary_path)\n",
    "icoef = 0\n",
    "\n",
    "for epoch in range(nb_epochs):\n",
    "    \n",
    "    if epoch==50:\n",
    "        fine_tune_box = True\n",
    "    batch_loss = torch.tensor([0.0])\n",
    "    batch_kl_loss = torch.tensor([0.0])\n",
    "    batch_bbox_loss = torch.tensor([0.0])\n",
    "    batch_node_loss = torch.tensor([0.0])\n",
    "    images = []\n",
    "    \n",
    "    vae.train()\n",
    "    i=0\n",
    "    for train_data in batch_train_loader:\n",
    "        node_data_true = train_data.x\n",
    "        label_true = node_data_true[:,:1]\n",
    "        class_true = train_data.y\n",
    "        adj_true = train_data.edge_index\n",
    "        batch = train_data.batch\n",
    "        for param in vae.parameters():\n",
    "            param.grad=None\n",
    "        \n",
    "        output = vae(adj_true, node_data_true, label_true , class_true)\n",
    "        node_data_pred, label_pred, z_mean, z_logvar, margin = output\n",
    "        kl_loss = loss.kl_loss(z_mean, z_logvar)\n",
    "        bbox_loss = loss.bbox_loss(pred_box=node_data_pred, true_box=node_data_true[:,1:], margin=margin)\n",
    "        \n",
    "        kl_weight = klw[icoef]\n",
    "        \n",
    "        if kl_weight>0:\n",
    "            reconstruction_loss = kl_loss*kl_weight + (bbox_loss)*num_nodes*5\n",
    "        else:\n",
    "            reconstruction_loss = (bbox_loss)*num_nodes*5\n",
    "            \n",
    "        reconstruction_loss.backward()\n",
    "        \n",
    "        optimizer.step()\n",
    "        \n",
    "        i+=1\n",
    "      \n",
    "        batch_loss += reconstruction_loss\n",
    "        batch_kl_loss += kl_loss\n",
    "        batch_bbox_loss += bbox_loss\n",
    "    \n",
    "        if i%50==0:\n",
    "            print(i)\n",
    "            global_step = epoch*len(batch_train_loader)+i\n",
    "            \n",
    "            writer.add_scalar(\"Loss/train/reconstruction_loss\", batch_loss.item()/(i+1), global_step)\n",
    "            writer.add_scalar(\"Loss/train/kl_loss\", batch_kl_loss.item()/(i+1), global_step)\n",
    "            writer.add_scalar(\"Loss/train/bbox_loss\", batch_bbox_loss.item()/(i+1), global_step)\n",
    "            \n",
    "    scheduler.step()\n",
    "    global_step = epoch*len(batch_train_loader)+i\n",
    "    image_shape = [num_nodes, bbx_size]\n",
    "\n",
    "    image = plot_bbx(np.reshape((node_data_true[:num_nodes,1:5]).detach().to(\"cpu\").numpy(),\n",
    "                                image_shape)).astype(float)/255\n",
    "    writer.add_image('train/images/input', image, global_step, dataformats='HWC')\n",
    "    image = plot_bbx((node_data_pred[0]).detach().to(\"cpu\").numpy()).astype(float)/255\n",
    "    writer.add_image('train/images/generated', image, global_step, dataformats='HWC')\n",
    "    \n",
    "    reconstruction_loss_arr.append(batch_loss.detach().item()/(i+1))\n",
    "    kl_loss_arr.append(batch_kl_loss.detach().item()/(i+1))\n",
    "    bbox_loss_arr.append(batch_bbox_loss.detach().item()/(i+1))\n",
    "    node_loss_arr.append(batch_node_loss.detach().item()/(i+1))\n",
    "    \n",
    "    print('[%d, %5d] loss: %.3f' %\n",
    "              (epoch + 1, i + 1, batch_loss/(i+1) ))\n",
    "    \n",
    "    batch_loss = torch.tensor([0.0])\n",
    "    batch_kl_loss = torch.tensor([0.0])\n",
    "    batch_bbox_loss = torch.tensor([0.0])\n",
    "    batch_node_loss = torch.tensor([0.0])\n",
    "    images = []\n",
    "    vae.eval()\n",
    "    for i, val_data in enumerate(batch_val_loader, 0):\n",
    "        node_data_true = val_data.x\n",
    "        label_true = node_data_true[:,:1]\n",
    "        class_true = val_data.y\n",
    "        adj_true = val_data.edge_index\n",
    "        batch = val_data.batch\n",
    "        \n",
    "        kl_weight = klw[icoef]\n",
    "        \n",
    "        output = vae(adj_true, node_data_true, label_true , class_true)\n",
    "        \n",
    "        if adaptive_margin:\n",
    "            node_data_pred, label_pred, z_mean, z_logvar, margin = output\n",
    "        else:\n",
    "            node_data_pred, label_pred, z_mean, z_logvar = output\n",
    "            margin = None\n",
    "           \n",
    "        kl_loss = loss.kl_loss(z_mean, z_logvar)\n",
    "        bbox_loss = loss.bbox_loss(pred_box=node_data_pred, true_box=node_data_true[:,1:], margin=margin)\n",
    "    \n",
    "        reconstruction_loss = kl_loss*kl_weight + (bbox_loss)*num_nodes*5\n",
    "        \n",
    "        batch_loss += reconstruction_loss\n",
    "        batch_kl_loss += kl_loss\n",
    "        batch_bbox_loss += bbox_loss\n",
    "    \n",
    "    image = plot_bbx(np.reshape((node_data_true[:num_nodes,1:5]).detach().to(\"cpu\").numpy(),\n",
    "                                image_shape)).astype(float)/255\n",
    "    writer.add_image('val/images/input', image, global_step, dataformats='HWC')\n",
    "    image = plot_bbx((node_data_pred[0]).detach().to(\"cpu\").numpy()).astype(float)/255\n",
    "    writer.add_image('val/images/generated', image, global_step, dataformats='HWC')\n",
    "\n",
    "    reconstruction_loss_val_arr.append(batch_loss.detach().item()/(i+1))\n",
    "    kl_loss_val_arr.append(batch_kl_loss.detach().item()/(i+1))\n",
    "    bbox_loss_val_arr.append(batch_bbox_loss.detach().item()/(i+1))\n",
    "    node_loss_val_arr.append(batch_node_loss.detach().item()/(i+1))\n",
    "    \n",
    "    writer.add_scalar(\"Loss/val/reconstruction_loss\", batch_loss.detach()/(i+1), global_step)\n",
    "    writer.add_scalar(\"Loss/val/kl_loss\", batch_kl_loss.detach()/(i+1), global_step)\n",
    "    writer.add_scalar(\"Loss/val/bbox_loss\", batch_bbox_loss.detach()/(i+1), global_step)\n",
    "       \n",
    "    if epoch%50 == 0:\n",
    "        torch.save(vae.state_dict(), model_path + '/model_weights.pth')\n",
    "\n",
    "    if kl_loss_arr[-1]>0.5 and abs(bbox_loss_arr[-1] - bbox_loss_val_arr[-1]) < 0.02 and bbox_loss_arr[-1]<0.05 and epoch>60:\n",
    "        icoef = icoef + 1  \n",
    "\n",
    "torch.save(vae.state_dict(),model_path + '/model_weights.pth')\n",
    "\n",
    "for i in range(100):    \n",
    "    image = plot_bbx(np.reshape((node_data_true[num_nodes*i:num_nodes*(i+1),1:5]).detach().to(\"cpu\").numpy(),\n",
    "                                    image_shape)).astype(float)/255\n",
    "    writer.add_image('result/images/'+str(i)+'-input', image, global_step, dataformats='HWC')\n",
    "    image = plot_bbx((node_data_pred[i]*label_true[num_nodes*i:num_nodes*(i+1)]).detach().to(\"cpu\").numpy()).astype(float)/255\n",
    "    writer.add_image('result/images/'+str(i)+'-generated', image, global_step, dataformats='HWC')\n",
    "    \n",
    "writer.flush()\n",
    "writer.close()\n",
    "print('Finished Training')"
   ]
  },
  {
   "cell_type": "code",
   "execution_count": 36,
   "id": "6b574aa0",
   "metadata": {},
   "outputs": [
    {
     "data": {
      "text/plain": [
       "torch.Size([256, 5])"
      ]
     },
     "execution_count": 36,
     "metadata": {},
     "output_type": "execute_result"
    }
   ],
   "source": [
    "node_data_true.shape"
   ]
  },
  {
   "cell_type": "code",
   "execution_count": 61,
   "id": "6b72cd01",
   "metadata": {
    "scrolled": true
   },
   "outputs": [],
   "source": [
    "#testing loop\n",
    "model_path = ('D:/meronym_data/model/'+run_prefix+'/GCN-lr-'\n",
    "                        +str(learning_rate)\n",
    "                        +'-batch-'+str(batch_size)\n",
    "                        +'-h1-'+str(hidden1)\n",
    "                        +'-h2-'+str(hidden2)\n",
    "                        +'-h3-'+str(hidden3)+'-test')\n",
    "summary_path = ('D:/meronym_data/runs/'+run_prefix+'/GCN-lr-'\n",
    "                        +str(learning_rate)\n",
    "                        +'-batch-'+str(batch_size)\n",
    "                        +'-h1-'+str(hidden1)\n",
    "                        +'-h2-'+str(hidden2)\n",
    "                        +'-h3-'+str(hidden3)+'-test')\n",
    "\n",
    "class_dict = ['cow', 'sheep', 'bird', 'person', 'cat', 'dog', 'horse', 'aeroplane',\n",
    "              'motorbike', 'bicycle', 'car']\n",
    "count_dict = {'cow':0, 'sheep':0, 'bird':0, 'person':0, 'cat':0, 'dog':0, 'horse':0,\n",
    "              'aeroplane':0, 'motorbike':0, 'bicycle':0, 'car':0}\n",
    "write_tensorboard = False\n",
    "if write_tensorboard:\n",
    "    writer = SummaryWriter(summary_path)\n",
    "\n",
    "vae = GCNAutoEncoder(latent_dims,\n",
    "                     num_nodes,\n",
    "                     bbx_size,\n",
    "                     num_classes,\n",
    "                     label_shape,\n",
    "                     hidden1,\n",
    "                     hidden2,\n",
    "                     hidden3,\n",
    "                     adaptive_margin,\n",
    "                     output_log,\n",
    "                     area_encoding\n",
    "                    )\n",
    "vae.load_state_dict(torch.load(model_path+ '/model_weights.pth'))\n",
    "\n",
    "decoder = vae.decoder\n",
    "image_shape = [num_nodes, bbx_size]\n",
    "global_step = 250000\n",
    "pred_boxes = []\n",
    "classes = []\n",
    "iou_values = []\n",
    "for i, val_data in enumerate(batch_val_loader, 0):\n",
    "    \n",
    "    val_data.cuda()\n",
    "    node_data_true = val_data.x\n",
    "    label_true = node_data_true[:,:1]\n",
    "    class_true = val_data.y\n",
    "    val_batch_size = int(class_true.shape[0]/7)\n",
    "    #output = vae(adj_true, node_data_true, label_true , class_true)\n",
    "    output = inference(decoder, label_true , class_true, latent_dims, val_batch_size)\n",
    "    node_data_pred_test = output[0]\n",
    "    pred_boxes.append((node_data_pred_test*label_true.reshape([int(label_true.shape[0]/num_nodes),num_nodes,1])).detach().to(\"cpu\").numpy())\n",
    "    classes.append(class_true.detach().to(\"cpu\").numpy())\n",
    "    iou_values.append(iou(node_data_true[:,1:], node_data_pred_test).detach().to(\"cpu\").numpy())\n",
    "    if write_tensorboard:\n",
    "        \n",
    "        for j in range(int(len(node_data_true)/num_nodes)):\n",
    "            \n",
    "            obj_class = class_dict[int(np.argmax(class_true[10*j:10*(j+1)].detach().to('cpu').numpy()).tolist())]\n",
    "            if count_dict[obj_class]<10:\n",
    "                print(obj_class, count_dict[obj_class])\n",
    "                image = plot_bbx(np.reshape((node_data_true[num_nodes*j:num_nodes*(j+1),1:]*label_true[num_nodes*j:num_nodes*(j+1)]).detach().to(\"cpu\").numpy(),\n",
    "                                            image_shape)).astype(float)/255\n",
    "                pred_image = plot_bbx((node_data_pred_test[j]*label_true[num_nodes*j:num_nodes*(j+1)]).detach().to(\"cpu\").numpy()).astype(float)/255\n",
    "\n",
    "                writer.add_image('test_result/images/'+obj_class+'/'+str(j)+'-input/', image, global_step, dataformats='HWC')  \n",
    "                writer.add_image('test_result/images/'+obj_class+'/'+str(j)+'-generated/', pred_image, global_step, dataformats='HWC')\n",
    "                count_dict[obj_class]+=1\n",
    "\n",
    "writer.flush()\n",
    "writer.close()\n",
    "    \n"
   ]
  },
  {
   "cell_type": "code",
   "execution_count": 83,
   "id": "9f33425f",
   "metadata": {},
   "outputs": [
    {
     "name": "stdout",
     "output_type": "stream",
     "text": [
      "Class 0: 0.40210626\n",
      "Class 1: 0.3719967\n",
      "Class 2: 0.3465916\n",
      "Class 3: 0.25772068\n",
      "Class 4: 0.3605765\n",
      "Class 5: 0.37384385\n",
      "Class 6: 0.37943795\n"
     ]
    }
   ],
   "source": [
    "boxes_combined = np.concatenate(iou_values)\n",
    "classes_combined = np.concatenate([np.argmax(np.reshape(class_val,\n",
    "                                                        (int(class_val.shape[0]/7),7)),axis=-1) \n",
    "                                   for class_val in classes])\n",
    "\n",
    "for i in range(7):\n",
    "    idxes = np.where(classes_combined==i)[0]\n",
    "    mean_iou = np.mean(boxes_combined[idxes])\n",
    "    print('Class '+str(i)+':',mean_iou)"
   ]
  },
  {
   "cell_type": "code",
   "execution_count": 81,
   "id": "e745da95",
   "metadata": {},
   "outputs": [
    {
     "data": {
      "text/plain": [
       "(6720,)"
      ]
     },
     "execution_count": 81,
     "metadata": {},
     "output_type": "execute_result"
    }
   ],
   "source": []
  },
  {
   "cell_type": "code",
   "execution_count": 48,
   "id": "20599e2e",
   "metadata": {},
   "outputs": [],
   "source": [
    "def iou(true, pred):\n",
    "    zero = torch.tensor([0.0]).cuda()\n",
    "\n",
    "    x1g, y1g, x2g, y2g = torch.tensor_split(true, 4, dim=-1)\n",
    "    x1, y1, x2, y2 = torch.tensor_split(torch.squeeze(pred), 4, dim=-1)\n",
    "    \n",
    "    xA = torch.maximum(x1g, x1)\n",
    "    yA = torch.maximum(y1g, y1)\n",
    "    xB = torch.minimum(x2g, x2)\n",
    "    yB = torch.minimum(y2g, y2)\n",
    "    \n",
    "    w, h = x2g-x1g, y2g-y1g\n",
    "    \n",
    "    \n",
    "    interArea = torch.multiply(torch.maximum(zero,(xB - xA)), \n",
    "                                   torch.maximum(zero, (yB - yA)))\n",
    "    boxAArea = torch.multiply(torch.maximum(zero, (x2g - x1g)),\n",
    "                              torch.maximum(zero, (y2g - y1g)))\n",
    "    boxBArea = torch.multiply(torch.maximum(zero, (x2 - x1)),\n",
    "                                  torch.maximum(zero,(y2 - y1)))\n",
    "    unionArea = boxAArea + boxBArea - interArea\n",
    "    \n",
    "    iouk = interArea / unionArea\n",
    "    \n",
    "    return iouk\n",
    "    "
   ]
  },
  {
   "cell_type": "code",
   "execution_count": 50,
   "id": "234cee7a",
   "metadata": {},
   "outputs": [
    {
     "data": {
      "text/plain": [
       "tensor(0.3684, grad_fn=<MeanBackward0>)"
      ]
     },
     "execution_count": 50,
     "metadata": {},
     "output_type": "execute_result"
    }
   ],
   "source": [
    "IOU_all = iou(node_data_true[:,1:], node_data_pred_test)\n",
    "torch.mean(IOU_all)"
   ]
  },
  {
   "cell_type": "code",
   "execution_count": 41,
   "id": "eac7e5e7",
   "metadata": {},
   "outputs": [
    {
     "data": {
      "text/plain": [
       "torch.Size([256, 1, 4])"
      ]
     },
     "execution_count": 41,
     "metadata": {},
     "output_type": "execute_result"
    }
   ],
   "source": [
    "node_data_pred_test.shape"
   ]
  },
  {
   "cell_type": "code",
   "execution_count": null,
   "id": "e486222c",
   "metadata": {},
   "outputs": [],
   "source": [
    "int(np.argmax(class_true[10*j:10*(j+1)].detach().to('cpu').numpy()).tolist())"
   ]
  },
  {
   "cell_type": "code",
   "execution_count": null,
   "id": "2e7e5b54",
   "metadata": {},
   "outputs": [],
   "source": [
    "outfile = 'D:/meronym_data/generate_boxes.npy'\n",
    "with open(outfile, 'wb') as pickle_file:\n",
    "    pred_boxes = np.concatenate(pred_boxes)\n",
    "    pickle.dump(pred_boxes, pickle_file)\n",
    "outfile = 'D:/meronym_data/generate_boxesobj_class.npy'\n",
    "with open(outfile, 'wb') as pickle_file:\n",
    "    pickle.dump(classes,pickle_file)"
   ]
  },
  {
   "cell_type": "code",
   "execution_count": null,
   "id": "389fec45",
   "metadata": {},
   "outputs": [],
   "source": [
    "import gc\n",
    "gc.collect()"
   ]
  }
 ],
 "metadata": {
  "kernelspec": {
   "display_name": "Python [conda env:root] *",
   "language": "python",
   "name": "conda-root-py"
  },
  "language_info": {
   "codemirror_mode": {
    "name": "ipython",
    "version": 3
   },
   "file_extension": ".py",
   "mimetype": "text/x-python",
   "name": "python",
   "nbconvert_exporter": "python",
   "pygments_lexer": "ipython3",
   "version": "3.8.5"
  }
 },
 "nbformat": 4,
 "nbformat_minor": 5
}
