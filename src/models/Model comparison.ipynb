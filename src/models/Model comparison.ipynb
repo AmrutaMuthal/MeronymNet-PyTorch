{
 "cells": [
  {
   "cell_type": "code",
   "execution_count": 1,
   "id": "7cfd1439",
   "metadata": {},
   "outputs": [],
   "source": [
    "%load_ext autoreload\n",
    "%autoreload 2"
   ]
  },
  {
   "cell_type": "code",
   "execution_count": 2,
   "id": "5671166e",
   "metadata": {},
   "outputs": [
    {
     "name": "stdout",
     "output_type": "stream",
     "text": [
      "env: CUDA_LAUNCH_BLOCKING=1\n"
     ]
    }
   ],
   "source": [
    "%set_env CUDA_LAUNCH_BLOCKING=1"
   ]
  },
  {
   "cell_type": "code",
   "execution_count": 3,
   "id": "21434d68",
   "metadata": {},
   "outputs": [],
   "source": [
    "import sys\n",
    "import cv2\n",
    "import os\n",
    "import math\n",
    "import random\n",
    "import pickle\n",
    "import copy\n",
    "import numpy as np\n",
    "sys.path.append(\"C:\\\\Users\\\\user\\\\Documents\\\\Workspace\\\\MeronymNet-PyTorch\\\\src\")"
   ]
  },
  {
   "cell_type": "code",
   "execution_count": 4,
   "id": "e88c7fb7",
   "metadata": {},
   "outputs": [],
   "source": [
    "import torch\n",
    "import torch.optim as optim\n",
    "from torch_geometric.data import Data\n",
    "from torch_geometric.utils import dense_to_sparse\n",
    "from torch_geometric.data import DataLoader\n",
    "import torch.utils.data as data_utils\n",
    "from torch.utils.tensorboard import SummaryWriter"
   ]
  },
  {
   "cell_type": "code",
   "execution_count": 5,
   "id": "4e46b5d8",
   "metadata": {},
   "outputs": [],
   "source": [
    "from losses import BoxVAE_losses as loss\n",
    "from components.AutoEncoder import GCNAutoEncoder\n",
    "from components.Decoder import Decoder"
   ]
  },
  {
   "cell_type": "code",
   "execution_count": 6,
   "id": "d19349cb",
   "metadata": {},
   "outputs": [],
   "source": [
    "import matplotlib.pyplot as plt"
   ]
  },
  {
   "cell_type": "code",
   "execution_count": 7,
   "id": "0b59f5f7",
   "metadata": {},
   "outputs": [],
   "source": [
    "from mask_generation import masked_sketch"
   ]
  },
  {
   "cell_type": "code",
   "execution_count": 8,
   "id": "4e512f48",
   "metadata": {},
   "outputs": [],
   "source": [
    "colors = [(1, 0, 0),\n",
    "          (0.737, 0.561, 0.561),\n",
    "          (0.255, 0.412, 0.882),\n",
    "          (0.545, 0.271, 0.0745),\n",
    "          (0.98, 0.502, 0.447),\n",
    "          (0.98, 0.643, 0.376),\n",
    "          (0.18, 0.545, 0.341),\n",
    "          (0.502, 0, 0.502),\n",
    "          (0.627, 0.322, 0.176),\n",
    "          (0.753, 0.753, 0.753),\n",
    "          (0.529, 0.808, 0.922),\n",
    "          (0.416, 0.353, 0.804),\n",
    "          (0.439, 0.502, 0.565),\n",
    "          (0.784, 0.302, 0.565),\n",
    "          (0.867, 0.627, 0.867),\n",
    "          (0, 1, 0.498),\n",
    "          (0.275, 0.51, 0.706),\n",
    "          (0.824, 0.706, 0.549),\n",
    "          (0, 0.502, 0.502),\n",
    "          (0.847, 0.749, 0.847),\n",
    "          (1, 0.388, 0.278),\n",
    "          (0.251, 0.878, 0.816),\n",
    "          (0.933, 0.51, 0.933),\n",
    "          (0.961, 0.871, 0.702)]\n",
    "colors = (np.asarray(colors)*255)\n",
    "canvas_size = 660\n",
    "\n",
    "def plot_bbx(bbx):\n",
    "    bbx = bbx*canvas_size\n",
    "    canvas = np.ones((canvas_size,canvas_size,3), np.uint8) * 255\n",
    "    for i, coord in enumerate(bbx):\n",
    "        x_minp, y_minp,x_maxp , y_maxp= coord\n",
    "        if [x_minp, y_minp,x_maxp , y_maxp]!=[0,0,0,0]:\n",
    "            cv2.rectangle(canvas, (int(x_minp), int(y_minp)), (int(x_maxp) , int(y_maxp) ), colors[i], 6)\n",
    "    return canvas\n",
    "\n",
    "# def plot_bbx(bbx):\n",
    "#     bbx = bbx*canvas_size\n",
    "#     canvas = np.ones((canvas_size,canvas_size,3), np.uint8) * 255\n",
    "#     for i, coord in enumerate(bbx):\n",
    "#         x, y, w ,h = coord\n",
    "#         if [x, y, w ,h]!=[0,0,0,0]:\n",
    "#             cv2.rectangle(canvas, (int(x), int(y)), (int(x + w) , int(y + h) ), colors[i], 6)\n",
    "#     return canvas\n"
   ]
  },
  {
   "cell_type": "code",
   "execution_count": 9,
   "id": "0381e098",
   "metadata": {},
   "outputs": [],
   "source": [
    "def inference(decoder, nodes, obj_class, latent_dims, batch_size):\n",
    "\n",
    "    decoder.cuda()\n",
    "    z_latent = torch.normal(torch.zeros([batch_size,latent_dims])).cuda()\n",
    "    nodes = torch.reshape(nodes,(batch_size,decoder.num_nodes))\n",
    "    obj_class = torch.reshape(obj_class,(batch_size, decoder.class_size))\n",
    "    conditioned_z = torch.cat([nodes, z_latent],dim=-1)\n",
    "    conditioned_z = torch.cat([obj_class, conditioned_z],dim=-1)\n",
    "    \n",
    "    output = decoder(conditioned_z)\n",
    "        \n",
    "    return output, z_latent"
   ]
  },
  {
   "cell_type": "code",
   "execution_count": 10,
   "id": "3855bd88",
   "metadata": {},
   "outputs": [],
   "source": [
    "outfile = 'D:/meronym_data/X_train.np'\n",
    "with open(outfile, 'rb') as pickle_file:\n",
    "    X_train = pickle.load(pickle_file)\n",
    "\n",
    "outfile = 'D:/meronym_data/class_v.np'\n",
    "with open(outfile, 'rb') as pickle_file:\n",
    "    class_v = pickle.load(pickle_file)\n",
    "\n",
    "outfile = 'D:/meronym_data/adj_train.np'\n",
    "with open(outfile, 'rb') as pickle_file:\n",
    "    adj_train = pickle.load(pickle_file)\n",
    "\n",
    "outfile = 'D:/meronym_data/X_train_val.np'\n",
    "with open(outfile, 'rb') as pickle_file:\n",
    "    X_train_val = pickle.load(pickle_file)\n",
    "\n",
    "outfile = 'D:/meronym_data/class_v_val.np'\n",
    "with open(outfile, 'rb') as pickle_file:\n",
    "    class_v_val = pickle.load(pickle_file)\n",
    "    \n",
    "outfile = 'D:/meronym_data/adj_train_val.np'\n",
    "with open(outfile, 'rb') as pickle_file:\n",
    "    adj_train_val = pickle.load(pickle_file)\n",
    "    \n",
    "outfile = 'D:/meronym_data/X_test.np'\n",
    "with open(outfile, 'rb') as pickle_file:\n",
    "    X_test = pickle.load(pickle_file)\n",
    "\n",
    "outfile = 'D:/meronym_data/adj_test.np'\n",
    "with open(outfile, 'rb') as pickle_file:\n",
    "    adj_test = pickle.load(pickle_file)\n",
    "    \n",
    "outfile = 'D:/meronym_data/class_v_test.np'\n",
    "with open(outfile, 'rb') as pickle_file:\n",
    "    class_v_test = pickle.load(pickle_file)"
   ]
  },
  {
   "cell_type": "raw",
   "id": "9e55bfed",
   "metadata": {},
   "source": [
    "X_train[:, :, 4] = X_train[:, :, 4] - X_train[:, :, 2]\n",
    "X_train[:, :, 3] = X_train[:, :, 3] - X_train[:, :, 1]\n",
    "\n",
    "X_train_val[:, :, 4] = X_train_val[:, :, 4] - X_train_val[:, :, 2]\n",
    "X_train_val[:, :, 3] = X_train_val[:, :, 3] - X_train_val[:, :, 1]\n",
    "\n",
    "X_test[:, :, 4] = X_test[:, :, 4] - X_test[:, :, 2]\n",
    "X_test[:, :, 3] = X_test[:, :, 3] - X_test[:, :, 1]"
   ]
  },
  {
   "cell_type": "code",
   "execution_count": 11,
   "id": "97e68df5",
   "metadata": {},
   "outputs": [],
   "source": [
    "X_train[X_train<=0] = 0\n",
    "X_train_val[X_train_val<=0] = 0\n",
    "X_test[X_test<=0] = 0\n",
    "\n",
    "X_train[X_train>=1] = 1\n",
    "X_train_val[X_train_val>=1] = 1\n",
    "X_test[X_test>=1] = 1"
   ]
  },
  {
   "cell_type": "code",
   "execution_count": null,
   "id": "a8a9e2a6",
   "metadata": {},
   "outputs": [],
   "source": []
  },
  {
   "cell_type": "code",
   "execution_count": 12,
   "id": "7911b483",
   "metadata": {},
   "outputs": [],
   "source": [
    "random.seed(100)\n",
    "train_idx = np.random.randint(1,len(X_train),len(X_train))\n",
    "val_idx = np.random.randint(1,len(X_train_val),len(X_train_val))\n",
    "test_idx = np.random.randint(1,len(X_test),len(X_test))"
   ]
  },
  {
   "cell_type": "code",
   "execution_count": 13,
   "id": "107b2126",
   "metadata": {},
   "outputs": [
    {
     "name": "stderr",
     "output_type": "stream",
     "text": [
      "C:\\Users\\user\\miniconda3\\lib\\site-packages\\torch_geometric\\deprecation.py:13: UserWarning: 'data.DataLoader' is deprecated, use 'loader.DataLoader' instead\n",
      "  warnings.warn(out)\n"
     ]
    }
   ],
   "source": [
    "batch_size = 128\n",
    "seed = 345\n",
    "\n",
    "torch.manual_seed(seed)\n",
    "\n",
    "validation = True\n",
    "if validation:\n",
    "    train_list =[]\n",
    "    for idx, batch in enumerate(zip(copy.deepcopy(X_train[train_idx]),\n",
    "                                    copy.deepcopy(class_v[train_idx]),\n",
    "                                    copy.deepcopy(adj_train[train_idx]))):\n",
    "        edge_index, _ = dense_to_sparse(torch.from_numpy(batch[2]).cuda().float())\n",
    "        train_list.append(Data(x = torch.from_numpy(batch[0]).cuda().float(),\n",
    "                               y = torch.from_numpy(batch[1]).cuda().float(),\n",
    "                               edge_index = edge_index\n",
    "                                    )\n",
    "                         )\n",
    "\n",
    "    batch_train_loader = DataLoader(train_list, batch_size=batch_size)\n",
    "\n",
    "    val_list = []\n",
    "    for idx, batch in enumerate(zip(copy.deepcopy(X_train_val[val_idx]),\n",
    "                                    copy.deepcopy(class_v_val[val_idx]), \n",
    "                                    copy.deepcopy(adj_train_val[val_idx]))):\n",
    "        edge_index, _ = dense_to_sparse(torch.from_numpy(batch[2]).cuda().float())\n",
    "        val_list.append(Data(x = torch.from_numpy(batch[0]).cuda().float(),\n",
    "                             y = torch.from_numpy(batch[1]).cuda().float(),\n",
    "                             edge_index = edge_index\n",
    "                                    )\n",
    "                         )\n",
    "    batch_val_loader = DataLoader(val_list, batch_size=batch_size)\n",
    "else:\n",
    "    train_list =[]\n",
    "    for idx, batch in enumerate(zip(copy.deepcopy(X_train[train_idx]),\n",
    "                                    copy.deepcopy(class_v[train_idx]),\n",
    "                                    copy.deepcopy(adj_train[train_idx]))):\n",
    "        edge_index, _ = dense_to_sparse(torch.from_numpy(batch[2]).cuda())\n",
    "        train_list.append(Data(x = torch.from_numpy(batch[0]).cuda(),\n",
    "                               y = torch.from_numpy(batch[1]).cuda(),\n",
    "                               edge_index = edge_index\n",
    "                                    )\n",
    "                         )\n",
    "    \n",
    "    for idx, batch in enumerate(zip(copy.deepcopy(X_train_val[val_idx]),\n",
    "                                    copy.deepcopy(class_v_val[val_idx]), \n",
    "                                    copy.deepcopy(adj_train_val[val_idx]))):\n",
    "        edge_index, _ = dense_to_sparse(torch.from_numpy(batch[2]).cuda())\n",
    "        train_list.append(Data(x = torch.from_numpy(batch[0]).cuda(),\n",
    "                             y = torch.from_numpy(batch[1]).cuda(),\n",
    "                             edge_index = edge_index\n",
    "                                    )\n",
    "                         )\n",
    "    batch_train_loader = DataLoader(train_list, batch_size=batch_size)\n",
    "    \n",
    "    val_list = []\n",
    "    for idx, batch in enumerate(zip(copy.deepcopy(X_test[test_idx]),\n",
    "                                    copy.deepcopy(class_v_test[test_idx]), \n",
    "                                    copy.deepcopy(adj_test[test_idx]))):\n",
    "        edge_index, _ = dense_to_sparse(torch.from_numpy(batch[2]).cuda())\n",
    "        val_list.append(Data(x = torch.from_numpy(batch[0]).cuda(),\n",
    "                             y = torch.from_numpy(batch[1]).cuda(),\n",
    "                             edge_index = edge_index\n",
    "                                    )\n",
    "                         )\n",
    "    batch_val_loader = DataLoader(val_list, batch_size=batch_size)\n",
    "    "
   ]
  },
  {
   "cell_type": "code",
   "execution_count": 14,
   "id": "e49e0379",
   "metadata": {
    "scrolled": true
   },
   "outputs": [],
   "source": [
    "del train_list\n",
    "del val_list\n",
    "del X_train\n",
    "del class_v\n",
    "del adj_train\n",
    "del X_train_val\n",
    "del class_v_val\n",
    "del adj_train_val"
   ]
  },
  {
   "cell_type": "code",
   "execution_count": 15,
   "id": "ce7be1a5",
   "metadata": {
    "scrolled": false
   },
   "outputs": [
    {
     "name": "stdout",
     "output_type": "stream",
     "text": [
      "torch.Size([3072, 5])\n",
      "torch.Size([3072, 5])\n",
      "torch.Size([3072, 5])\n"
     ]
    }
   ],
   "source": [
    "idx = 0\n",
    "for data in batch_train_loader:\n",
    "    idx+=1\n",
    "    print(data.x.shape)\n",
    "    if idx==3:\n",
    "        break"
   ]
  },
  {
   "cell_type": "code",
   "execution_count": 18,
   "id": "9cd8d4a6",
   "metadata": {
    "scrolled": false
   },
   "outputs": [],
   "source": [
    "latent_dims = 64\n",
    "batch_size = 128\n",
    "num_nodes = 24\n",
    "bbx_size = 4\n",
    "num_classes = 10\n",
    "label_shape = 1\n",
    "nb_epochs = 300\n",
    "klw = loss.frange_cycle_linear(nb_epochs)\n",
    "learning_rate = 0.00008\n",
    "hidden1 = 32\n",
    "hidden2 = 16\n",
    "hidden3 = 128\n",
    "run_prefix = \"model_comparison\"\n",
    "model_run_prefix = \"dynamic_margin_no_class_no_adj\""
   ]
  },
  {
   "cell_type": "code",
   "execution_count": 17,
   "id": "361b90d9",
   "metadata": {},
   "outputs": [
    {
     "data": {
      "text/plain": [
       "90"
      ]
     },
     "execution_count": 17,
     "metadata": {},
     "output_type": "execute_result"
    }
   ],
   "source": [
    "import gc\n",
    "gc.collect()"
   ]
  },
  {
   "cell_type": "code",
   "execution_count": 19,
   "id": "6b72cd01",
   "metadata": {},
   "outputs": [],
   "source": [
    "#testing loop\n",
    "model_path = ('D:/meronym_data/model/'+model_run_prefix+'/GCN-lr-'\n",
    "                        +str(learning_rate)\n",
    "                        +'-batch-'+str(batch_size)\n",
    "                        +'-h1-'+str(hidden1)\n",
    "                        +'-h2-'+str(hidden2)\n",
    "                        +'-h3-'+str(hidden3)+'-test')\n",
    "summary_path = ('D:/meronym_data/runs/'+run_prefix+'/GCN-lr-'\n",
    "                        +str(learning_rate)\n",
    "                        +'-batch-'+str(batch_size)\n",
    "                        +'-h1-'+str(hidden1)\n",
    "                        +'-h2-'+str(hidden2)\n",
    "                        +'-h3-'+str(hidden3)+'-test')\n",
    "write_tensorboard = True\n",
    "if write_tensorboard:\n",
    "    writer = SummaryWriter(summary_path)\n",
    "\n",
    "vae = GCNAutoEncoder(latent_dims,num_nodes,bbx_size,num_classes,label_shape,hidden1, hidden2, hidden3)\n",
    "vae.load_state_dict(torch.load(model_path+ '/model_weights.pth'))\n",
    "\n",
    "decoder = vae.decoder\n",
    "image_shape = [num_nodes, bbx_size]\n",
    "global_step = 250000\n",
    "pred_boxes = []\n",
    "classes = []\n",
    "for i, val_data in enumerate(batch_val_loader, 0):\n",
    "    \n",
    "    val_data.cuda()\n",
    "    node_data_true = val_data.x\n",
    "    label_true = node_data_true[:,:1]\n",
    "    class_true = val_data.y\n",
    "    val_batch_size = int(class_true.shape[0]/10)\n",
    "    output = inference(decoder, label_true , class_true, latent_dims, val_batch_size)\n",
    "    node_data_pred_test = output[0]\n",
    "    pred_boxes.append((node_data_pred_test*label_true.reshape([int(label_true.shape[0]/24),24,1])).detach().to(\"cpu\").numpy())\n",
    "    classes.append(class_true.detach().to(\"cpu\").numpy())\n",
    "\n",
    "if write_tensorboard:\n",
    "    \n",
    "    for i in range(int(len(node_data_true)/24)):    \n",
    "        image = plot_bbx(np.reshape((node_data_true[24*i:24*(i+1),1:]*label_true[24*i:24*(i+1)]).detach().to(\"cpu\").numpy(),\n",
    "                                    image_shape)).astype(float)/255\n",
    "        pred_image = plot_bbx((node_data_pred_test[i]*label_true[24*i:24*(i+1)]).detach().to(\"cpu\").numpy()).astype(float)/255\n",
    "        pred_boxes.append((node_data_pred_test[i]*label_true[24*i:24*(i+1)]).detach().to(\"cpu\").numpy())\n",
    "\n",
    "        writer.add_image('test_result/images/'+str(i)+'-input/', image, global_step, dataformats='HWC')  \n",
    "        writer.add_image('test_result/images/'+str(i)+'-generated/', pred_image, global_step, dataformats='HWC')\n",
    "\n",
    "    writer.flush()\n",
    "    writer.close()"
   ]
  },
  {
   "cell_type": "code",
   "execution_count": 20,
   "id": "65b6ab77",
   "metadata": {},
   "outputs": [],
   "source": [
    "#testing loop\n",
    "latent_dims = 64\n",
    "batch_size = 128\n",
    "num_nodes = 24\n",
    "bbx_size = 4\n",
    "num_classes = 10\n",
    "label_shape = 1\n",
    "nb_epochs = 300\n",
    "klw = loss.frange_cycle_linear(nb_epochs)\n",
    "learning_rate = 0.000082\n",
    "hidden1 = 32\n",
    "hidden2 = 16\n",
    "hidden3 = 128\n",
    "model_run_prefix = \"dynamic_margin_15_300_ep\"\n",
    "model_path = ('D:/meronym_data/model/'+model_run_prefix+'/GCN-lr-'\n",
    "                        +str(learning_rate)\n",
    "                        +'-batch-'+str(batch_size)\n",
    "                        +'-h1-'+str(hidden1)\n",
    "                        +'-h2-'+str(hidden2)\n",
    "                        +'-h3-'+str(hidden3)+'-test')\n",
    "summary_path = ('D:/meronym_data/runs/'+run_prefix+'/GCN-lr-'\n",
    "                        +str(learning_rate)\n",
    "                        +'-batch-'+str(batch_size)\n",
    "                        +'-h1-'+str(hidden1)\n",
    "                        +'-h2-'+str(hidden2)\n",
    "                        +'-h3-'+str(hidden3)+'-test')\n",
    "write_tensorboard = True\n",
    "if write_tensorboard:\n",
    "    writer = SummaryWriter(summary_path)\n",
    "\n",
    "vae = GCNAutoEncoder(latent_dims,num_nodes,bbx_size,num_classes,label_shape,hidden1, hidden2, hidden3)\n",
    "vae.load_state_dict(torch.load(model_path+ '/model_weights.pth'))\n",
    "\n",
    "decoder = vae.decoder\n",
    "image_shape = [num_nodes, bbx_size]\n",
    "global_step = 250000\n",
    "pred_boxes = []\n",
    "classes = []\n",
    "for i, val_data in enumerate(batch_val_loader, 0):\n",
    "    \n",
    "    val_data.cuda()\n",
    "    node_data_true = val_data.x\n",
    "    label_true = node_data_true[:,:1]\n",
    "    class_true = val_data.y\n",
    "    val_batch_size = int(class_true.shape[0]/10)\n",
    "    output = inference(decoder, label_true , class_true, latent_dims, val_batch_size)\n",
    "    node_data_pred_test = output[0]\n",
    "    pred_boxes.append((node_data_pred_test*label_true.reshape([int(label_true.shape[0]/24),24,1])).detach().to(\"cpu\").numpy())\n",
    "    classes.append(class_true.detach().to(\"cpu\").numpy())\n",
    "\n",
    "if write_tensorboard:\n",
    "    \n",
    "    for i in range(int(len(node_data_true)/24)):    \n",
    "        image = plot_bbx(np.reshape((node_data_true[24*i:24*(i+1),1:]*label_true[24*i:24*(i+1)]).detach().to(\"cpu\").numpy(),\n",
    "                                    image_shape)).astype(float)/255\n",
    "        pred_image = plot_bbx((node_data_pred_test[i]*label_true[24*i:24*(i+1)]).detach().to(\"cpu\").numpy()).astype(float)/255\n",
    "        pred_boxes.append((node_data_pred_test[i]*label_true[24*i:24*(i+1)]).detach().to(\"cpu\").numpy())\n",
    "\n",
    "        writer.add_image('test_result/images/'+str(i)+'-generated/', pred_image, global_step, dataformats='HWC')\n",
    "\n",
    "    writer.flush()\n",
    "    writer.close()"
   ]
  },
  {
   "cell_type": "code",
   "execution_count": 21,
   "id": "e486222c",
   "metadata": {},
   "outputs": [],
   "source": [
    "#testing loop\n",
    "latent_dims = 64\n",
    "batch_size = 128\n",
    "num_nodes = 24\n",
    "bbx_size = 4\n",
    "num_classes = 10\n",
    "label_shape = 1\n",
    "nb_epochs = 300\n",
    "klw = loss.frange_cycle_linear(nb_epochs)\n",
    "learning_rate = 0.00006\n",
    "hidden1 = 32\n",
    "hidden2 = 16\n",
    "hidden3 = 128\n",
    "model_run_prefix = \"old_box_loss\"\n",
    "model_path = ('D:/meronym_data/model/'+model_run_prefix+'/GCN-lr-'\n",
    "                        +str(learning_rate)\n",
    "                        +'-batch-'+str(batch_size)\n",
    "                        +'-h1-'+str(hidden1)\n",
    "                        +'-h2-'+str(hidden2)\n",
    "                        +'-h3-'+str(hidden3)+'-test')\n",
    "summary_path = ('D:/meronym_data/runs/'+run_prefix+'/GCN-lr-'\n",
    "                        +str(learning_rate)\n",
    "                        +'-batch-'+str(batch_size)\n",
    "                        +'-h1-'+str(hidden1)\n",
    "                        +'-h2-'+str(hidden2)\n",
    "                        +'-h3-'+str(hidden3)+'-test')\n",
    "write_tensorboard = True\n",
    "if write_tensorboard:\n",
    "    writer = SummaryWriter(summary_path)\n",
    "\n",
    "vae = GCNAutoEncoder(latent_dims,num_nodes,bbx_size,num_classes,label_shape,hidden1, hidden2, hidden3)\n",
    "vae.load_state_dict(torch.load(model_path+ '/model_weights.pth'))\n",
    "\n",
    "decoder = vae.decoder\n",
    "image_shape = [num_nodes, bbx_size]\n",
    "global_step = 250000\n",
    "pred_boxes = []\n",
    "classes = []\n",
    "for i, val_data in enumerate(batch_val_loader, 0):\n",
    "    \n",
    "    val_data.cuda()\n",
    "    node_data_true = val_data.x\n",
    "    label_true = node_data_true[:,:1]\n",
    "    class_true = val_data.y\n",
    "    val_batch_size = int(class_true.shape[0]/10)\n",
    "    output = inference(decoder, label_true , class_true, latent_dims, val_batch_size)\n",
    "    node_data_pred_test = output[0]\n",
    "    pred_boxes.append((node_data_pred_test*label_true.reshape([int(label_true.shape[0]/24),24,1])).detach().to(\"cpu\").numpy())\n",
    "    classes.append(class_true.detach().to(\"cpu\").numpy())\n",
    "\n",
    "if write_tensorboard:\n",
    "    \n",
    "    for i in range(int(len(node_data_true)/24)):    \n",
    "        image = plot_bbx(np.reshape((node_data_true[24*i:24*(i+1),1:]*label_true[24*i:24*(i+1)]).detach().to(\"cpu\").numpy(),\n",
    "                                    image_shape)).astype(float)/255\n",
    "        pred_image = plot_bbx((node_data_pred_test[i]*label_true[24*i:24*(i+1)]).detach().to(\"cpu\").numpy()).astype(float)/255\n",
    "        pred_boxes.append((node_data_pred_test[i]*label_true[24*i:24*(i+1)]).detach().to(\"cpu\").numpy())\n",
    "\n",
    "        writer.add_image('test_result/images/'+str(i)+'-generated/', pred_image, global_step, dataformats='HWC')\n",
    "\n",
    "    writer.flush()\n",
    "    writer.close()"
   ]
  },
  {
   "cell_type": "code",
   "execution_count": null,
   "id": "2e7e5b54",
   "metadata": {},
   "outputs": [],
   "source": [
    "outfile = 'D:/meronym_data/generate_boxes.npy'\n",
    "with open(outfile, 'wb') as pickle_file:\n",
    "    pred_boxes = np.concatenate(pred_boxes)\n",
    "    pickle.dump(pred_boxes, pickle_file)\n",
    "outfile = 'D:/meronym_data/generate_boxesobj_class.npy'\n",
    "with open(outfile, 'wb') as pickle_file:\n",
    "    pickle.dump(classes,pickle_file)"
   ]
  },
  {
   "cell_type": "code",
   "execution_count": null,
   "id": "389fec45",
   "metadata": {},
   "outputs": [],
   "source": [
    "import gc\n",
    "gc.collect()"
   ]
  }
 ],
 "metadata": {
  "kernelspec": {
   "display_name": "Python [conda env:root] *",
   "language": "python",
   "name": "conda-root-py"
  },
  "language_info": {
   "codemirror_mode": {
    "name": "ipython",
    "version": 3
   },
   "file_extension": ".py",
   "mimetype": "text/x-python",
   "name": "python",
   "nbconvert_exporter": "python",
   "pygments_lexer": "ipython3",
   "version": "3.8.5"
  }
 },
 "nbformat": 4,
 "nbformat_minor": 5
}
