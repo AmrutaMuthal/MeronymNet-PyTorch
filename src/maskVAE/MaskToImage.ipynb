{
 "cells": [
  {
   "cell_type": "code",
   "execution_count": 1,
   "id": "998e9672",
   "metadata": {},
   "outputs": [],
   "source": [
    "from typing_extensions import final\n",
    "import numpy as np\n",
    "import matplotlib.pyplot as plt\n",
    "import pickle\n",
    "from IPython.display import clear_output\n",
    "import math\n",
    "import sys\n",
    "import cv2\n",
    "import os\n",
    "from PIL import Image"
   ]
  },
  {
   "cell_type": "code",
   "execution_count": null,
   "id": "f0584f10",
   "metadata": {},
   "outputs": [],
   "source": [
    "np.exp()"
   ]
  },
  {
   "cell_type": "code",
   "execution_count": 13,
   "id": "7343f660",
   "metadata": {},
   "outputs": [],
   "source": [
    "label_to_color ={0: (1,1,1),\n",
    " 1: (1, 0, 0),\n",
    " 2: (0.737, 0.561, 0.561),\n",
    " 3: (0.255, 0.412, 0.882),\n",
    " 4: (0.545, 0.271, 0.0745),\n",
    " 5: (0.98, 0.502, 0.447),\n",
    " 6: (0.98, 0.643, 0.376),\n",
    " 7: (0.18, 0.545, 0.341),\n",
    " 8: (0.502, 0, 0.502),\n",
    " 9: (0.627, 0.322, 0.176),\n",
    " 10:(0.753, 0.753, 0.753),\n",
    " 11:(0.529, 0.808, 0.922),\n",
    " 12:(0.416, 0.353, 0.804),\n",
    " 13:(0.439, 0.502, 0.565),\n",
    " 14:(0.784, 0.302, 0.565),\n",
    " 15:(0.867, 0.627, 0.867),\n",
    " 16:(0, 1, 0.498),\n",
    " 17:(0.275, 0.51, 0.706),\n",
    " 18:(0.824, 0.706, 0.549),\n",
    " 19:(0, 0.502, 0.502),\n",
    " 20:(0.847, 0.749, 0.847),\n",
    " 21:(1, 0.388, 0.278),\n",
    " 22:(0.251, 0.878, 0.816),\n",
    " 23:(0.933, 0.51, 0.933),\n",
    " 24:(0.961, 0.871, 0.702)}\n",
    "\n",
    "\n",
    "def arrangement(a, b, object_name):\n",
    "    if object_name=='cow' or object_name=='sheep':\n",
    "        p = [10, 11, 13, 12, 14, 15, 8, 9, 0, 7, 3, 4, 5, 6, 1, 2]\n",
    "    elif object_name=='bird':\n",
    "        p = [13, 14, 15, 4, 12, 8, 9, 10, 11, 5, 6, 7, 0, 1, 2, 3]\n",
    "    elif object_name=='person':\n",
    "        p = [10, 11, 13, 12, 15, 14, 9, 0, 7, 8, 5, 6, 1, 2, 3, 4]\n",
    "    elif object_name=='cat':\n",
    "        p = [6, 7, 8, 9, 10, 11, 12, 13, 14, 15, 0, 1, 2, 3, 4, 5]\n",
    "    elif object_name=='dog':\n",
    "        p = [6, 7, 8, 9, 10, 11, 12, 13, 14, 15, 0, 1, 2, 3, 4, 5]\n",
    "    elif object_name=='horse':\n",
    "        p = [10, 11, 13, 12, 14, 15, 8, 9, 0, 7, 3, 4, 5, 6, 1, 2]\n",
    "    else:\n",
    "      print(\"error\")\n",
    "    return a[p], b[p], p\n",
    "\n",
    "def label_2_image(img):\n",
    "  rgb_img = np.zeros((img.shape[0],img.shape[1], 3)) \n",
    "  for key in label_to_color.keys():\n",
    "      rgb_img[img == key] = label_to_color[key]\n",
    "  return rgb_img"
   ]
  },
  {
   "cell_type": "code",
   "execution_count": 129,
   "id": "591f392e",
   "metadata": {},
   "outputs": [],
   "source": [
    "def mask_to_canvas(masks, bbx, obj_class, img_idx, prefix):\n",
    "    max_num_nodes=16\n",
    "    canvas_size=550\n",
    "    class_dict = {0:'cow',1:'sheep',2:'bird',3:'person',4:'cat',5:'dog',6:'horse'}\n",
    "    obj = class_dict[np.argmax(obj_class)]\n",
    "    canvas = np.zeros((canvas_size, canvas_size), dtype= 'float32')\n",
    "    bb_in, mmx, mapping = arrangement(bbx, masks, class_dict[np.argmax(obj_class)])\n",
    "    for i in range(max_num_nodes):\n",
    "        index = 0\n",
    "        if(bb_in[i] != np.array([0, 0, 0, 0, 0])).all():\n",
    "            index = mapping[i]\n",
    "            _, x_min, y_min, x_max, y_max = np.round(bb_in[i]*canvas_size)           \n",
    "            if(x_min > x_max):\n",
    "                x_max, x_min = x_min, x_max\n",
    "            if(y_min > y_max):\n",
    "                y_max, y_min = y_min, y_max\n",
    "            if x_max-x_min >=1 and y_max-y_min>=1:\n",
    "                x, y = int(x_max-x_min), int(y_max-y_min)\n",
    "                gen_mask = np.zeros((64, 64))\n",
    "                gen_mask[np.where(np.squeeze(mmx[i])>=0.45)] = (i+1)\n",
    "                canvas[int(y_min):int(y_max), int(x_min):int(x_max)] = np.maximum(canvas[int(y_min):int(y_max), int(x_min):int(x_max)],\n",
    "                                                                                  cv2.resize(gen_mask, (x, y)))\n",
    "\n",
    "    sza = 10\n",
    "    plt.figure(num=None, figsize=(sza, sza))\n",
    "    plt.axis('off')\n",
    "    plt.imshow(label_2_image(canvas))\n",
    "    plt.savefig('D:/meronym_data/runs/mask_generation_model_tf2_reconstruction/lr00001/maskResults/'+obj+'/'+str(img_idx)+ '_'+prefix+'.png')\n",
    "    plt.close()"
   ]
  },
  {
   "cell_type": "code",
   "execution_count": 55,
   "id": "7fe87fe2",
   "metadata": {},
   "outputs": [],
   "source": [
    "class_dict = {0:'cow',1:'sheep',2:'bird',3:'person',4:'cat',5:'dog',6:'horse'}\n",
    "for key, value in class_dict.items():\n",
    "    path = 'D:/meronym_data/runs/mask_generation_model_tf2_reconstruction/lr00001/maskResults/'+value+'/'\n",
    "    \n",
    "    if not os.path.isdir(path):\n",
    "        os.mkdir(path)"
   ]
  },
  {
   "cell_type": "code",
   "execution_count": 21,
   "id": "1f0fccca",
   "metadata": {},
   "outputs": [],
   "source": [
    "file_postfix = '_combined_mask_data'\n",
    "\n",
    "outfile = 'D:/meronym_data/genearted_masks.npy'\n",
    "with open(outfile, 'rb') as pickle_file:\n",
    "    masks_gen_val = pickle.load(pickle_file)\n",
    "\n",
    "outfile = 'D:/meronym_data/X_val'+file_postfix+'.np'\n",
    "with open(outfile, 'rb') as pickle_file:\n",
    "    X_train_val = pickle.load(pickle_file)\n",
    "\n",
    "outfile = 'D:/meronym_data/class_v_val'+file_postfix+'.np'\n",
    "with open(outfile, 'rb') as pickle_file:\n",
    "    class_v_val = pickle.load(pickle_file)\n",
    "\n",
    "outfile = 'D:/meronym_data/masks_val'+file_postfix+'.np'\n",
    "with open(outfile, 'rb') as pickle_file:\n",
    "    masks_val = pickle.load(pickle_file)"
   ]
  },
  {
   "cell_type": "code",
   "execution_count": 130,
   "id": "b5fa40c1",
   "metadata": {
    "scrolled": true
   },
   "outputs": [
    {
     "name": "stdout",
     "output_type": "stream",
     "text": [
      "None\n",
      "None\n",
      "None\n",
      "None\n",
      "None\n",
      "None\n",
      "None\n",
      "None\n",
      "None\n",
      "None\n"
     ]
    }
   ],
   "source": [
    "prefix = 'gen'\n",
    "for idx, (msk, bbx, obj_cls) in enumerate(zip(masks_gen_val[:10], X_train_val[:10], class_v_val[:10])):\n",
    "    mask_to_canvas(msk, bbx, obj_cls, idx, prefix)"
   ]
  }
 ],
 "metadata": {
  "kernelspec": {
   "display_name": "Python [conda env:root] *",
   "language": "python",
   "name": "conda-root-py"
  },
  "language_info": {
   "codemirror_mode": {
    "name": "ipython",
    "version": 3
   },
   "file_extension": ".py",
   "mimetype": "text/x-python",
   "name": "python",
   "nbconvert_exporter": "python",
   "pygments_lexer": "ipython3",
   "version": "3.8.5"
  }
 },
 "nbformat": 4,
 "nbformat_minor": 5
}
